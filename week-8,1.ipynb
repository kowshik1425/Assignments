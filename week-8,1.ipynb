{
 "cells": [
  {
   "cell_type": "code",
   "execution_count": null,
   "id": "302b175e",
   "metadata": {},
   "outputs": [],
   "source": [
    "Q1"
   ]
  },
  {
   "cell_type": "code",
   "execution_count": 7,
   "id": "6c0c21ad",
   "metadata": {},
   "outputs": [
    {
     "name": "stdout",
     "output_type": "stream",
     "text": [
      "array list: <class 'numpy.str_'>\n",
      "array list: <class 'numpy.str_'>\n",
      "array list: <class 'numpy.str_'>\n",
      "array list: <class 'numpy.str_'>\n",
      "array list: <class 'numpy.str_'>\n",
      "list: <class 'str'>\n",
      "list: <class 'str'>\n",
      "list: <class 'str'>\n",
      "list: <class 'str'>\n",
      "list: <class 'str'>\n"
     ]
    }
   ],
   "source": [
    "#Yes, there is a difference in the data type of the list_ variable and the array_list variable. The list_ variable is a Python list, whereas the array_list variable is a NumPy array.\n",
    "import numpy as np\n",
    "list_=['1','2','3','4','5']\n",
    "array_list=np.array(object=list_)\n",
    "\n",
    "for i in array_list:\n",
    "    print(\"array list:\",type(i))\n",
    "for j in list_:\n",
    "    print(\"list:\",type(j))\n"
   ]
  },
  {
   "cell_type": "code",
   "execution_count": null,
   "id": "5717c291",
   "metadata": {},
   "outputs": [],
   "source": [
    "Q2"
   ]
  },
  {
   "cell_type": "code",
   "execution_count": 8,
   "id": "5485e4f6",
   "metadata": {},
   "outputs": [
    {
     "name": "stdout",
     "output_type": "stream",
     "text": [
      "array list: <class 'numpy.str_'>\n",
      "array list: <class 'numpy.str_'>\n",
      "array list: <class 'numpy.str_'>\n",
      "array list: <class 'numpy.str_'>\n",
      "array list: <class 'numpy.str_'>\n",
      "list: <class 'str'>\n",
      "list: <class 'str'>\n",
      "list: <class 'str'>\n",
      "list: <class 'str'>\n",
      "list: <class 'str'>\n"
     ]
    }
   ],
   "source": [
    "import numpy as np\n",
    "list=['1','2','3','4','5']\n",
    "array_list=np.array(object=list)\n",
    "\n",
    "for i in array_list:\n",
    "    print(\"array list:\",type(i))\n",
    "for j in list:\n",
    "    print(\"list:\",type(j))\n"
   ]
  },
  {
   "cell_type": "code",
   "execution_count": null,
   "id": "e19d10d8",
   "metadata": {},
   "outputs": [],
   "source": [
    "Q3"
   ]
  },
  {
   "cell_type": "code",
   "execution_count": 13,
   "id": "e76e227a",
   "metadata": {},
   "outputs": [
    {
     "name": "stdout",
     "output_type": "stream",
     "text": [
      "[1 2 3 4 5]\n",
      "array list: <class 'numpy.int32'>\n",
      "array list: <class 'numpy.int32'>\n",
      "array list: <class 'numpy.int32'>\n",
      "array list: <class 'numpy.int32'>\n",
      "array list: <class 'numpy.int32'>\n",
      "list: <class 'str'>\n",
      "list: <class 'str'>\n",
      "list: <class 'str'>\n",
      "list: <class 'str'>\n",
      "list: <class 'str'>\n"
     ]
    }
   ],
   "source": [
    "#Yes, there will be a difference in the data type of the elements present in the list_ variable and the array_list variable when you explicitly specify the dtype as int while creating the NumPy array array_list.\n",
    "import numpy as np\n",
    "list_=['1','2','3','4','5']\n",
    "array_list = np.array(object = list_, dtype = int)\n",
    "print(array_list)\n",
    "for i in array_list:\n",
    "    print(\"array list:\",type(i))\n",
    "for j in list_:\n",
    "    print(\"list:\",type(j))\n"
   ]
  },
  {
   "cell_type": "code",
   "execution_count": null,
   "id": "fa8fbf8d",
   "metadata": {},
   "outputs": [],
   "source": [
    "Q4"
   ]
  },
  {
   "cell_type": "code",
   "execution_count": 19,
   "id": "5cbddf80",
   "metadata": {},
   "outputs": [
    {
     "name": "stdout",
     "output_type": "stream",
     "text": [
      "(2, 3)\n",
      "6\n"
     ]
    }
   ],
   "source": [
    "import numpy as np\n",
    "num_list = [ [ 1 , 2 , 3 ] , [ 4 , 5 , 6 ] ]\n",
    "num_array = np.array(object = num_list)\n",
    "shape=num_array.shape\n",
    "print(shape)\n",
    "size=num_array.size\n",
    "print(size)"
   ]
  },
  {
   "cell_type": "code",
   "execution_count": null,
   "id": "1b6b1f9a",
   "metadata": {},
   "outputs": [],
   "source": [
    "Q5"
   ]
  },
  {
   "cell_type": "code",
   "execution_count": 20,
   "id": "48f04d6b",
   "metadata": {},
   "outputs": [
    {
     "name": "stdout",
     "output_type": "stream",
     "text": [
      "[[0. 0. 0.]\n",
      " [0. 0. 0.]\n",
      " [0. 0. 0.]]\n"
     ]
    }
   ],
   "source": [
    "import numpy as np\n",
    "zeros_matrix = np.zeros((3, 3))\n",
    "print(zeros_matrix)\n"
   ]
  },
  {
   "cell_type": "code",
   "execution_count": null,
   "id": "30626368",
   "metadata": {},
   "outputs": [],
   "source": [
    "Q6"
   ]
  },
  {
   "cell_type": "code",
   "execution_count": 22,
   "id": "3996d4c7",
   "metadata": {},
   "outputs": [
    {
     "name": "stdout",
     "output_type": "stream",
     "text": [
      "[[1. 0. 0. 0.]\n",
      " [0. 1. 0. 0.]\n",
      " [0. 0. 1. 0.]\n",
      " [0. 0. 0. 1.]]\n"
     ]
    }
   ],
   "source": [
    "import numpy as np\n",
    "identity_matrix = np.eye(4)\n",
    "print(identity_matrix)\n"
   ]
  },
  {
   "cell_type": "code",
   "execution_count": null,
   "id": "92238c17",
   "metadata": {},
   "outputs": [],
   "source": []
  }
 ],
 "metadata": {
  "kernelspec": {
   "display_name": "Python 3 (ipykernel)",
   "language": "python",
   "name": "python3"
  },
  "language_info": {
   "codemirror_mode": {
    "name": "ipython",
    "version": 3
   },
   "file_extension": ".py",
   "mimetype": "text/x-python",
   "name": "python",
   "nbconvert_exporter": "python",
   "pygments_lexer": "ipython3",
   "version": "3.9.13"
  }
 },
 "nbformat": 4,
 "nbformat_minor": 5
}
