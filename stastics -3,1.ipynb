{
 "cells": [
  {
   "cell_type": "code",
   "execution_count": 13,
   "id": "eb63f10a",
   "metadata": {},
   "outputs": [],
   "source": [
    "#1\n",
    "from scipy.stats import f\n",
    "def variance_ratio_test(data1, data2):\n",
    "    var1 = np.var(data1, ddof=1) \n",
    "    var2 = np.var(data2, ddof=1)\n",
    "    f_value = var1 / var2 if var1 >= var2 else var2 / var1\n",
    "    df1 = len(data1) - 1\n",
    "    df2 = len(data2) - 1\n",
    "    p_value = 2 * min(f.cdf(f_value, df1, df2), 1 - f.cdf(f_value, df1, df2))\n",
    "\n",
    "    return f_value, p_value\n"
   ]
  },
  {
   "cell_type": "code",
   "execution_count": 6,
   "id": "3f46f441",
   "metadata": {},
   "outputs": [],
   "source": [
    "#2\n",
    "from scipy.stats import f\n",
    "\n",
    "def critical_f_value(alpha, df_num, df_denom):\n",
    "  \n",
    "    critical_f = f.ppf(1 - alpha / 2, df_num, df_denom)\n",
    "\n",
    "    return critical_f\n"
   ]
  },
  {
   "cell_type": "code",
   "execution_count": 5,
   "id": "c4bf015a",
   "metadata": {},
   "outputs": [
    {
     "name": "stdout",
     "output_type": "stream",
     "text": [
      "F-value: 2.371177811755986\n",
      "Degrees of freedom (numerator): 99\n",
      "Degrees of freedom (denominator): 99\n",
      "p-value: 2.435015143875674e-05\n"
     ]
    }
   ],
   "source": [
    "#3\n",
    "import numpy as np\n",
    "from scipy.stats import f\n",
    "\n",
    "def f_test(data1, data2):\n",
    "    var1 = np.var(data1)\n",
    "    var2 = np.var(data2)\n",
    "    f_value = var1 / var2 if var1 >= var2 else var2 / var1\n",
    "    df1 = len(data1) - 1\n",
    "    df2 = len(data2) - 1\n",
    "    p_value = 2 * min(f.cdf(f_value, df1, df2), 1 - f.cdf(f_value, df1, df2))\n",
    "\n",
    "    return f_value, df1, df2, p_value\n",
    "np.random.seed(0)\n",
    "data1 = np.random.normal(loc=0, scale=1, size=100)  \n",
    "data2 = np.random.normal(loc=0, scale=1.5, size=100)\n",
    "f_value, df1, df2, p_value = f_test(data1, data2)\n",
    "print(\"F-value:\", f_value)\n",
    "print(\"Degrees of freedom (numerator):\", df1)\n",
    "print(\"Degrees of freedom (denominator):\", df2)\n",
    "print(\"p-value:\", p_value)\n"
   ]
  },
  {
   "cell_type": "code",
   "execution_count": 7,
   "id": "bddfc6f6",
   "metadata": {},
   "outputs": [
    {
     "name": "stdout",
     "output_type": "stream",
     "text": [
      "Fail to reject the null hypothesis. Variances are not significantly different.\n",
      "F-value: 0.6666666666666666\n",
      "Critical F-value: 3.473699051085809\n",
      "Degrees of freedom (numerator): 11\n",
      "Degrees of freedom (denominator): 11\n"
     ]
    }
   ],
   "source": [
    "#4\n",
    "from scipy.stats import f\n",
    "variance_population1 = 10\n",
    "variance_population2 = 15\n",
    "sample_size1 = 12\n",
    "sample_size2 = 12\n",
    "alpha = 0.05\n",
    "f_value = variance_population1 / variance_population2\n",
    "df1 = sample_size1 - 1\n",
    "df2 = sample_size2 - 1\n",
    "critical_f = f.ppf(1 - alpha / 2, df1, df2)\n",
    "if f_value > critical_f:\n",
    "    print(\"Reject the null hypothesis. Variances are significantly different.\")\n",
    "else:\n",
    "    print(\"Fail to reject the null hypothesis. Variances are not significantly different.\")\n",
    "print(\"F-value:\", f_value)\n",
    "print(\"Critical F-value:\", critical_f)\n",
    "print(\"Degrees of freedom (numerator):\", df1)\n",
    "print(\"Degrees of freedom (denominator):\", df2)\n"
   ]
  },
  {
   "cell_type": "code",
   "execution_count": 8,
   "id": "a1a93d30",
   "metadata": {},
   "outputs": [
    {
     "name": "stdout",
     "output_type": "stream",
     "text": [
      "Fail to reject the null hypothesis. Claimed variance is justified.\n",
      "F-value: 1.2\n",
      "Critical F-value: nan\n",
      "Degrees of freedom (numerator): 24\n",
      "Degrees of freedom (denominator): inf\n"
     ]
    }
   ],
   "source": [
    "#5\n",
    "from scipy.stats import f\n",
    "claimed_variance = 0.005\n",
    "sample_variance = 0.006\n",
    "sample_size = 25\n",
    "alpha = 0.01\n",
    "f_value = sample_variance / claimed_variance\n",
    "df1 = sample_size - 1\n",
    "df2 = float('inf')  \n",
    "critical_f = f.ppf(1 - alpha, df1, df2)\n",
    "if f_value > critical_f:\n",
    "    print(\"Reject the null hypothesis. Population variance is greater than the claimed variance.\")\n",
    "else:\n",
    "    print(\"Fail to reject the null hypothesis. Claimed variance is justified.\")\n",
    "print(\"F-value:\", f_value)\n",
    "print(\"Critical F-value:\", critical_f)\n",
    "print(\"Degrees of freedom (numerator):\", df1)\n",
    "print(\"Degrees of freedom (denominator):\", df2)\n"
   ]
  },
  {
   "cell_type": "code",
   "execution_count": 9,
   "id": "03b4b532",
   "metadata": {},
   "outputs": [
    {
     "name": "stdout",
     "output_type": "stream",
     "text": [
      "Mean of F-distribution: 1.25\n",
      "Variance of F-distribution: 1.3541666666666667\n"
     ]
    }
   ],
   "source": [
    "#6\n",
    "def f_distribution_mean_variance(df1, df2):\n",
    "    mean = df2 / (df2 - 2)\n",
    "    numerator = 2 * (df2 ** 2) * (df1 + df2 - 2)\n",
    "    denominator = df1 * ((df2 - 2) ** 2) * (df2 - 4)\n",
    "    variance = numerator / denominator\n",
    "\n",
    "    return mean, variance\n",
    "df1 = 5\n",
    "df2 = 10\n",
    "mean, variance = f_distribution_mean_variance(df1, df2)\n",
    "print(\"Mean of F-distribution:\", mean)\n",
    "print(\"Variance of F-distribution:\", variance)\n"
   ]
  },
  {
   "cell_type": "code",
   "execution_count": 10,
   "id": "eb1e8c3a",
   "metadata": {},
   "outputs": [
    {
     "name": "stdout",
     "output_type": "stream",
     "text": [
      "Fail to reject the null hypothesis. Variances are not significantly different.\n",
      "F-value: 1.25\n",
      "Critical F-value: 2.121954566976902\n",
      "Degrees of freedom (numerator): 9\n",
      "Degrees of freedom (denominator): 14\n"
     ]
    }
   ],
   "source": [
    "#7\n",
    "from scipy.stats import f\n",
    "sample_variance1 = 25\n",
    "sample_variance2 = 20\n",
    "sample_size1 = 10\n",
    "sample_size2 = 15\n",
    "alpha = 0.10\n",
    "if sample_variance1 >= sample_variance2:\n",
    "    f_value = sample_variance1 / sample_variance2\n",
    "else:\n",
    "    f_value = sample_variance2 / sample_variance1\n",
    "df1 = sample_size1 - 1\n",
    "df2 = sample_size2 - 1\n",
    "critical_f = f.ppf(1 - alpha, df1, df2)\n",
    "if f_value > critical_f:\n",
    "    print(\"Reject the null hypothesis. Variances are significantly different.\")\n",
    "else:\n",
    "    print(\"Fail to reject the null hypothesis. Variances are not significantly different.\")\n",
    "print(\"F-value:\", f_value)\n",
    "print(\"Critical F-value:\", critical_f)\n",
    "print(\"Degrees of freedom (numerator):\", df1)\n",
    "print(\"Degrees of freedom (denominator):\", df2)\n"
   ]
  },
  {
   "cell_type": "code",
   "execution_count": 11,
   "id": "a4067e07",
   "metadata": {},
   "outputs": [
    {
     "name": "stdout",
     "output_type": "stream",
     "text": [
      "Fail to reject the null hypothesis. Variances are not significantly different.\n",
      "F-value: 1.4551907719609583\n",
      "Critical F-value: 4.950288068694318\n",
      "Degrees of freedom (numerator): 6\n",
      "Degrees of freedom (denominator): 5\n"
     ]
    }
   ],
   "source": [
    "#8\n",
    "from scipy.stats import f\n",
    "waiting_times_A = [24, 25, 28, 23, 22, 20, 27]\n",
    "waiting_times_B = [31, 33, 35, 30, 32, 36]\n",
    "variance_A = np.var(waiting_times_A, ddof=1)\n",
    "variance_B = np.var(waiting_times_B, ddof=1)\n",
    "if variance_A >= variance_B:\n",
    "    f_value = variance_A / variance_B\n",
    "else:\n",
    "    f_value = variance_B / variance_A\n",
    "df1 = len(waiting_times_A) - 1\n",
    "df2 = len(waiting_times_B) - 1\n",
    "alpha = 0.05\n",
    "critical_f = f.ppf(1 - alpha, df1, df2)\n",
    "if f_value > critical_f:\n",
    "    print(\"Reject the null hypothesis. Variances are significantly different.\")\n",
    "else:\n",
    "    print(\"Fail to reject the null hypothesis. Variances are not significantly different.\")\n",
    "print(\"F-value:\", f_value)\n",
    "print(\"Critical F-value:\", critical_f)\n",
    "print(\"Degrees of freedom (numerator):\", df1)\n",
    "print(\"Degrees of freedom (denominator):\", df2)\n"
   ]
  },
  {
   "cell_type": "code",
   "execution_count": 12,
   "id": "89bfffe2",
   "metadata": {},
   "outputs": [
    {
     "name": "stdout",
     "output_type": "stream",
     "text": [
      "Fail to reject the null hypothesis. Variances are not significantly different.\n",
      "F-value: 1.9442622950819677\n",
      "Critical F-value: 10.967020650907992\n",
      "Degrees of freedom (numerator): 5\n",
      "Degrees of freedom (denominator): 5\n"
     ]
    }
   ],
   "source": [
    "#9\n",
    "from scipy.stats import f\n",
    "test_scores_A = [80, 85, 90, 92, 87, 83]\n",
    "test_scores_B = [75, 78, 82, 79, 81, 84]\n",
    "variance_A = np.var(test_scores_A, ddof=1)\n",
    "variance_B = np.var(test_scores_B, ddof=1)\n",
    "if variance_A >= variance_B:\n",
    "    f_value = variance_A / variance_B\n",
    "else:\n",
    "    f_value = variance_B / variance_A\n",
    "df1 = len(test_scores_A) - 1\n",
    "df2 = len(test_scores_B) - 1\n",
    "alpha = 0.01\n",
    "critical_f = f.ppf(1 - alpha, df1, df2)\n",
    "if f_value > critical_f:\n",
    "    print(\"Reject the null hypothesis. Variances are significantly different.\")\n",
    "else:\n",
    "    print(\"Fail to reject the null hypothesis. Variances are not significantly different.\")\n",
    "print(\"F-value:\", f_value)\n",
    "print(\"Critical F-value:\", critical_f)\n",
    "print(\"Degrees of freedom (numerator):\", df1)\n",
    "print(\"Degrees of freedom (denominator):\", df2)\n"
   ]
  },
  {
   "cell_type": "code",
   "execution_count": null,
   "id": "a463bdad",
   "metadata": {},
   "outputs": [],
   "source": []
  },
  {
   "cell_type": "code",
   "execution_count": null,
   "id": "5512efda",
   "metadata": {},
   "outputs": [],
   "source": []
  },
  {
   "cell_type": "code",
   "execution_count": null,
   "id": "f294aa13",
   "metadata": {},
   "outputs": [],
   "source": []
  },
  {
   "cell_type": "code",
   "execution_count": null,
   "id": "92612ccb",
   "metadata": {},
   "outputs": [],
   "source": []
  }
 ],
 "metadata": {
  "kernelspec": {
   "display_name": "Python 3 (ipykernel)",
   "language": "python",
   "name": "python3"
  },
  "language_info": {
   "codemirror_mode": {
    "name": "ipython",
    "version": 3
   },
   "file_extension": ".py",
   "mimetype": "text/x-python",
   "name": "python",
   "nbconvert_exporter": "python",
   "pygments_lexer": "ipython3",
   "version": "3.11.5"
  }
 },
 "nbformat": 4,
 "nbformat_minor": 5
}
