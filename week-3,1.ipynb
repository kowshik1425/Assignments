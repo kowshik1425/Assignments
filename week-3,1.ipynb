{
 "cells": [
  {
   "cell_type": "code",
   "execution_count": null,
   "id": "fa337a52",
   "metadata": {},
   "outputs": [],
   "source": [
    "Q1"
   ]
  },
  {
   "cell_type": "code",
   "execution_count": 12,
   "id": "971f9337",
   "metadata": {},
   "outputs": [
    {
     "name": "stdout",
     "output_type": "stream",
     "text": [
      "[1, 3, 5, 7, 9, 11, 13, 15, 17, 19, 21, 23, 25]\n"
     ]
    }
   ],
   "source": [
    "#The keyword used to create a function is \"def\".\n",
    "\n",
    "def odd(start,end):\n",
    "    n=[]\n",
    "    for i in range(start,end+1):\n",
    "        if i%2!=0:\n",
    "            n.append(i)\n",
    "    return n\n",
    "s=odd(1,25)\n",
    "print(s)\n",
    "\n",
    "            \n",
    "        \n",
    "\n"
   ]
  },
  {
   "cell_type": "code",
   "execution_count": null,
   "id": "20f40944",
   "metadata": {},
   "outputs": [],
   "source": [
    "Q2"
   ]
  },
  {
   "cell_type": "code",
   "execution_count": 3,
   "id": "f7c291d7",
   "metadata": {},
   "outputs": [
    {
     "name": "stdout",
     "output_type": "stream",
     "text": [
      "24\n",
      "name: Alice\n",
      "age: 30\n",
      "city: New York\n"
     ]
    }
   ],
   "source": [
    "#*args (Arbitrary Positional Arguments):\n",
    "#The *args syntax allows you to pass a variable number of positional arguments to a function. These arguments are collected into a tuple within the function.\n",
    "def sum_numbers(*args):\n",
    "    total = 0\n",
    "    for num in args:\n",
    "        total =total+num\n",
    "    return total\n",
    "\n",
    "result = sum_numbers(12, 3, 4, 5)\n",
    "print(result)  \n",
    "\n",
    "#**kwargs (Arbitrary Keyword Arguments):\n",
    "#The **kwargs syntax allows you to pass a variable number of keyword arguments to a function. These arguments are collected into a dictionary within the function.\n",
    "def print_person_info(**kwargs):\n",
    "    for key, value in kwargs.items():\n",
    "        print(f\"{key}: {value}\")\n",
    "\n",
    "print_person_info(name=\"Alice\", age=30, city=\"New York\")\n"
   ]
  },
  {
   "cell_type": "code",
   "execution_count": null,
   "id": "96884335",
   "metadata": {},
   "outputs": [],
   "source": [
    "Q3"
   ]
  },
  {
   "cell_type": "code",
   "execution_count": 4,
   "id": "a9ae81b8",
   "metadata": {},
   "outputs": [
    {
     "name": "stdout",
     "output_type": "stream",
     "text": [
      "2\n",
      "4\n",
      "6\n",
      "8\n",
      "10\n"
     ]
    }
   ],
   "source": [
    "#An iterator in Python is an object that implements the iterator protocol, which consists of two methods: __iter__() and __next__(). Iterators are used to iterate over elements of a collection (like lists, tuples, etc.) one by one without the need to load the entire collection into memory.\n",
    "\n",
    "# __iter__() method: This method initializes the iterator object and returns itself.\n",
    "\n",
    "# __next__() method: This method returns the next element from the collection. When there are no more elements to be returned, it raises the StopIteration exception.\n",
    "class MyIterator:\n",
    "    def __init__(self, data):\n",
    "        self.data = data\n",
    "        self.index = 0\n",
    "\n",
    "    def __iter__(self):\n",
    "        return self\n",
    "\n",
    "    def __next__(self):\n",
    "        if self.index >= len(self.data):\n",
    "            raise StopIteration\n",
    "        else:\n",
    "            self.index += 1\n",
    "            return self.data[self.index - 1]\n",
    "\n",
    "my_list = [2, 4, 6, 8, 10, 12, 14, 16, 18, 20]\n",
    "\n",
    "my_iterator = MyIterator(my_list)\n",
    "\n",
    "for _ in range(5):\n",
    "    print(next(my_iterator))\n"
   ]
  },
  {
   "cell_type": "code",
   "execution_count": null,
   "id": "17e785d9",
   "metadata": {},
   "outputs": [],
   "source": [
    "Q4"
   ]
  },
  {
   "cell_type": "code",
   "execution_count": 15,
   "id": "d2e4121c",
   "metadata": {},
   "outputs": [
    {
     "name": "stdout",
     "output_type": "stream",
     "text": [
      "1\n",
      "4\n",
      "9\n",
      "16\n",
      "25\n"
     ]
    }
   ],
   "source": [
    "#A generator function is a special type of function that returns an iterator called a generator. Unlike regular functions that use the return statement to provide a single value and then terminate, generator functions use the \"yield\" keyword to yield a series of values one at a time, allowing the function's state to be saved between calls.\n",
    "def squares_generator(n):\n",
    "    for i in range(1,n+1):\n",
    "        yield i ** 2\n",
    "\n",
    "s = squares_generator(5)\n",
    "for i in s:\n",
    "    print(i)"
   ]
  },
  {
   "cell_type": "code",
   "execution_count": null,
   "id": "6a86099e",
   "metadata": {},
   "outputs": [],
   "source": [
    "Q5"
   ]
  },
  {
   "cell_type": "code",
   "execution_count": 8,
   "id": "71190b23",
   "metadata": {},
   "outputs": [
    {
     "name": "stdout",
     "output_type": "stream",
     "text": [
      "2\n",
      "3\n",
      "5\n",
      "7\n",
      "11\n",
      "13\n",
      "17\n",
      "19\n",
      "23\n",
      "29\n",
      "31\n",
      "37\n",
      "41\n",
      "43\n",
      "47\n",
      "53\n",
      "59\n",
      "61\n",
      "67\n",
      "71\n"
     ]
    }
   ],
   "source": [
    "def is_prime(num):\n",
    "    if num <= 1:\n",
    "        return False\n",
    "    if num <= 3:\n",
    "        return True\n",
    "    if num % 2 == 0 or num % 3 == 0:\n",
    "        return False\n",
    "    i = 5\n",
    "    while i * i <= num:\n",
    "        if num % i == 0 or num % (i + 2) == 0:\n",
    "            return False\n",
    "        i=i+6\n",
    "    return True\n",
    "def primes_generator(limit):\n",
    "    num = 2\n",
    "    while num < limit:\n",
    "        if is_prime(num):\n",
    "            yield num\n",
    "        num=num+1\n",
    "prime_iter = primes_generator(1000)\n",
    "for _ in range(20):\n",
    "    print(next(prime_iter))\n"
   ]
  },
  {
   "cell_type": "code",
   "execution_count": null,
   "id": "08387e54",
   "metadata": {},
   "outputs": [],
   "source": []
  }
 ],
 "metadata": {
  "kernelspec": {
   "display_name": "Python 3 (ipykernel)",
   "language": "python",
   "name": "python3"
  },
  "language_info": {
   "codemirror_mode": {
    "name": "ipython",
    "version": 3
   },
   "file_extension": ".py",
   "mimetype": "text/x-python",
   "name": "python",
   "nbconvert_exporter": "python",
   "pygments_lexer": "ipython3",
   "version": "3.9.13"
  }
 },
 "nbformat": 4,
 "nbformat_minor": 5
}
