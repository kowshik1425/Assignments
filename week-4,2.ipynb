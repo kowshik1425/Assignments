{
 "cells": [
  {
   "cell_type": "code",
   "execution_count": null,
   "id": "13b5206d",
   "metadata": {},
   "outputs": [],
   "source": [
    "Q1"
   ]
  },
  {
   "cell_type": "code",
   "execution_count": 6,
   "id": "0ba3c803",
   "metadata": {},
   "outputs": [
    {
     "name": "stdout",
     "output_type": "stream",
     "text": [
      "name of vechicle:kowshik,maximum speed:23,avg speed:45\n",
      "None\n"
     ]
    }
   ],
   "source": [
    "class vehicle:\n",
    "    def __init__(self,name_of_vechicle,max_speed,avg_of_vechicle):\n",
    "        self.name_of_vehicle=name_of_vechicle\n",
    "        self.max_speed=max_speed\n",
    "        self.avg_of_vechicle=avg_of_vechicle\n",
    "    def introduce(self):\n",
    "        print(f\"name of vechicle:{self.name_of_vehicle},maximum speed:{self.max_speed},avg speed:{self.avg_of_vechicle}\")\n",
    "obj=vehicle(\"kowshik\",23,45)\n",
    "print(obj.introduce())"
   ]
  },
  {
   "cell_type": "code",
   "execution_count": null,
   "id": "24d376da",
   "metadata": {},
   "outputs": [],
   "source": [
    "Q2"
   ]
  },
  {
   "cell_type": "code",
   "execution_count": 11,
   "id": "f308a8d7",
   "metadata": {},
   "outputs": [
    {
     "name": "stdout",
     "output_type": "stream",
     "text": [
      "('kowshik', 3)\n"
     ]
    }
   ],
   "source": [
    "class vehicle:\n",
    "    def __init__(self,name_of_vechicle,max_speed,avg_of_vechicle,seating_capacity):\n",
    "        self.name_of_vehicle=name_of_vechicle\n",
    "        self.max_speed=max_speed\n",
    "        self.avg_of_vechicle=avg_of_vechicle\n",
    "        self.seating_capacity=seating_capacity\n",
    "class car(vehicle):\n",
    "    def introduce(self):\n",
    "        return self.name_of_vehicle,self.seating_capacity\n",
    "obj=car(\"kowshik\",23,45,3)\n",
    "print(obj.introduce())\n"
   ]
  },
  {
   "cell_type": "code",
   "execution_count": null,
   "id": "54405f79",
   "metadata": {},
   "outputs": [],
   "source": [
    "Q3"
   ]
  },
  {
   "cell_type": "code",
   "execution_count": 12,
   "id": "5919c15d",
   "metadata": {},
   "outputs": [
    {
     "name": "stdout",
     "output_type": "stream",
     "text": [
      "this is class2\n"
     ]
    }
   ],
   "source": [
    "#Multiple inheritance is a feature in object-oriented programming languages that allows a class to inherit attributes and methods from more than one parent class. This means that a child class can inherit the properties and behaviors of multiple parent classes. However, multiple inheritance can become complex and may lead to issues like the \"diamond problem\" where ambiguity arises due to overlapping methods or attributes from different parent classes.\n",
    "#CODE:\n",
    "class class1:\n",
    "    def class1(self):\n",
    "        return \"this is class1\"\n",
    "class class2:\n",
    "    def class2(self):\n",
    "        return \"this is class2\"\n",
    "class class3(class1,class2):\n",
    "    def class3(self):\n",
    "        return \"this is class3\"\n",
    "obj=class3()\n",
    "print(obj.class2())\n",
    "    "
   ]
  },
  {
   "cell_type": "code",
   "execution_count": null,
   "id": "399f0623",
   "metadata": {},
   "outputs": [],
   "source": [
    "Q4"
   ]
  },
  {
   "cell_type": "code",
   "execution_count": 13,
   "id": "e8d70627",
   "metadata": {},
   "outputs": [
    {
     "name": "stdout",
     "output_type": "stream",
     "text": [
      "Name: Alice\n",
      "Age: 20\n",
      "Updated Name: Bob\n",
      "Updated Age: 25\n"
     ]
    }
   ],
   "source": [
    "class Student:\n",
    "    def __init__(self, name, age):\n",
    "        self.__name = name\n",
    "        self.__age = age\n",
    "\n",
    "    def get_name(self):\n",
    "        return self.__name\n",
    "\n",
    "    def set_name(self, name):\n",
    "        self.__name = name\n",
    "\n",
    "    def get_age(self):\n",
    "        return self.__age\n",
    "\n",
    "    def set_age(self, age):\n",
    "        self.__age = age\n",
    "student = Student(\"Alice\", 20)\n",
    "print(\"Name:\", student.get_name())\n",
    "print(\"Age:\", student.get_age())    \n",
    "student.set_name(\"Bob\")\n",
    "student.set_age(25)\n",
    "\n",
    "print(\"Updated Name:\", student.get_name())\n",
    "print(\"Updated Age:\", student.get_age())    \n"
   ]
  },
  {
   "cell_type": "code",
   "execution_count": null,
   "id": "30a290b4",
   "metadata": {},
   "outputs": [],
   "source": [
    "Q5"
   ]
  },
  {
   "cell_type": "code",
   "execution_count": 14,
   "id": "296ec3ea",
   "metadata": {},
   "outputs": [
    {
     "name": "stdout",
     "output_type": "stream",
     "text": [
      "Dog barks\n",
      "Cat meows\n"
     ]
    }
   ],
   "source": [
    "#Method overriding allows a subclass to provide a specific implementation for a method that is already defined in its superclass. When a method in the subclass has the same name and parameters as a method in the superclass, the subclass's method will override the implementation of the superclass's method.\n",
    "#CODE:\n",
    "class Animal:\n",
    "    def speak(self):\n",
    "        print(\"Animal speaks\")\n",
    "\n",
    "class Dog(Animal):\n",
    "    def speak(self):\n",
    "        print(\"Dog barks\")\n",
    "\n",
    "class Cat(Animal):\n",
    "    def speak(self):\n",
    "        print(\"Cat meows\")\n",
    "dog = Dog()\n",
    "cat = Cat()\n",
    "dog.speak() \n",
    "cat.speak() "
   ]
  },
  {
   "cell_type": "code",
   "execution_count": null,
   "id": "0569b6f4",
   "metadata": {},
   "outputs": [],
   "source": []
  }
 ],
 "metadata": {
  "kernelspec": {
   "display_name": "Python 3 (ipykernel)",
   "language": "python",
   "name": "python3"
  },
  "language_info": {
   "codemirror_mode": {
    "name": "ipython",
    "version": 3
   },
   "file_extension": ".py",
   "mimetype": "text/x-python",
   "name": "python",
   "nbconvert_exporter": "python",
   "pygments_lexer": "ipython3",
   "version": "3.9.13"
  }
 },
 "nbformat": 4,
 "nbformat_minor": 5
}
