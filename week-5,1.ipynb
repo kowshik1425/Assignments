{
 "cells": [
  {
   "cell_type": "code",
   "execution_count": null,
   "id": "21b5a69f",
   "metadata": {},
   "outputs": [],
   "source": [
    "Q1"
   ]
  },
  {
   "cell_type": "code",
   "execution_count": null,
   "id": "d724210b",
   "metadata": {},
   "outputs": [],
   "source": [
    "Exceptions: Exceptions  is a runtime error that occurs while a program is running. It's an event that disrupts the normal flow of the program's execution. Exceptions can occur for various reasons, such as dividing by zero, attempting to access an index that doesn't exist in a list, or trying to open a file that doesn't exist.\n",
    "difference between Exception and syntaxerror:\n",
    "Exception:\n",
    "=>Mistakes in the syntax of your Python code, or by your own code.\n",
    "=>it can handled by exception handlers.\n",
    "=>Execution of the program is disrupted.\n",
    "syntax error:\n",
    "=>Mistakes in the syntax of your Python code.\n",
    "=>Not handled by exception handlers.\n",
    "=>Execution of the program is stopped."
   ]
  },
  {
   "cell_type": "code",
   "execution_count": null,
   "id": "35dc9637",
   "metadata": {},
   "outputs": [],
   "source": [
    "Q2"
   ]
  },
  {
   "cell_type": "code",
   "execution_count": 2,
   "id": "4a81351e",
   "metadata": {},
   "outputs": [
    {
     "name": "stdout",
     "output_type": "stream",
     "text": [
      "division by zero\n"
     ]
    },
    {
     "ename": "ZeroDivisionError",
     "evalue": "division by zero",
     "output_type": "error",
     "traceback": [
      "\u001b[1;31m---------------------------------------------------------------------------\u001b[0m",
      "\u001b[1;31mZeroDivisionError\u001b[0m                         Traceback (most recent call last)",
      "\u001b[1;32m~\\AppData\\Local\\Temp\\ipykernel_17044\\1856064171.py\u001b[0m in \u001b[0;36m<module>\u001b[1;34m\u001b[0m\n\u001b[0;32m     16\u001b[0m \u001b[0mdenominator\u001b[0m \u001b[1;33m=\u001b[0m \u001b[1;36m0\u001b[0m\u001b[1;33m\u001b[0m\u001b[1;33m\u001b[0m\u001b[0m\n\u001b[0;32m     17\u001b[0m \u001b[1;33m\u001b[0m\u001b[0m\n\u001b[1;32m---> 18\u001b[1;33m \u001b[0mresult\u001b[0m \u001b[1;33m=\u001b[0m \u001b[0mdivide\u001b[0m\u001b[1;33m(\u001b[0m\u001b[0mnumerator\u001b[0m\u001b[1;33m,\u001b[0m \u001b[0mdenominator\u001b[0m\u001b[1;33m)\u001b[0m\u001b[1;33m\u001b[0m\u001b[1;33m\u001b[0m\u001b[0m\n\u001b[0m\u001b[0;32m     19\u001b[0m \u001b[1;33m\u001b[0m\u001b[0m\n\u001b[0;32m     20\u001b[0m \u001b[0mprint\u001b[0m\u001b[1;33m(\u001b[0m\u001b[1;34m\"Result:\"\u001b[0m\u001b[1;33m,\u001b[0m \u001b[0mresult\u001b[0m\u001b[1;33m)\u001b[0m\u001b[1;33m\u001b[0m\u001b[1;33m\u001b[0m\u001b[0m\n",
      "\u001b[1;32m~\\AppData\\Local\\Temp\\ipykernel_17044\\1856064171.py\u001b[0m in \u001b[0;36mdivide\u001b[1;34m(a, b)\u001b[0m\n\u001b[0;32m     11\u001b[0m \u001b[1;33m\u001b[0m\u001b[0m\n\u001b[0;32m     12\u001b[0m \u001b[1;32mdef\u001b[0m \u001b[0mdivide\u001b[0m\u001b[1;33m(\u001b[0m\u001b[0ma\u001b[0m\u001b[1;33m,\u001b[0m \u001b[0mb\u001b[0m\u001b[1;33m)\u001b[0m\u001b[1;33m:\u001b[0m\u001b[1;33m\u001b[0m\u001b[1;33m\u001b[0m\u001b[0m\n\u001b[1;32m---> 13\u001b[1;33m     \u001b[1;32mreturn\u001b[0m \u001b[0ma\u001b[0m \u001b[1;33m/\u001b[0m \u001b[0mb\u001b[0m\u001b[1;33m\u001b[0m\u001b[1;33m\u001b[0m\u001b[0m\n\u001b[0m\u001b[0;32m     14\u001b[0m \u001b[1;33m\u001b[0m\u001b[0m\n\u001b[0;32m     15\u001b[0m \u001b[0mnumerator\u001b[0m \u001b[1;33m=\u001b[0m \u001b[1;36m10\u001b[0m\u001b[1;33m\u001b[0m\u001b[1;33m\u001b[0m\u001b[0m\n",
      "\u001b[1;31mZeroDivisionError\u001b[0m: division by zero"
     ]
    }
   ],
   "source": [
    "# When an exception is not handled, it can lead to the termination of the program's execution. This means that the program will abruptly stop running, and any further code after the point where the unhandled exception occurred will not be executed. This can result in an undesirable user experience and potentially data loss if the program was in the middle of processing important tasks.\n",
    "# Zero division error:\n",
    "\n",
    "try:\n",
    "    a=10/0\n",
    "except ZeroDivisionError as e:\n",
    "    print(e)\n",
    "    \n",
    "\n",
    "\n",
    "\n",
    "def divide(a, b):\n",
    "    return a / b\n",
    "\n",
    "numerator = 10\n",
    "denominator = 0\n",
    "\n",
    "result = divide(numerator, denominator)\n",
    "\n",
    "print(\"Result:\", result)\n",
    "print(\"End of program\")\n",
    "\n",
    "\n"
   ]
  },
  {
   "cell_type": "code",
   "execution_count": null,
   "id": "efddbab9",
   "metadata": {},
   "outputs": [],
   "source": [
    "Q3"
   ]
  },
  {
   "cell_type": "code",
   "execution_count": 4,
   "id": "1a2fdaf7",
   "metadata": {},
   "outputs": [
    {
     "name": "stdout",
     "output_type": "stream",
     "text": [
      "list index out of range\n"
     ]
    }
   ],
   "source": [
    "#The try and except statements are used to catch and handle exceptions. \n",
    "#=>The try block contains the code that might raise an exception.\n",
    "#=>The except block specifies how to handle the exception if it occurs. This allows you to gracefully manage errors and prevent your program from crashing.\n",
    "#code:\n",
    "try:\n",
    "    a=[1,2,3,4]\n",
    "    print(a[10])\n",
    "except IndexError as e:\n",
    "    print(e)"
   ]
  },
  {
   "cell_type": "code",
   "execution_count": null,
   "id": "4688ab80",
   "metadata": {},
   "outputs": [],
   "source": [
    "Q4"
   ]
  },
  {
   "cell_type": "code",
   "execution_count": 8,
   "id": "47c1d9cb",
   "metadata": {},
   "outputs": [
    {
     "name": "stdout",
     "output_type": "stream",
     "text": [
      "a= kowshik\n",
      "there is no error\n",
      "a= kowshik\n",
      "there is no error\n",
      "this will execute all the time\n",
      "Error: Cannot divide by zero\n",
      "End of program\n"
     ]
    }
   ],
   "source": [
    "#(1): try and else blocks can be used together to handle exceptions and execute code when no exceptions are raised. The else block is executed only if the try block completes successfully without any exceptions being raised.\n",
    "a=\"kowshik\"\n",
    "try:\n",
    "    print(\"a=\",a)\n",
    "except Exception as e:\n",
    "    print(\"error:\",e)\n",
    "else:\n",
    "    print(\"there is no error\")\n",
    "# (2): finally will execure all the time.ti will not depend on errors.\n",
    "a=\"kowshik\"\n",
    "try:\n",
    "    print(\"a=\",a)\n",
    "except Exception as e:\n",
    "    print(\"error:\",e)\n",
    "else:\n",
    "    print(\"there is no error\")\n",
    "finally:\n",
    "    print(\"this will execute all the time\")\n",
    "\n",
    "#(3):The raise statement is used to manually raise an exception in your code. This can be useful when you want to signal that a specific exceptional condition has occurred, even if the condition isn't automatically detected by the program.\n",
    "\n",
    "def divide(a, b):\n",
    "    if b == 0:\n",
    "        raise ValueError(\"Cannot divide by zero\")\n",
    "    return a / b\n",
    "\n",
    "num = 10\n",
    "den = 0\n",
    "\n",
    "try:\n",
    "    result = divide(num, den)\n",
    "except ValueError as e:\n",
    "    print(\"Error:\", e)\n",
    "\n",
    "print(\"End of program\")\n",
    "\n"
   ]
  },
  {
   "cell_type": "code",
   "execution_count": null,
   "id": "5f772f9d",
   "metadata": {},
   "outputs": [],
   "source": [
    "Q5"
   ]
  },
  {
   "cell_type": "code",
   "execution_count": 11,
   "id": "002c8be9",
   "metadata": {},
   "outputs": [
    {
     "name": "stdout",
     "output_type": "stream",
     "text": [
      "a= [1, 2, 3]\n",
      "unsupported operand type(s) for +: 'int' and 'str'\n",
      "division by zero\n",
      "test [Errno 2] No such file or directory: 'test.txt'\n"
     ]
    }
   ],
   "source": [
    "#Custom exceptions in Python are user-defined exceptions that you create to handle specific exceptional conditions in your code. While Python provides a range of built-in exceptions.\n",
    "#eg:ValueError,IndexError,TypeError,ZeroDivisionError,FileNotFoundError.\n",
    "#index error:\n",
    "a=[1,2,3]\n",
    "try:\n",
    "    print(\"a=\",a)\n",
    "except IndexError as e:\n",
    "    print(e)\n",
    "#type error\n",
    "try:\n",
    "    123+\"hi\"\n",
    "except TypeError as e:\n",
    "    print(e)\n",
    "#zero division error\n",
    "try:\n",
    "    c=10/0\n",
    "except ZeroDivisionError as e:\n",
    "    print(e)\n",
    "#file not found error\n",
    "try:\n",
    "    with open(\"test.txt\",\"r\") as f:\n",
    "        f.read()\n",
    "except Exception as e:\n",
    "    print(\"test\",e)\n",
    "except FileNotFoundEroor as e:\n",
    "    print(e)"
   ]
  },
  {
   "cell_type": "code",
   "execution_count": null,
   "id": "66dd8596",
   "metadata": {},
   "outputs": [],
   "source": [
    "Q6"
   ]
  },
  {
   "cell_type": "code",
   "execution_count": 13,
   "id": "01ef44be",
   "metadata": {},
   "outputs": [
    {
     "name": "stdout",
     "output_type": "stream",
     "text": [
      "Enter a number: hh\n",
      "Invalid input. Please enter a valid number.\n",
      "End of program\n"
     ]
    }
   ],
   "source": [
    "class CustomError(Exception):\n",
    "    def __init__(self, message):\n",
    "        self.message = message\n",
    "        super().__init__(self.message)\n",
    "\n",
    "def process_data(data):\n",
    "    if data < 0:\n",
    "        raise CustomError(\"Invalid data: Data should be non-negative\")\n",
    "    return data * 2\n",
    "\n",
    "try:\n",
    "    user_input = float(input(\"Enter a number: \"))\n",
    "    result = process_data(user_input)\n",
    "    print(\"Result:\", result)\n",
    "except CustomError as ce:\n",
    "    print(\"Custom Error:\", ce.message)\n",
    "except ValueError:\n",
    "    print(\"Invalid input. Please enter a valid number.\")\n",
    "except Exception as e:\n",
    "    print(\"An unexpected error occurred:\", e)\n",
    "\n",
    "print(\"End of program\")\n"
   ]
  },
  {
   "cell_type": "code",
   "execution_count": null,
   "id": "09b63074",
   "metadata": {},
   "outputs": [],
   "source": []
  },
  {
   "cell_type": "code",
   "execution_count": null,
   "id": "feea02ab",
   "metadata": {},
   "outputs": [],
   "source": []
  }
 ],
 "metadata": {
  "kernelspec": {
   "display_name": "Python 3 (ipykernel)",
   "language": "python",
   "name": "python3"
  },
  "language_info": {
   "codemirror_mode": {
    "name": "ipython",
    "version": 3
   },
   "file_extension": ".py",
   "mimetype": "text/x-python",
   "name": "python",
   "nbconvert_exporter": "python",
   "pygments_lexer": "ipython3",
   "version": "3.9.13"
  }
 },
 "nbformat": 4,
 "nbformat_minor": 5
}
