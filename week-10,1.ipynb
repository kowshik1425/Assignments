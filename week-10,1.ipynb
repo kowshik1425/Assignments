{
 "cells": [
  {
   "cell_type": "code",
   "execution_count": null,
   "id": "c6d72c28",
   "metadata": {},
   "outputs": [],
   "source": [
    "Q1"
   ]
  },
  {
   "cell_type": "code",
   "execution_count": null,
   "id": "036e1180",
   "metadata": {},
   "outputs": [],
   "source": [
    "Statistics is a branch of mathematics and a field of study that deals with the collection, analysis, interpretation, presentation, and organization of data. It provides methods and techniques for making inferences, drawing conclusions, and understanding patterns and variability in datasets. Statistics plays a fundamental role in a wide range of disciplines and applications, including science, business, economics, social sciences, healthcare, engineering, and more. Here are some key aspects and components of statistics:\n",
    "\n",
    "Data Collection: Statistics involves the collection of data, which can be in the form of observations, measurements, surveys, or experiments. The data collected should be relevant to the research question or problem under investigation.\n",
    "\n",
    "Data Analysis: Once data is collected, statistical methods are used to analyze and summarize it. This includes calculating descriptive statistics to understand the central tendency and variability of the data.\n",
    "\n",
    "Statistical Inference: Statistics allows researchers to make inferences and draw conclusions about populations based on sample data. This involves techniques such as hypothesis testing and confidence intervals.\n",
    "\n",
    "Probability Theory: Probability is a fundamental concept in statistics. It provides a framework for modeling uncertainty and randomness in data. Probability theory is used in various statistical methods and models.\n",
    "    \n",
    "Sampling: Sampling is the process of selecting a subse from a larger group. Statistical methods help ensure that samples are representative of the population, allowing for generalization of findings.\n",
    "\n",
    "Experimental Design: In experimental studies, statistical principles guide the design of experiments, including the randomization of treatments and control groups to minimize bias and increase the reliability of results.\n",
    "\n",
    "Statistical Models: Models are used to represent relationships and patterns in data. These models can be simple linear regression models, complex machine learning models, or more specialized models for specific data types."
   ]
  },
  {
   "cell_type": "code",
   "execution_count": null,
   "id": "3e20bffb",
   "metadata": {},
   "outputs": [],
   "source": [
    "Q2"
   ]
  },
  {
   "cell_type": "code",
   "execution_count": null,
   "id": "fec6231e",
   "metadata": {},
   "outputs": [],
   "source": [
    "There are two types of statistics:\n",
    "(1)descriptive statistics\n",
    "(2)Infuential statistics\n",
    "\n",
    "descriptive statistics:\n",
    "=>it consist of organizing and summarizing of data.\n",
    "=>measurement of central tendency(mean,median,mode).\n",
    "=>measure of dispersion(variance,standard deviation).\n",
    "eg:\n",
    "Measures of Central Tendency: These statistics describe the central or typical value in a dataset.\n",
    "Example: Calculating the mean (average) income of a population to understand its typical earnings.\n",
    "Measures of Dispersion (Variability): These statistics quantify the spread or variability in a dataset.\n",
    "Example: Calculating the standard deviation of test scores to assess how spread out the scores are.\n",
    "\n",
    "Inferential statistics:\n",
    "=>it consist of using data you have measured to form conclusions.\n",
    "=>techiniques like hypothesis,testing,p value.\n",
    "=>z-test,t-test.\n",
    "\n",
    "eg:\n",
    "Hypothesis Testing: This is used to test hypotheses and make inferences about population parameters based on sample data.\n",
    "Example: Conducting a hypothesis test to determine if a new drug is more effective than an existing one by comparing their effects on a sample of patients.\n",
    "Confidence Intervals: These provide a range of values within which a population parameter is likely to fall, along with a level of confidence.\n",
    "Example: Estimating the mean height of all students in a school with a 95% confidence interval based on a sample of students.\n",
    "\n",
    "\n",
    "\n"
   ]
  },
  {
   "cell_type": "code",
   "execution_count": null,
   "id": "a8af3f09",
   "metadata": {},
   "outputs": [],
   "source": [
    "Q3"
   ]
  },
  {
   "cell_type": "code",
   "execution_count": null,
   "id": "89be16bb",
   "metadata": {},
   "outputs": [],
   "source": [
    "Nominal Data:it also known as categorical data, consist of categories or labels that represent distinct groups or attributes. Nominal data have no inherent order or ranking.\n",
    "Examples:\n",
    "Colors: Red, Blue, Green\n",
    "Types of animals: Dog, Cat, Bird\n",
    "Marital status: Single, Married, Divorced\n",
    "\n",
    "Ordinal DataOrdinal data represent categories with a specific order or ranking, but the intervals between categories are not uniform or meaningful. The differences between values are not precisely quantifiable.\n",
    "Examples:\n",
    "Education levels: High School, Bachelor's Degree, Master's Degree\n",
    "Customer satisfaction ratings: Very Dissatisfied, Dissatisfied, Neutral, Satisfied, Very Satisfied\n",
    "Socioeconomic status: Low Income, Middle Income, High Income.\n",
    "    \n",
    "Discrete data:numerical data.we can apply mathematical operations like +,-,*,/.\n",
    "Examples:\n",
    "    =>whole numbers\n",
    "    =>number of childers in family\n",
    "    =>number of bank accounts.\n",
    "\n",
    "Continous data:folat numbers\n",
    "Examples:\n",
    "    =>height of students.\n",
    "    =>weight of students."
   ]
  },
  {
   "cell_type": "code",
   "execution_count": null,
   "id": "1b5c0fe0",
   "metadata": {},
   "outputs": [],
   "source": [
    "Q4"
   ]
  },
  {
   "cell_type": "code",
   "execution_count": null,
   "id": "40d8aaf3",
   "metadata": {},
   "outputs": [],
   "source": [
    "(1)ordinal data\n",
    "(2)norminal data\n",
    "(3)continous data\n",
    "(4)Discrete"
   ]
  },
  {
   "cell_type": "code",
   "execution_count": null,
   "id": "17731e77",
   "metadata": {},
   "outputs": [],
   "source": [
    "Q5"
   ]
  },
  {
   "cell_type": "code",
   "execution_count": null,
   "id": "e58ad218",
   "metadata": {},
   "outputs": [],
   "source": [
    "Nominal Level:in nominal level, data are categorized into distinct and unordered categories or labels. There is no inherent order or ranking among the categories.\n",
    "Examples:\n",
    "Eye color (categories: blue, brown, green)\n",
    "Types of fruits (categories: apple, banana, orange)\n",
    "Gender (categories: male, female, non-binary)\n",
    "Ordinal Level:in rdinal level, data can be categorized into ordered categories, but the intervals between the categories are not uniform or meaningful. While there is a clear order, you cannot make precise numerical comparisons between the categories.\n",
    "Examples:\n",
    "Educational attainment (categories: high school diploma, bachelor's degree, master's degree)\n",
    "Customer satisfaction ratings (categories: very dissatisfied, dissatisfied, neutral, satisfied, very satisfied)\n",
    "Socioeconomic status (categories: low income, middle income, high income).\n",
    "Interval Level:in interval level, data have ordered categories with uniform and meaningful intervals between them. However, there is no true zero point, meaning that a value of zero does not indicate the absence of the attribute.\n",
    "Examples:\n",
    "Temperature in degrees Celsius (measurable differences with no true zero)\n",
    "Calendar years (measurable differences with no true zero)\n",
    "Ratio Level:in ratio level, data have all the properties of interval data but also possess a true zero point, indicating the complete absence of the attribute. This allows for meaningful ratios and mathematical operations.\n",
    "Examples:\n",
    "Age in years (ratio data with a true zero point)\n",
    "Height in centimeters (ratio data with a true zero point)\n",
    "Income in dollars (ratio data with a true zero point)"
   ]
  },
  {
   "cell_type": "code",
   "execution_count": null,
   "id": "2f69408b",
   "metadata": {},
   "outputs": [],
   "source": [
    "Q6"
   ]
  },
  {
   "cell_type": "code",
   "execution_count": null,
   "id": "b9c33be7",
   "metadata": {},
   "outputs": [],
   "source": [
    "Understanding the level of measurement when analyzing data is crucial because it determines the types of statistical analyses and operations that can be appropriately applied to the data. Failing to consider the level of measurement can lead to erroneous conclusions, inappropriate statistical tests, and misinterpretation of results. Here are some reasons why it's important to understand the level of measurement when analyzing data, along with an example to illustrate these points:\n",
    "\n",
    "Appropriate Statistical Tests: Different statistical tests and analyses are designed for data of specific levels of measurement. Using the wrong statistical test can yield misleading results. Understanding the level of measurement helps in selecting the correct test.\n",
    "\n",
    "Example: Imagine you have a dataset with two groups (Group A and Group B) representing student performance in a test, and you want to compare the means of these groups. If the data is ordinal, using a t-test (appropriate for interval or ratio data) would be incorrect. You should instead use a non-parametric test like the Mann-Whitney U test, suitable for ordinal data.\n",
    "\n",
    "Meaningful Arithmetic Operations: The level of measurement determines whether meaningful arithmetic operations (addition, subtraction, multiplication, division) can be applied to the data. This is important when calculating summary statistics or performing mathematical transformations.\n",
    "    \n",
    "Example: Temperature measured in degrees Celsius (interval data) allows you to calculate meaningful temperature differences (e.g., 30°C - 20°C = 10°C). However, you cannot say that 20°C is \"twice as hot\" as 10°C because there is no true zero point. On the other hand, age in years (ratio data) does have a true zero point, allowing for meaningful ratios, such as one's age being twice as old as another person's age.\n",
    "\n",
    "Data Interpretation: The level of measurement affects how data are interpreted and described. Descriptive statistics and visualizations should accurately reflect the nature of the data to facilitate proper understanding.\n",
    "\n",
    "Example: When presenting data on customer satisfaction ratings (ordinal data), it's important to convey that the intervals between ratings may not be equal. A bar chart or frequency table can show the distribution of responses without implying that the differences between categories are uniform.\n",
    "\n",
    "Validity of Inferences: The level of measurement impacts the validity of inferences and generalizations made from the data. Using inappropriate measurements can lead to inaccurate conclusions.\n",
    "\n",
    "Example: If you want to make inferences about the population based on sample data, the type of inferences (e.g., confidence intervals, hypothesis tests) may differ depending on whether the data are ratio, interval, ordinal, or nominal. Incorrect inferences can result in flawed decision-making."
   ]
  },
  {
   "cell_type": "code",
   "execution_count": null,
   "id": "721a9aeb",
   "metadata": {},
   "outputs": [],
   "source": [
    "Q7"
   ]
  },
  {
   "cell_type": "code",
   "execution_count": null,
   "id": "702816cf",
   "metadata": {},
   "outputs": [],
   "source": [
    "Nominal Data:\n",
    "=>Nominal data consist of categories or labels that represent distinct groups or attributes. These categories have no inherent order or ranking. In nominal data, categories are simply different, and they cannot be quantitatively compared in terms of magnitude or preference.\n",
    "=>Colors (e.g., red, blue, green)\n",
    "Types of animals (e.g., dog, cat, bird)\n",
    "Marital status (e.g., single, married, divorced)\n",
    "=>there is no order or ranking among the categories. The categories are treated as equal in terms of their attributes, and there is no inherent sequence.\n",
    "=>it do not support meaningful mathematical operations. You cannot perform arithmetic calculations on nominal categories, and there is no concept of \"more\" or \"less\" in this type of data.\n",
    "\n",
    "Ordinal Data:\n",
    "=>Ordinal data also consist of categories, but these categories have a specific order or ranking. In ordinal data, the categories represent different levels or positions on a scale, indicating that one category is higher or lower than another. However, the intervals between the categories are not uniform or meaningful, and the precise differences between categories are not known.\n",
    "=>Educational attainment (e.g., high school diploma, bachelor's degree, master's degree)\n",
    "Customer satisfaction ratings (e.g., very dissatisfied, dissatisfied, neutral, satisfied, very satisfied)\n",
    "Socioeconomic status (e.g., low income, middle income, high income)\n",
    "=>in ordinal data, categories have a specific order, and one category is considered higher or lower than another. While the order is meaningful, the precise difference between adjacent categories may not be known or uniform.\n",
    "=>it do not support precise mathematical operations either. While you can compare the order of categories, you cannot say that the difference between two adjacent categories is constant or meaningful."
   ]
  },
  {
   "cell_type": "code",
   "execution_count": null,
   "id": "d151f1ed",
   "metadata": {},
   "outputs": [],
   "source": [
    "Q8"
   ]
  },
  {
   "cell_type": "code",
   "execution_count": null,
   "id": "ad979dcc",
   "metadata": {},
   "outputs": [],
   "source": [
    "A type of plot that is commonly used to display data in terms of range is a box plot or box-and-whisker plot. Box plots provide a visual representation of the range, spread, and distribution of a dataset by showing key summary statistics, including the minimum, maximum, quartiles, and potential outliers.\n",
    "\n",
    "Here's how a box plot typically represents data in terms of range:\n",
    "\n",
    "Box (Interquartile Range): The box in the middle of the plot represents the interquartile range (IQR), which includes the middle 50% of the data. The lower edge of the box indicates the first quartile (Q1), and the upper edge indicates the third quartile (Q3). The length of the box represents the range of values within this middle 50% of the data.\n",
    "\n",
    "Whiskers: Whiskers extend from the edges of the box to the minimum and maximum values within a defined range. The whiskers provide information about the range of the data outside the IQR. Outliers, if present, are typically shown as individual data points beyond the whiskers.\n",
    "\n",
    "Median (Center Line): A horizontal line inside the box represents the median (Q2), which is the midpoint of the data. The median provides a measure of central tendency."
   ]
  },
  {
   "cell_type": "markdown",
   "id": "db6b96bd",
   "metadata": {},
   "source": [
    "Q9"
   ]
  },
  {
   "cell_type": "code",
   "execution_count": null,
   "id": "26542efc",
   "metadata": {},
   "outputs": [],
   "source": [
    "Descripitive statistics:\n",
    "=>Descriptive statistics involve methods and techniques used to summarize, organize, and present data in a meaningful and informative way. These statistics provide a concise and clear description of the main features of a dataset. Descriptive statistics do not involve making inferences or drawing conclusions about a larger population; instead, they focus on summarizing the characteristics of the data at hand.\n",
    "\n",
    "\n",
    "Example: Calculating the mean (average) age of a sample of 100 employees in a company.\n",
    "    \n",
    "=>In this case, you are simply summarizing the ages of the 100 employees in the sample. You are not making any claims about the average age of all employees in the company or any other population. Descriptive statistics in this context help you understand the central tendency of the sample data and provide a summary measure that can be used to describe the typical age of the employees in the sample.\n",
    "\n",
    "\n",
    "Inferential Statistics:\n",
    "\n",
    "=>Inferential statistics, on the other hand, involve making inferences, drawing conclusions, and making predictions about a larger population based on a sample of data. These statistics use probability theory and statistical methods to generalize findings from a sample to a broader population. Inferential statistics allow researchers to make statements about relationships, effects, or differences in populations.\n",
    "\n",
    "Example: Conducting a hypothesis test to determine whether a new drug is more effective than an existing drug in reducing blood pressure in a population of patients.\n",
    "\n",
    "In this example, you are not just summarizing data from a sample of patients; you are making an inference about a larger population of patients with high blood pressure. By conducting a hypothesis test, you assess whether the observed differences in blood pressure reduction between the two drugs are statistically significant. If they are, you can infer that the new drug is likely more effective in the broader population. Inferential statistics help make evidence-based decisions and draw conclusions beyond the sample data."
   ]
  },
  {
   "cell_type": "code",
   "execution_count": null,
   "id": "86d113a8",
   "metadata": {},
   "outputs": [],
   "source": [
    "Q10"
   ]
  },
  {
   "cell_type": "code",
   "execution_count": null,
   "id": "e85f2250",
   "metadata": {},
   "outputs": [],
   "source": [
    "Mean (Arithmetic Mean):\n",
    "Description: The mean is the average of all data points in a dataset. It is calculated by summing up all the values and dividing by the total number of data points.\n",
    "Use: The mean represents the typical or central value of the dataset. It is often used to describe the central tendency of a distribution. However, it can be sensitive to outliers.\n",
    "\n",
    "Median:\n",
    "Description: The median is the middle value in a dataset when the data points are ordered from lowest to highest (or vice versa). If there is an even number of data points, the median is the average of the two middle values.\n",
    "Use: The median is a robust measure of central tendency that is not affected by extreme values (outliers). It represents the middle value of the dataset and is especially useful when dealing with skewed or non-normally distributed data.\n",
    "\n",
    "Mode:\n",
    "description: The mode is the value that appears most frequently in a dataset. A dataset can have one mode (unimodal), more than one mode (multimodal), or no mode.\n",
    "Use: The mode helps identify the most frequently occurring value(s) in the data. It is particularly useful for categorical or discrete data.\n",
    "    \n",
    "Range:\n",
    "Description: The range is the difference between the maximum and minimum values in a dataset.\n",
    "Use: The range provides a simple measure of the spread or dispersion of data. It is easy to calculate but can be sensitive to outliers.\n",
    "\n",
    "Variance:\n",
    "Description: Variance measures the average squared deviation of each data point from the mean. It quantifies the spread of data points around the mean.\n",
    "Use: Variance is a precise measure of variability and is used in various statistical calculations. However, it is not in the same units as the original data and can be influenced by extreme values.\n",
    "\n",
    "Standard Deviation:\n",
    "Description: The standard deviation is the square root of the variance. It measures the average distance between data points and the mean.\n",
    "Use: The standard deviation is widely used to describe the spread of data. It provides a measure of dispersion in the same units as the original data and is more interpretable than variance."
   ]
  }
 ],
 "metadata": {
  "kernelspec": {
   "display_name": "Python 3 (ipykernel)",
   "language": "python",
   "name": "python3"
  },
  "language_info": {
   "codemirror_mode": {
    "name": "ipython",
    "version": 3
   },
   "file_extension": ".py",
   "mimetype": "text/x-python",
   "name": "python",
   "nbconvert_exporter": "python",
   "pygments_lexer": "ipython3",
   "version": "3.9.13"
  }
 },
 "nbformat": 4,
 "nbformat_minor": 5
}
