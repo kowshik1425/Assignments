{
 "cells": [
  {
   "cell_type": "code",
   "execution_count": null,
   "id": "b716123c",
   "metadata": {},
   "outputs": [],
   "source": [
    "1.\n",
    "(1)a = \"pwskills\"\n",
    "(2)a = [\"a\",1.2.4,\"kowshik\"]\n",
    "(3)a = 23.5\n",
    "(4)a = (1,2,3,3.5)"
   ]
  },
  {
   "cell_type": "code",
   "execution_count": null,
   "id": "9986b1f2",
   "metadata": {},
   "outputs": [],
   "source": [
    "Q2"
   ]
  },
  {
   "cell_type": "code",
   "execution_count": null,
   "id": "8335f0aa",
   "metadata": {},
   "outputs": [],
   "source": [
    "\n",
    "(1) srting\n",
    "(2) string\n",
    "(3) list\n",
    "(4) int"
   ]
  },
  {
   "cell_type": "code",
   "execution_count": null,
   "id": "d1e05cba",
   "metadata": {},
   "outputs": [],
   "source": [
    "Q3"
   ]
  },
  {
   "cell_type": "code",
   "execution_count": 6,
   "id": "eb2abbfa",
   "metadata": {},
   "outputs": [
    {
     "name": "stdout",
     "output_type": "stream",
     "text": [
      "enter a value:2\n",
      "enter b values:3\n",
      "6\n",
      "2\n",
      "0\n",
      "8\n"
     ]
    }
   ],
   "source": [
    "\n",
    "a=int(input(\"enter a value:\"))\n",
    "b=int(input(\"enter b values:\"))\n",
    "print(a*b)\n",
    "print(a%b)\n",
    "print(a//b)\n",
    "print(a**b)\n",
    "\n"
   ]
  },
  {
   "cell_type": "code",
   "execution_count": null,
   "id": "1b55e206",
   "metadata": {},
   "outputs": [],
   "source": [
    "Q4"
   ]
  },
  {
   "cell_type": "code",
   "execution_count": 2,
   "id": "85c0429e",
   "metadata": {},
   "outputs": [
    {
     "name": "stdout",
     "output_type": "stream",
     "text": [
      "1 <class 'int'>\n",
      "2 <class 'int'>\n",
      "3 <class 'int'>\n",
      "kowshik <class 'str'>\n",
      "3.4 <class 'float'>\n",
      "5.6 <class 'float'>\n",
      "a <class 'str'>\n",
      "45 <class 'int'>\n",
      "6.7 <class 'float'>\n",
      "hi <class 'str'>\n"
     ]
    }
   ],
   "source": [
    "a=[1,2,3,\"kowshik\",3.4,5.6,\"a\",45,6.7,\"hi\"]\n",
    "for i in a:\n",
    "    print(i,type(i))"
   ]
  },
  {
   "cell_type": "code",
   "execution_count": null,
   "id": "a6c6415b",
   "metadata": {},
   "outputs": [],
   "source": [
    "Q5"
   ]
  },
  {
   "cell_type": "code",
   "execution_count": 3,
   "id": "a24a662f",
   "metadata": {},
   "outputs": [
    {
     "name": "stdout",
     "output_type": "stream",
     "text": [
      "enter a:10\n",
      "enter b:2\n",
      "a is purley divisible by b\n",
      "number of times a divisible by b is :5.0\n"
     ]
    }
   ],
   "source": [
    "a=int(input(\"enter a:\"))\n",
    "b=int(input(\"enter b:\"))\n",
    "while True:\n",
    "    if a%b==0:\n",
    "        c=a/b\n",
    "        print(\"a is purley divisible by b\")\n",
    "        print(f\"number of times a divisible by b is :{c}\" )\n",
    "        break\n",
    "    else:\n",
    "        print(\"a is not purley divisible by b\")\n",
    "        break\n"
   ]
  },
  {
   "cell_type": "markdown",
   "id": "0b88b190",
   "metadata": {},
   "source": [
    "Q6"
   ]
  },
  {
   "cell_type": "code",
   "execution_count": 4,
   "id": "c56168ad",
   "metadata": {},
   "outputs": [
    {
     "name": "stdout",
     "output_type": "stream",
     "text": [
      "1 not divisible by 3\n",
      "2 not divisible by 3\n",
      "3 divisible by 3\n",
      "4 not divisible by 3\n",
      "5 not divisible by 3\n",
      "6 divisible by 3\n",
      "7 not divisible by 3\n",
      "8 not divisible by 3\n",
      "9 divisible by 3\n",
      "10 not divisible by 3\n",
      "11 not divisible by 3\n",
      "12 divisible by 3\n",
      "13 not divisible by 3\n",
      "14 not divisible by 3\n",
      "15 divisible by 3\n",
      "16 not divisible by 3\n",
      "17 not divisible by 3\n",
      "18 divisible by 3\n",
      "19 not divisible by 3\n",
      "20 not divisible by 3\n",
      "21 divisible by 3\n",
      "22 not divisible by 3\n",
      "23 not divisible by 3\n",
      "24 divisible by 3\n",
      "25 not divisible by 3\n"
     ]
    }
   ],
   "source": [
    "a=[1,2,3,4,5,6,7,8,9,10,11,12,13,14,15,16,17,18,19,20,21,22,23,24,25]\n",
    "for i in a:\n",
    "    if i%3==0:\n",
    "        print(i,\"divisible by 3\")\n",
    "    else:\n",
    "        print(i,\"not divisible by 3\")"
   ]
  },
  {
   "cell_type": "code",
   "execution_count": null,
   "id": "1dfdcc9a",
   "metadata": {},
   "outputs": [],
   "source": [
    "Q7"
   ]
  },
  {
   "cell_type": "code",
   "execution_count": null,
   "id": "d56c7c69",
   "metadata": {},
   "outputs": [],
   "source": [
    "MUTABLE: Mutable data types can be changed after they are created.\n",
    "eg:\n",
    "    Lists\n",
    "    Dictionaries\n",
    "    Sets\n",
    "    Tuples\n",
    "IMMUTABLE:immutable data types that cannot be changed after they are created.\n",
    "eg:\n",
    "    Numbers\n",
    "    Strings\n",
    "    Booleans\n",
    "    Bytes"
   ]
  }
 ],
 "metadata": {
  "kernelspec": {
   "display_name": "Python 3 (ipykernel)",
   "language": "python",
   "name": "python3"
  },
  "language_info": {
   "codemirror_mode": {
    "name": "ipython",
    "version": 3
   },
   "file_extension": ".py",
   "mimetype": "text/x-python",
   "name": "python",
   "nbconvert_exporter": "python",
   "pygments_lexer": "ipython3",
   "version": "3.9.13"
  }
 },
 "nbformat": 4,
 "nbformat_minor": 5
}
