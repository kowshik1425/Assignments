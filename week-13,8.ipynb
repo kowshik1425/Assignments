{
 "cells": [
  {
   "cell_type": "code",
   "execution_count": null,
   "id": "a34aa2ab",
   "metadata": {},
   "outputs": [],
   "source": [
    "#1"
   ]
  },
  {
   "cell_type": "code",
   "execution_count": null,
   "id": "3fd47f51",
   "metadata": {},
   "outputs": [],
   "source": [
    "The Pearson correlation coefficient, often denoted as \"r,\" is a measure of the linear relationship between two continuous variables. It quantifies the strength and direction of the linear association between the variables. The value of r ranges from -1 to 1, where:\n",
    "\n",
    "r = 1 indicates a perfect positive linear relationship (as one variable increases, the other increases proportionally).\n",
    "r = -1 indicates a perfect negative linear relationship (as one variable increases, the other decreases proportionally).\n",
    "r = 0 indicates no linear relationship (there is no linear trend between the variables).\n",
    "To calculate the Pearson correlation coefficient between the amount of time students spend studying for an exam and their final exam scores, follow these steps:\n",
    "\n",
    "Calculate the means (average) for both variables:\n",
    "Mean of study time (denoted as X̄).\n",
    "Mean of exam scores (denoted as Ȳ).\n",
    "\n",
    "Calculate the numerator, which is the sum of the products of the deviations of each data point from their respective means for both variables:\n",
    "Sum of [(Study Time - X̄) * (Exam Scores - Ȳ)].\n",
    "\n",
    "Calculate the denominator, which is the product of the standard deviations of both variables:\n",
    "Denominator = (Standard Deviation of Study Time) * (Standard Deviation of Exam Scores).\n",
    "\n",
    "Calculate the Pearson correlation coefficient (r) using the formula:\n",
    "r = Numerator / Denominator.\n",
    "\n",
    "Now, interpret the result:\n",
    "If r is close to 1 (positive value near 1), it suggests a strong positive linear relationship. In the context of this scenario, it would mean that as students spend more time studying for the exam, their final exam scores tend to increase significantly.\n",
    "If r is close to -1 (negative value near -1), it suggests a strong negative linear relationship. In this case, it would mean that as students spend more time studying, their final exam scores tend to decrease significantly."
   ]
  },
  {
   "cell_type": "code",
   "execution_count": null,
   "id": "c24dc878",
   "metadata": {},
   "outputs": [],
   "source": [
    "#2"
   ]
  },
  {
   "cell_type": "code",
   "execution_count": null,
   "id": "f0784ea1",
   "metadata": {},
   "outputs": [],
   "source": [
    "To calculate Spearman's rank correlation between the amount of sleep individuals get each night and their overall job satisfaction level, follow these steps:\n",
    "\n",
    "1)Collect your data and arrange it in pairs, one for each individual, with the amount of sleep as one variable and job satisfaction as the other variable.\n",
    "2)Rank the values for both variables separately, from lowest to highest, giving the lowest value a rank of 1 and the highest value the rank of n, where n is the number of data points. If there are tied values, assign the average rank to those tied values.\n",
    "3)Calculate the difference between the ranks for each pair of data points for both variables. Square these differences.\n",
    "4)Calculate the Spearman's rank correlation coefficient (ρ) using the formula:\n",
    "\n",
    "ρ = 1 - [(6 * Σd^2) / (n * (n^2 - 1))]\n",
    "\n",
    "Where:\n",
    "=>Σd^2 is the sum of squared rank differences.\n",
    "=>n is the number of data points.\n",
    "\n",
    "Interpret the result:\n",
    "If ρ is close to +1, it indicates a strong positive monotonic relationship, meaning that as the amount of sleep individuals get each night increases, their job satisfaction level tends to increase as well.\n",
    "If ρ is close to -1, it indicates a strong negative monotonic relationship, meaning that as the amount of sleep individuals get each night increases, their job satisfaction level tends to decrease."
   ]
  },
  {
   "cell_type": "code",
   "execution_count": null,
   "id": "e5af4df9",
   "metadata": {},
   "outputs": [],
   "source": [
    "#3"
   ]
  },
  {
   "cell_type": "code",
   "execution_count": null,
   "id": "1003980c",
   "metadata": {},
   "outputs": [],
   "source": [
    "calculating both correlation coefficients and compare the results:\n",
    "\n",
    "1)Pearson Correlation Coefficient (Pearson's r):The Pearson correlation coefficient measures the linear relationship between two continuous variables.\n",
    "                                   \n",
    "2)Spearman's Rank Correlation Coefficient (Spearman's ρ):\n",
    "Spearman's rank correlation coefficient measures the strength and direction of the monotonic relationship between two variables. To calculate it, follow these steps:\n",
    "\n",
    "a. Rank the data for both variables. Assign ranks from 1 to 50 based on the order of magnitude, where 1 is the lowest value, and 50 is the highest value, for both exercise hours (X) and BMI (Y).\n",
    "\n",
    "b. Calculate the difference between the ranks for each pair of data points and square the differences.\n",
    "\n",
    "c. Sum the squared rank differences.\n",
    "\n",
    "3)Comparison:Pearson's correlation coefficient measures linear relationships. It varies between -1 and 1, with 1 indicating a perfect positive linear relationship, -1 indicating a perfect negative linear relationship, and 0 indicating no linear relationship.\n",
    "=>Spearman's rank correlation coefficient measures monotonic relationships. It also varies between -1 and 1."
   ]
  },
  {
   "cell_type": "code",
   "execution_count": null,
   "id": "a81fdf88",
   "metadata": {},
   "outputs": [],
   "source": [
    "#4"
   ]
  },
  {
   "cell_type": "code",
   "execution_count": 9,
   "id": "9a31ed8f",
   "metadata": {},
   "outputs": [
    {
     "name": "stdout",
     "output_type": "stream",
     "text": [
      "Pearson Correlation Coefficient: 0.006841903003669228\n",
      "P-Value: 0.9623885598602503\n"
     ]
    }
   ],
   "source": [
    "import numpy as np\n",
    "import random\n",
    "from scipy.stats import pearsonr\n",
    "hours_of_tv = []\n",
    "for i in range(50):\n",
    "    hours_of_tv.append(random.randint(1, 100)) \n",
    "physical_activity = []  \n",
    "for i in range(50):\n",
    "    physical_activity.append(random.randint(1, 100)) \n",
    "correlation_coefficient, p_value = pearsonr(hours_of_tv, physical_activity)\n",
    "\n",
    "print(f\"Pearson Correlation Coefficient: {correlation_coefficient}\")\n",
    "print(f\"P-Value: {p_value}\")\n"
   ]
  },
  {
   "cell_type": "code",
   "execution_count": null,
   "id": "5cc361ab",
   "metadata": {},
   "outputs": [],
   "source": [
    "#5"
   ]
  },
  {
   "cell_type": "code",
   "execution_count": 3,
   "id": "431d34db",
   "metadata": {},
   "outputs": [
    {
     "name": "stdout",
     "output_type": "stream",
     "text": [
      "Pearson Correlation Coefficient: 0.9826275139789609\n"
     ]
    }
   ],
   "source": [
    "import numpy as np\n",
    "from scipy.stats import pearsonr\n",
    "sales_calls_per_day = [10, 12, 8, 15, 11]  \n",
    "sales_per_week = [3, 4, 2, 5, 3]  \n",
    "\n",
    "correlation_coefficient, _ = pearsonr(sales_calls_per_day, sales_per_week)\n",
    "\n",
    "print(f\"Pearson Correlation Coefficient: {correlation_coefficient}\")\n"
   ]
  },
  {
   "cell_type": "code",
   "execution_count": null,
   "id": "53d10f90",
   "metadata": {},
   "outputs": [],
   "source": [
    "#6"
   ]
  },
  {
   "cell_type": "code",
   "execution_count": 6,
   "id": "cd2987d1",
   "metadata": {},
   "outputs": [
    {
     "name": "stdout",
     "output_type": "stream",
     "text": [
      "Pearson Correlation Coefficient: 0.9826275139789609\n"
     ]
    }
   ],
   "source": [
    "import numpy as np\n",
    "from scipy.stats import pearsonr\n",
    "sales_calls_per_day = [10, 12, 8, 15, 11,45,2,3,4,5,6,7,87,54,34,23,23,12,13,14,12,11,11,22,33,44,55,66,78,90]  \n",
    "sales_per_week = [3, 4, 2, 5, 3,6,7,8,9,12,12,11,13,14,15,12,17,66,45,34,23,34,23,67,45,34,23,11,56,34]  \n",
    "\n",
    "\n",
    "corelation_coefficient, _ = pearsonr(sales_calls_per_day, sales_per_week)\n",
    "\n",
    "print(f\"Pearson Correlation Coefficient: {correlation_coefficient}\")\n"
   ]
  },
  {
   "cell_type": "code",
   "execution_count": null,
   "id": "7de92a99",
   "metadata": {},
   "outputs": [],
   "source": []
  }
 ],
 "metadata": {
  "kernelspec": {
   "display_name": "Python 3 (ipykernel)",
   "language": "python",
   "name": "python3"
  },
  "language_info": {
   "codemirror_mode": {
    "name": "ipython",
    "version": 3
   },
   "file_extension": ".py",
   "mimetype": "text/x-python",
   "name": "python",
   "nbconvert_exporter": "python",
   "pygments_lexer": "ipython3",
   "version": "3.9.13"
  }
 },
 "nbformat": 4,
 "nbformat_minor": 5
}
