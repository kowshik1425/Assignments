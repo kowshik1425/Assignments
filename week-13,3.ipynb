{
 "cells": [
  {
   "cell_type": "code",
   "execution_count": null,
   "id": "05ce9e2f",
   "metadata": {},
   "outputs": [],
   "source": [
    "#1"
   ]
  },
  {
   "cell_type": "code",
   "execution_count": null,
   "id": "bf408dd6",
   "metadata": {},
   "outputs": [],
   "source": [
    "\n",
    "Missing values in a dataset refer to the absence of data for one or more variables in certain observations or records. These missing values can occur for various reasons, such as data entry errors, equipment malfunction, survey non-responses, or simply because the information is not applicable to certain cases. \n",
    "Handling missing values is essential in data analysis and machine learning for several reasons:\n",
    "\n",
    "Data Quality: Missing values can lead to inaccurate and biased results in data analysis or modeling. Ignoring them can lead to incorrect conclusions or predictions.\n",
    "\n",
    "Algorithm Compatibility: Many machine learning algorithms cannot handle missing values directly. They may throw errors or produce incorrect results if missing values are not addressed.\n",
    "\n",
    "Model Performance: Missing values can reduce the performance of machine learning models. Some algorithms may be more sensitive to missing data than others.\n",
    "    \n",
    "Algorithms that are not affected by missing values or are less sensitive to them include:\n",
    "\n",
    "Decision Trees: Decision tree algorithms can handle missing values effectively. They split data based on available features and do not require imputed or filled values for missing data points.\n",
    "\n",
    "Random Forest: Random Forest, an ensemble method based on decision trees, can also handle missing values without the need for imputation.\n",
    "\n",
    "K-Nearest Neighbors (KNN): KNN imputes missing values based on the values of their neighbors. It can work well with datasets containing missing data."
   ]
  },
  {
   "cell_type": "code",
   "execution_count": null,
   "id": "b8297918",
   "metadata": {},
   "outputs": [],
   "source": [
    "#2"
   ]
  },
  {
   "cell_type": "code",
   "execution_count": null,
   "id": "d1844710",
   "metadata": {},
   "outputs": [],
   "source": [
    "Mean value imputation:it is a simple technique for handling missing data by filling in missing values with the mean (average) value of the non-missing values in the same column. This approach is commonly used when the missing values are assumed to be missing at random and imputing the mean is a reasonable approximation.\n",
    "\n",
    "import pandas as pd\n",
    "data = {'A': [1, 2, None, 4, 5],\n",
    "        'B': [None, 2, 3, None, 5]}\n",
    "df = pd.DataFrame(data)\n",
    "df_filled_mean = df.fillna(df.mean())\n",
    "print(df_filled_mean)\n",
    "\n",
    "Median value imputation:it is another technique for handling missing data. Instead of filling in missing values with the mean (average) as in mean imputation, you fill them with the median value of the non-missing values in the same column. This method is less sensitive to outliers and skewed data compared to mean imputation.\n",
    "\n",
    "import pandas as pd\n",
    "data = {'A': [1, 2, None, 4, 5],\n",
    "        'B': [None, 2, 3, None, 5]}\n",
    "df = pd.DataFrame(data)\n",
    "df_filled_median = df.fillna(df.median())\n",
    "print(df_filled_median)\n",
    "\n",
    "\n",
    "Mode value imputation:it involves filling in missing data with the mode, which is the most frequently occurring value in a column or feature. This technique is primarily used for categorical or discrete data, where finding a mean or median may not make sense.\n",
    "\n",
    "import pandas as pd\n",
    "data = {'A': ['red', 'blue', 'green', None, 'red'],\n",
    "        'B': [None, 'apple', 'banana', 'banana', None]}\n",
    "df = pd.DataFrame(data)\n",
    "df_filled_mode = df.fillna(df.mode().iloc[0])\n",
    "print(df_filled_mode)\n"
   ]
  },
  {
   "cell_type": "code",
   "execution_count": null,
   "id": "df102df7",
   "metadata": {},
   "outputs": [],
   "source": [
    "#3"
   ]
  },
  {
   "cell_type": "code",
   "execution_count": null,
   "id": "e09a8b71",
   "metadata": {},
   "outputs": [],
   "source": [
    "\n",
    "Imbalanced data refers to a situation in a classification problem where the distribution of classes or labels is not equal, meaning that one class has significantly fewer instances compared to one or more other classes. In other words, the dataset is skewed towards one or a few classes, while other classes are underrepresented. Imbalanced data is a common occurrence in various real-world applications, including fraud detection, medical diagnosis, and text classification.\n",
    "\n",
    "Here's what can happen if imbalanced data is not handled properly:\n",
    "\n",
    "Bias in Model Performance: Machine learning models trained on imbalanced data are likely to be biased towards the majority class. They may perform well in terms of accuracy but poorly in terms of other performance metrics like precision, recall, and F1-score. The model may predict the majority class most of the time, ignoring the minority class entirely.\n",
    "\n",
    "Misclassification of Minority Class: In imbalanced datasets, the minority class often has fewer samples, making it more challenging for the model to learn its characteristics. As a result, the model may misclassify instances from the minority class, leading to false negatives.\n",
    "\n",
    "Loss of Important Information: Imbalanced datasets may contain critical information in the minority class that is essential for decision-making or problem-solving. If the model ignores or misclassifies this information, it can have serious consequences in applications like medical diagnoses or fraud detection.\n",
    "\n",
    "Difficulty in Generalization: Models trained on imbalanced data may struggle to generalize well to new, unseen data. They may be overly sensitive to the training data's class distribution and fail to perform well on data with different class distributions."
   ]
  },
  {
   "cell_type": "code",
   "execution_count": null,
   "id": "cc12f3e7",
   "metadata": {},
   "outputs": [],
   "source": [
    "#4"
   ]
  },
  {
   "cell_type": "code",
   "execution_count": null,
   "id": "578182aa",
   "metadata": {},
   "outputs": [],
   "source": [
    "Up-Sampling:Up-sampling involves increasing the number of instances in the minority class to make it comparable to the majority class. This is typically done by randomly duplicating existing instances from the minority class or generating synthetic samples to balance the class distribution.\n",
    "\n",
    "Example:\n",
    "Suppose you are working on a credit card fraud detection problem. In your dataset, you have 1,000 legitimate transactions (the majority class) and only 50 fraudulent transactions (the minority class). The class distribution is highly imbalanced. To improve the model's performance in detecting fraud, you can up-sample the minority class by creating synthetic samples or duplicating existing ones, so that you have, for example, 1,000 legitimate transactions and 1,000 fraudulent transactions. This balance can help the model better learn the characteristics of both classes.\n",
    "\n",
    "Down-Sampling:Down-sampling involves reducing the number of instances in the majority class to match the number of instances in the minority class. This is typically done by randomly removing instances from the majority class, which can help balance the class distribution.\n",
    "Example:\n",
    "Consider a medical diagnosis problem where you are classifying patients as healthy or having a rare disease. In your dataset, you have 500 healthy patients (majority class) and 50 patients with the rare disease (minority class). The class distribution is highly imbalanced. To balance the classes, you can down-sample the majority class by randomly selecting 50 healthy patients, resulting in an equal number of instances in both classes."
   ]
  },
  {
   "cell_type": "code",
   "execution_count": null,
   "id": "b3da5abf",
   "metadata": {},
   "outputs": [],
   "source": [
    "#5"
   ]
  },
  {
   "cell_type": "code",
   "execution_count": null,
   "id": "d292562e",
   "metadata": {},
   "outputs": [],
   "source": [
    "Data augmentation is a technique used in machine learning and deep learning to artificially increase the size of a dataset by creating new training examples from the existing ones. The goal of data augmentation is to improve the generalization and robustness of machine learning models, particularly in scenarios where the amount of available training data is limited. Data augmentation is commonly used in computer vision tasks, natural language processing, and other domains.\n",
    "\n",
    "SMOTE (Synthetic Minority Over-sampling Technique):\n",
    "\n",
    "SMOTE is an oversampling technique used to address class imbalance in machine learning datasets, particularly in binary classification problems. It aims to balance the class distribution by generating synthetic samples for the minority class.\n",
    "\n",
    "Here's how SMOTE works:\n",
    "\n",
    "1)For each minority class instance, SMOTE selects its k nearest neighbors from the same class.\n",
    "\n",
    "2)It then generates synthetic samples by interpolating between the selected instance and one of its nearest neighbors. The interpolation is done by taking a random value between 0 and 1 and multiplying it with the difference between the selected instance and the neighbor. The result is added to the selected instance to create a new synthetic sample.\n",
    "\n",
    "3)This process is repeated until the desired balance between the minority and majority classes is achieved."
   ]
  },
  {
   "cell_type": "code",
   "execution_count": null,
   "id": "095b89c3",
   "metadata": {},
   "outputs": [],
   "source": [
    "#6"
   ]
  },
  {
   "cell_type": "code",
   "execution_count": null,
   "id": "d04270eb",
   "metadata": {},
   "outputs": [],
   "source": [
    "Outliers in a dataset are data points or observations that significantly deviate from the majority of the data points in the same dataset. These data points are unusual, exceptional, or \"outlying\" compared to the rest of the data and may represent errors, anomalies, or rare events. Outliers can exist in univariate data (a single variable) or multivariate data (multiple variables), and they can occur in various types of data, including numerical, categorical, and time series data.\n",
    "\n",
    "It is essential to handle outliers for several reasons:\n",
    "\n",
    "Impact on Descriptive Statistics: Outliers can significantly affect common descriptive statistics such as the mean, median, and standard deviation. The presence of outliers can distort these statistics, leading to misleading insights about the central tendency and variability of the data.\n",
    "\n",
    "Model Performance: Outliers can have a substantial impact on the performance of machine learning and statistical models. They can lead to models that do not generalize well to new data or produce inaccurate predictions. Some algorithms are highly sensitive to outliers and can be influenced by them.\n",
    "\n",
    "Statistical Assumptions: Many statistical methods and tests assume that the data follow certain distributions or properties (e.g., normality). Outliers can violate these assumptions and lead to incorrect inferences.\n",
    "\n",
    "Data Visualization: Outliers can distort data visualizations, making it challenging to visualize and interpret the patterns and relationships within the data. Visualization is a crucial step in data exploration and analysis."
   ]
  },
  {
   "cell_type": "code",
   "execution_count": null,
   "id": "e242b1cb",
   "metadata": {},
   "outputs": [],
   "source": [
    "#7"
   ]
  },
  {
   "cell_type": "code",
   "execution_count": null,
   "id": "8c88eea0",
   "metadata": {},
   "outputs": [],
   "source": [
    "Data Imputation:Mean, Median, or Mode Imputation: Fill missing numeric data with the mean (average), median (middle value), or mode (most frequent value) of the non-missing values in the same column.\n",
    "\n",
    "Deletion of Missing Data:\n",
    "Listwise Deletion: Remove entire rows or observations with any missing values. This approach should be used with caution, as it can lead to a significant loss of data.\n",
    "Column Deletion: Remove entire columns with a high percentage of missing values if the features are not informative or relevant.\n",
    "Data Augmentation:\n",
    "\n",
    "Impute Using Similar Data: If you have access to similar data sources or external data, you can impute missing values using information from those sources.\n",
    "Synthetic Data Generation: Create synthetic data points or use data augmentation techniques to generate new data based on the available data.\n",
    "Categorical Encoding for Missing Data:\n",
    "\n",
    "Machine Learning Models:Utilize machine learning models that can handle missing data, such as decision trees, random forests, and deep learning models, as they can often accommodate missing values without imputation.\n",
    "\n",
    "Multiple Imputation:Generate multiple imputed datasets with different imputed values to account for uncertainty. Analyze each imputed dataset separately and combine the results using appropriate techniques.\n",
    "\n",
    "Domain-Specific Imputation:In some cases, domain knowledge can help guide imputation strategies. For example, if you're working with medical data, you might impute missing values differently based on the type of medical measurement.\n",
    "\n",
    "Missing Data Indicators:Create binary indicator variables that indicate whether a value is missing or not. This allows the model to explicitly consider the missingness as a feature.\n"
   ]
  },
  {
   "cell_type": "code",
   "execution_count": null,
   "id": "65786e97",
   "metadata": {},
   "outputs": [],
   "source": [
    "#8"
   ]
  },
  {
   "cell_type": "code",
   "execution_count": null,
   "id": "0399edb4",
   "metadata": {},
   "outputs": [],
   "source": [
    "Determining whether missing data is missing at random (MAR) or if there is a pattern or structure to the missingness can help you make informed decisions about how to handle the missing data and whether imputation techniques are appropriate. Here are some strategies and methods you can use to assess the nature of missing data:\n",
    "\n",
    "Missing Data Visualization:Start by visualizing the missing data using techniques like heatmaps, bar charts, or histograms to identify patterns visually. Plotting the missingness of each variable can reveal if certain variables have more missing data than others.\n",
    "\n",
    "Missing Data Summary Statistics:Calculate summary statistics related to missing data, such as the percentage of missing values for each variable. You can also calculate the correlation between missingness in different variables. High correlations might suggest a pattern.\n",
    "\n",
    "Missing Data Patterns:Explore patterns in missing data by grouping observations with similar missingness profiles. Cluster analysis or hierarchical clustering can help identify groups of records with similar patterns of missing data.\n",
    "\n",
    "Missingness by Category:If your data includes categorical variables, examine missingness patterns within each category or level of those variables. This can help identify if missing data is associated with specific categories.\n",
    "\n",
    "Time-Based Analysis:If your dataset has a temporal component, investigate whether the missingness has a temporal pattern. For example, missing data may be more prevalent during certain time periods or seasons.\n",
    "\n",
    "Chi-Square Test for Independence:Use the chi-square test for independence to assess whether the missingness in one variable is dependent on the values of another variable. If they are dependent, it may indicate a non-random pattern.\n",
    "\n",
    "Machine Learning Models:Train machine learning models to predict missingness in one variable based on other variables. If the model performs significantly better than random chance, it suggests that the missingness is not entirely random."
   ]
  },
  {
   "cell_type": "code",
   "execution_count": null,
   "id": "360efec9",
   "metadata": {},
   "outputs": [],
   "source": [
    "#9"
   ]
  },
  {
   "cell_type": "code",
   "execution_count": null,
   "id": "4a6a7f9d",
   "metadata": {},
   "outputs": [],
   "source": [
    "When working with an imbalanced medical diagnosis dataset where the majority of patients do not have the condition of interest, it's essential to use appropriate evaluation strategies to ensure that your machine learning model's performance is reliable and meaningful.\n",
    "\n",
    "Use Appropriate Evaluation Metrics:Avoid relying solely on accuracy as a performance metric since it can be misleading in imbalanced datasets. Instead, focus on metrics that are more informative, such as:\n",
    " Precision: Measures the proportion of true positive predictions among all positive predictions. It is especially important when you want to minimize false positives.\n",
    " Recall : Measures the proportion of true positive predictions among all actual positive cases. It is essential when you want to minimize false negatives.\n",
    " F1-Score: The harmonic mean of precision and recall, which balances both metrics. It is useful when you want to find a balance between precision and recall.\n",
    " Area Under the Receiver Operating Characteristic (ROC-AUC): Measures the model's ability to distinguish between positive and negative classes. It considers the entire range of decision thresholds and is suitable for imbalanced datasets.\n",
    "\n",
    "Resampling Techniques:Address class imbalance by applying resampling techniques.\n",
    "Over-sampling: Increase the number of samples in the minority class by duplicating or generating synthetic samples.\n",
    "Under-sampling: Reduce the number of samples in the majority class by randomly removing instances.\n",
    "\n",
    "Use Ensemble Models:Ensemble methods like Random Forest, Gradient Boosting, and AdaBoost often perform well on imbalanced datasets. These methods can handle class imbalance by combining multiple models or decision trees.\n",
    "\n",
    "Cost-Sensitive Learning:Modify the machine learning algorithm's cost function to penalize misclassifications of the minority class more heavily. This approach can be effective when the cost of false positives and false negatives differs significantly.\n",
    "\n",
    "Threshold Adjustment:Tune the classification threshold to optimize the desired trade-off between precision and recall. Depending on the application, you may want to prioritize one over the other.\n",
    "\n",
    "Stratified Cross-Validation:When performing cross-validation, ensure that each fold maintains the class distribution found in the original dataset. Stratified sampling helps prevent bias in model evaluation.\n",
    "\n",
    "Anomaly Detection:Treat the problem as an anomaly detection task, where the minority class represents anomalies. Anomaly detection techniques can be useful when the positive class is rare."
   ]
  },
  {
   "cell_type": "code",
   "execution_count": null,
   "id": "e75374e5",
   "metadata": {},
   "outputs": [],
   "source": [
    "#10"
   ]
  },
  {
   "cell_type": "code",
   "execution_count": null,
   "id": "f4e75cca",
   "metadata": {},
   "outputs": [],
   "source": [
    "When dealing with an unbalanced dataset in which the majority of customers report being satisfied, you can employ various methods to balance the dataset by down-sampling the majority class. Down-sampling involves reducing the number of instances in the majority class to make it comparable to the minority class. Here are some methods to down-sample the majority class:\n",
    "\n",
    "Random Under-Sampling:Randomly select a subset of instances from the majority class to match the size of the minority class. This approach is simple but may result in the loss of potentially valuable information.\n",
    "\n",
    "Cluster-Based Under-Sampling:Apply clustering techniques (e.g., K-Means) to cluster instances in the majority class. Then, randomly select one or more instances from each cluster to represent the majority class. This method helps preserve some diversity within the majority class.\n",
    "\n",
    "Tomek Links:Identify pairs of instances, one from the majority class and one from the minority class, that are close to each other but of different classes. Remove the majority class instances from these pairs to reduce over-representation.\n",
    "\n",
    "Edited Nearest Neighbors (ENN):Identify instances in the majority class that are misclassified by their nearest neighbors (which are also in the majority class) and remove them. This method can help eliminate noisy instances.\n",
    "\n",
    "Neighborhood Cleaning:Similar to ENN, this method removes noisy instances from the majority class by considering the class labels of their nearest neighbors.\n",
    "\n",
    "NearMiss Algorithm:NearMiss is an under-sampling technique that selects instances from the majority class based on their proximity to the minority class. There are different versions of the NearMiss algorithm, each with slightly different criteria for selecting instances.\n",
    "\n",
    "Condensed Nearest Neighbors (CNN):CNN is an under-sampling technique that aims to select a subset of instances from the majority class that best represents the data while removing redundant and noisy instances.\n",
    "\n",
    "One-Sided Selection (OSS):OSS combines Tomek links and CNN to improve the quality of under-sampled data while preserving the decision boundary between classes."
   ]
  },
  {
   "cell_type": "code",
   "execution_count": null,
   "id": "9f0d7168",
   "metadata": {},
   "outputs": [],
   "source": [
    "#11"
   ]
  },
  {
   "cell_type": "code",
   "execution_count": null,
   "id": "345701db",
   "metadata": {},
   "outputs": [],
   "source": [
    "When dealing with an imbalanced dataset where there is a low percentage of occurrences of a rare event, you can employ various methods to balance the dataset by up-sampling the minority class. Up-sampling involves increasing the number of instances in the minority class to make it comparable to the majority class. Here are some methods to up-sample the minority class:\n",
    "\n",
    "Random Over-Sampling:Randomly duplicate instances from the minority class to increase its size and match it with the majority class. This method is straightforward but may lead to overfitting if not used carefully.\n",
    "\n",
    "SMOTE (Synthetic Minority Over-sampling Technique):SMOTE generates synthetic samples for the minority class by interpolating between existing instances. It selects an instance, finds its k nearest neighbors, and creates synthetic instances along the line segments connecting the instance and its neighbors. This method helps prevent overfitting and is widely used for up-sampling.\n",
    "\n",
    "ADASYN (Adaptive Synthetic Sampling):ADASYN is an extension of SMOTE that adapts the degree of over-sampling for each instance based on its difficulty in learning. Instances that are harder to classify receive more synthetic samples.\n",
    "\n",
    "Borderline-SMOTE:Borderline-SMOTE is a variant of SMOTE that focuses on generating synthetic samples near the decision boundary between the minority and majority classes. This approach can improve the quality of synthetic samples.\n",
    "\n",
    "SMOTE-ENN:Combine SMOTE with Edited Nearest Neighbors (ENN) to generate synthetic samples using SMOTE and then remove noisy instances from the minority class using ENN.\n",
    "\n",
    "Cluster-Based Over-Sampling:Apply clustering algorithms (e.g., K-Means) to group instances in the minority class. Then, oversample by creating synthetic samples for each cluster, ensuring diversity in the synthetic samples."
   ]
  }
 ],
 "metadata": {
  "kernelspec": {
   "display_name": "Python 3 (ipykernel)",
   "language": "python",
   "name": "python3"
  },
  "language_info": {
   "codemirror_mode": {
    "name": "ipython",
    "version": 3
   },
   "file_extension": ".py",
   "mimetype": "text/x-python",
   "name": "python",
   "nbconvert_exporter": "python",
   "pygments_lexer": "ipython3",
   "version": "3.9.13"
  }
 },
 "nbformat": 4,
 "nbformat_minor": 5
}
