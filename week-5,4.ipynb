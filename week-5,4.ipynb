{
 "cells": [
  {
   "cell_type": "code",
   "execution_count": null,
   "id": "6dd2317c",
   "metadata": {},
   "outputs": [],
   "source": [
    "Q1"
   ]
  },
  {
   "cell_type": "code",
   "execution_count": null,
   "id": "e9558eec",
   "metadata": {},
   "outputs": [],
   "source": [
    "Multiprocessing in Python refers  to manage multiple processes concurrently, allowing for parallel execution of tasks. Each process runs independently and has its own memory space, which makes multiprocessing a way to leverage the full computing power of multi-core processors. Python provides a built-in module called multiprocessing to facilitate multiprocessing.\n",
    "\n",
    "Some key reasons why multiprocessing in Python is useful:\n",
    "\n",
    "Parallelism: Multiprocessing allows you to perform multiple tasks concurrently, taking full advantage of multi-core CPUs. This can significantly speed up CPU-bound operations, such as complex calculations, data processing, and simulations.\n",
    "\n",
    "Improved Performance: By distributing tasks among multiple processes, you can reduce the time it takes to complete a job. This can be especially valuable when working with large datasets or performing computationally intensive operations.\n",
    "\n",
    "Concurrency: Multiprocessing enables you to write concurrent programs without the complexity of managing threads and locks. Each process has its own memory space, reducing the likelihood of race conditions and other concurrency-related issues.\n",
    "\n",
    "Isolation: Processes are isolated from one another, meaning that if one process crashes due to an error, it won't affect other processes. This enhances the robustness and stability of your programs.\n",
    "\n",
    "Resource Utilization: It allows efficient utilization of available CPU resources. For example, on a quad-core CPU, you can run four processes concurrently, each utilizing one core to its full potential.\n"
   ]
  },
  {
   "cell_type": "code",
   "execution_count": null,
   "id": "a4f6825b",
   "metadata": {},
   "outputs": [],
   "source": [
    "Q2"
   ]
  },
  {
   "cell_type": "code",
   "execution_count": null,
   "id": "75ed5293",
   "metadata": {},
   "outputs": [],
   "source": [
    "Multiprocessing: \n",
    "=>In multiprocessing, concurrent execution is achieved by creating multiple independent processes, each with its own memory space and Python interpreter. Each process runs as a separate program, and communication between processes is typically done through inter-process communication (IPC) mechanisms like pipes or queues.\n",
    "=>Processes are isolated from each other, which means that if one process crashes due to an error, it won't affect other processes. This isolation provides better fault tolerance.\n",
    "=>Multiprocessing is suitable for achieving true parallelism on multi-core CPUs. Each process runs on a separate CPU core, enabling multiple CPU-bound tasks to be executed in parallel.\n",
    "=>Creating and managing processes typically incurs more overhead in terms of memory and system resources compared to threads. Each process has its own memory space.\n",
    "=>Writing multiprocessing code can be more complex, as you need to deal with inter-process communication (IPC) mechanisms like queues or pipes to exchange data between processes.\n",
    "\n",
    "Multithreading:\n",
    "=>In multithreading, concurrent execution is achieved by creating multiple threads within a single process. All threads share the same memory space and can access the same data structures directly. Threads are lighter-weight than processes and are managed by the operating system.\n",
    "=>Threads within the same process share memory space, which makes them susceptible to data race conditions and other concurrency-related issues. If one thread crashes, it can potentially crash the entire process.\n",
    "=>Multithreading is more suitable for tasks that are I/O-bound, such as reading/writing files or network communication. It may not fully utilize multiple CPU cores due to the Global Interpreter Lock (GIL) in Python, which allows only one thread to execute Python bytecode at a time.\n",
    "=>Threads are generally lighter-weight in terms of resource overhead, as they share the same memory space within a process. However, they still have some overhead associated with thread management.\n",
    "=>Multithreading can be simpler to implement for tasks that involve shared data within a single process. However, you need to be cautious about thread safety and potential race conditions."
   ]
  },
  {
   "cell_type": "code",
   "execution_count": null,
   "id": "eff71282",
   "metadata": {},
   "outputs": [],
   "source": [
    "Q3"
   ]
  },
  {
   "cell_type": "code",
   "execution_count": 1,
   "id": "dfd1e8c0",
   "metadata": {},
   "outputs": [
    {
     "name": "stdout",
     "output_type": "stream",
     "text": [
      "Main process continues...\n"
     ]
    }
   ],
   "source": [
    "import multiprocessing\n",
    "def my_function():\n",
    "    print(\"This is running in a separate process!\")\n",
    "\n",
    "if __name__ == \"__main__\":\n",
    "    my_process = multiprocessing.Process(target=my_function)\n",
    "    my_process.start()\n",
    "    my_process.join()\n",
    "\n",
    "    print(\"Main process continues...\")\n"
   ]
  },
  {
   "cell_type": "markdown",
   "id": "c873d3af",
   "metadata": {},
   "source": [
    "Q4"
   ]
  },
  {
   "cell_type": "code",
   "execution_count": null,
   "id": "b3950acc",
   "metadata": {},
   "outputs": [],
   "source": [
    "Parallel Execution: A pool allows you to parallelize the execution of a function across multiple processes, taking advantage of the available CPU cores. Each function call or task is processed concurrently, which can significantly speed up CPU-bound operations.\n",
    "\n",
    "Resource Management: The pool manages the creation and management of worker processes for you, so you don't need to manually create and manage individual processes. It abstracts away the complexity of process management, making it easier to work with multiprocessing.\n",
    "\n",
    "Task Distribution: You can efficiently distribute a list of tasks or input values to the pool, and it will automatically assign these tasks to available worker processes. This simplifies the distribution of work among processes and ensures efficient resource utilization.\n",
    "\n",
    "Result Collection: A pool typically provides methods for collecting results from worker processes. You can retrieve results as they become available, allowing you to process or aggregate them in the main program.\n",
    "\n",
    "Concurrency Control: The pool helps control the number of concurrent processes, limiting the number of active processes based on the system's available CPU cores or a specified maximum number of processes. This prevents overloading the system with too many processes."
   ]
  },
  {
   "cell_type": "code",
   "execution_count": null,
   "id": "51798259",
   "metadata": {},
   "outputs": [],
   "source": [
    "Q5"
   ]
  },
  {
   "cell_type": "code",
   "execution_count": null,
   "id": "08697586",
   "metadata": {},
   "outputs": [],
   "source": [
    "\n",
    "import multiprocessing\n",
    "import math\n",
    "def calculate_factorial(number):\n",
    "    result = math.factorial(number)\n",
    "    return result\n",
    "\n",
    "if __name__ == \"__main__\":\n",
    "    with multiprocessing.Pool(processes=num_processes) as pool:\n",
    "        numbers = [5, 6, 7, 8, 9]\n",
    "        results = pool.map(calculate_factorial, numbers)\n",
    "    print(\"Factorials:\", results)\n"
   ]
  },
  {
   "cell_type": "markdown",
   "id": "0d3fab85",
   "metadata": {},
   "source": [
    "Q6"
   ]
  },
  {
   "cell_type": "code",
   "execution_count": 3,
   "id": "9e3afe2c",
   "metadata": {},
   "outputs": [
    {
     "name": "stdout",
     "output_type": "stream",
     "text": [
      "All processes have finished.\n"
     ]
    }
   ],
   "source": [
    "import multiprocessing\n",
    "\n",
    "def print_number(number):\n",
    "    print(f\"Process {number}: {number}\")\n",
    "\n",
    "if __name__ == \"__main__\":\n",
    "    numbers = [1, 2, 3, 4]\n",
    "    processes = []\n",
    "    for number in numbers:\n",
    "        process = multiprocessing.Process(target=print_number, args=(number,))\n",
    "        processes.append(process)\n",
    "        process.start()\n",
    "    for process in processes:\n",
    "        process.join()\n",
    "\n",
    "    print(\"All processes have finished.\")\n"
   ]
  },
  {
   "cell_type": "code",
   "execution_count": null,
   "id": "cd6ead16",
   "metadata": {},
   "outputs": [],
   "source": [
    "\n"
   ]
  },
  {
   "cell_type": "code",
   "execution_count": null,
   "id": "84e59601",
   "metadata": {},
   "outputs": [],
   "source": []
  }
 ],
 "metadata": {
  "kernelspec": {
   "display_name": "Python 3 (ipykernel)",
   "language": "python",
   "name": "python3"
  },
  "language_info": {
   "codemirror_mode": {
    "name": "ipython",
    "version": 3
   },
   "file_extension": ".py",
   "mimetype": "text/x-python",
   "name": "python",
   "nbconvert_exporter": "python",
   "pygments_lexer": "ipython3",
   "version": "3.9.13"
  }
 },
 "nbformat": 4,
 "nbformat_minor": 5
}
