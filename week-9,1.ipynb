{
 "cells": [
  {
   "cell_type": "code",
   "execution_count": null,
   "id": "2f83cee1",
   "metadata": {},
   "outputs": [],
   "source": [
    "Q1"
   ]
  },
  {
   "cell_type": "code",
   "execution_count": 3,
   "id": "26a42352",
   "metadata": {},
   "outputs": [
    {
     "name": "stdout",
     "output_type": "stream",
     "text": [
      "0     4\n",
      "1     8\n",
      "2    15\n",
      "3    16\n",
      "4    23\n",
      "5    42\n",
      "dtype: int64\n"
     ]
    }
   ],
   "source": [
    "import pandas as pd\n",
    "\n",
    "data = [4, 8, 15, 16, 23, 42]\n",
    "\n",
    "series = pd.Series(data)\n",
    "print(series)"
   ]
  },
  {
   "cell_type": "code",
   "execution_count": null,
   "id": "1c103cee",
   "metadata": {},
   "outputs": [],
   "source": [
    "Q2"
   ]
  },
  {
   "cell_type": "code",
   "execution_count": 4,
   "id": "955f797e",
   "metadata": {},
   "outputs": [
    {
     "name": "stdout",
     "output_type": "stream",
     "text": [
      "0     1\n",
      "1     2\n",
      "2     3\n",
      "3     4\n",
      "4     5\n",
      "5     6\n",
      "6     7\n",
      "7     8\n",
      "8     9\n",
      "9    10\n",
      "dtype: int64\n"
     ]
    }
   ],
   "source": [
    "import pandas as pd\n",
    "\n",
    "list1= [1,2,3,4,5,6,7,8,9,10]\n",
    "\n",
    "series = pd.Series(list1)\n",
    "print(series)"
   ]
  },
  {
   "cell_type": "code",
   "execution_count": null,
   "id": "0fa03b15",
   "metadata": {},
   "outputs": [],
   "source": [
    "Q3"
   ]
  },
  {
   "cell_type": "code",
   "execution_count": 5,
   "id": "6a1c5dda",
   "metadata": {},
   "outputs": [
    {
     "name": "stdout",
     "output_type": "stream",
     "text": [
      "     Name  Age  Gender\n",
      "0   Alice   25  Female\n",
      "1     Bob   30    Male\n",
      "2  Claire   27  Female\n"
     ]
    }
   ],
   "source": [
    "import pandas as pd\n",
    "import pandas as pd\n",
    "\n",
    "data = {\n",
    "    'Name': ['Alice', 'Bob', 'Claire'],\n",
    "    'Age': [25, 30, 27],\n",
    "    'Gender': ['Female', 'Male', 'Female']\n",
    "}\n",
    "\n",
    "df = pd.DataFrame(data)\n",
    "print(df)\n"
   ]
  },
  {
   "cell_type": "code",
   "execution_count": null,
   "id": "1cfd6219",
   "metadata": {},
   "outputs": [],
   "source": [
    "Q4"
   ]
  },
  {
   "cell_type": "code",
   "execution_count": null,
   "id": "266e2042",
   "metadata": {},
   "outputs": [],
   "source": [
    "DataFrame:\n",
    "\n",
    "A DataFrame is a two-dimensional, tabular data structure resembling a spreadsheet or SQL table. It consists of rows and columns, where each column can contain different types of data.\n",
    "Think of a DataFrame as a collection of Pandas Series objects, where each column is a Series with a common index.\n",
    "It is suitable for handling structured data, such as datasets imported from CSV files or database tables.\n",
    "Example:\n",
    "import pandas as pd\n",
    "list1= [1,2,3,4,5,6,7,8,9,10]\n",
    "series = pd.Series(list1)\n",
    "print(series)\n",
    "\n",
    "\n",
    "Series:\n",
    "A Series is a one-dimensional labeled array capable of holding data of a single data type.\n",
    "A Series is essentially a column or a single variable. It is often used to represent a single feature or attribute of your data.\n",
    "You can think of a Series as a single column of a DataFrame.\n",
    "Example:\n",
    "import pandas as pd\n",
    "\n",
    "data = {\n",
    "    'Name': ['Alice', 'Bob', 'Claire'],\n",
    "    'Age': [25, 30, 27],\n",
    "    'Gender': ['Female', 'Male', 'Female']\n",
    "}\n",
    "\n",
    "df = pd.DataFrame(data)\n",
    "print(df)\n"
   ]
  },
  {
   "cell_type": "code",
   "execution_count": null,
   "id": "e6a745d7",
   "metadata": {},
   "outputs": [],
   "source": [
    "Q5"
   ]
  },
  {
   "cell_type": "code",
   "execution_count": null,
   "id": "46ae608b",
   "metadata": {},
   "outputs": [],
   "source": [
    "Filtering Data:DataFrame[df['column'] > value]: You can filter rows based on a condition, such as selecting rows where a specific column's values meet certain criteria.\n",
    "Example:       \n",
    "filtered_df = df[df['Age'] > 25]\n",
    "\n",
    "Selecting Columns:\n",
    "\n",
    "DataFrame[['column1', 'column2']]: You can select specific columns from a DataFrame to create a new DataFrame containing only those columns.\n",
    "Example:\n",
    "selected_columns= df[['Name', 'Age']]\n",
    "\n",
    "Sorting Data:DataFrame.sort_values(by='column', ascending=False): You can sort the DataFrame by one or more columns in ascending or descending order.\n",
    "Example:\n",
    "sorted = df.sort_values(by='Age', ascending=False)\n",
    "\n",
    "Grouping and Aggregation:DataFrame.groupby('column').agg({'other_column': 'function'}): You can group data by one or more columns and perform aggregation functions like sum, mean, count, etc., on other columns.\n",
    "Example:\n",
    "grouped = df.groupby('Gender').agg({'Age': 'mean'})\n",
    "\n"
   ]
  },
  {
   "cell_type": "code",
   "execution_count": null,
   "id": "afcdd504",
   "metadata": {},
   "outputs": [],
   "source": [
    "Q6"
   ]
  },
  {
   "cell_type": "code",
   "execution_count": null,
   "id": "e9f86a71",
   "metadata": {},
   "outputs": [],
   "source": [
    "Series: Series objects are immutable, meaning once you create a Series, you cannot change its elements directly. You need to create a new Series or modify it indirectly through operations.\n",
    "\n",
    "DataFrame: DataFrames are mutable, allowing you to modify the data, add new columns, or remove columns. You can use various DataFrame methods and operations to make changes to the data.\n",
    "\n",
    "Panel: Panels were a data structure in earlier versions of Pandas for handling 3D data. However, they have been removed in more recent versions, and users are encouraged to use MultiIndex DataFrames or other data structures to handle similar data."
   ]
  },
  {
   "cell_type": "code",
   "execution_count": null,
   "id": "a9f2dd17",
   "metadata": {},
   "outputs": [],
   "source": [
    "Q7"
   ]
  },
  {
   "cell_type": "code",
   "execution_count": 6,
   "id": "f2831262",
   "metadata": {},
   "outputs": [
    {
     "name": "stdout",
     "output_type": "stream",
     "text": [
      "      Name  Age  Gender\n",
      "0  kowshik   25    Male\n",
      "1      uma   30    Male\n",
      "2     teju   27  Female\n"
     ]
    }
   ],
   "source": [
    "import pandas as pd\n",
    "name_series = pd.Series(['kowshik', 'uma', 'teju'])\n",
    "age_series = pd.Series([25, 30, 27])\n",
    "gender_series = pd.Series(['Male', 'Male', 'Female'])\n",
    "data = {\n",
    "    'Name': name_series,\n",
    "    'Age': age_series,\n",
    "    'Gender': gender_series\n",
    "}\n",
    "df = pd.DataFrame(data)\n",
    "print(df)\n"
   ]
  },
  {
   "cell_type": "code",
   "execution_count": null,
   "id": "faba3a5e",
   "metadata": {},
   "outputs": [],
   "source": []
  }
 ],
 "metadata": {
  "kernelspec": {
   "display_name": "Python 3 (ipykernel)",
   "language": "python",
   "name": "python3"
  },
  "language_info": {
   "codemirror_mode": {
    "name": "ipython",
    "version": 3
   },
   "file_extension": ".py",
   "mimetype": "text/x-python",
   "name": "python",
   "nbconvert_exporter": "python",
   "pygments_lexer": "ipython3",
   "version": "3.9.13"
  }
 },
 "nbformat": 4,
 "nbformat_minor": 5
}
