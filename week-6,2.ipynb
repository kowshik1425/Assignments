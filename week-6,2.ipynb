{
 "cells": [
  {
   "cell_type": "code",
   "execution_count": null,
   "id": "096f32c8",
   "metadata": {},
   "outputs": [],
   "source": [
    "Q1"
   ]
  },
  {
   "cell_type": "code",
   "execution_count": null,
   "id": "9670da15",
   "metadata": {},
   "outputs": [],
   "source": [
    "MongoDB:\n",
    "MongoDB is a popular open-source, document-oriented NoSQL database that provides a flexible and scalable approach to storing and managing data. Unlike traditional relational databases (SQL databases), which store data in structured tables with rows and columns, MongoDB stores data in JSON-like documents with dynamic schemas. Each document can have a different structure, allowing for more adaptability to changing data requirements.\n",
    "Non-Relational Databases:\n",
    "Non-relational databases, often referred to as NoSQL databases, are a category of databases that depart from the structured and rigid nature of traditional SQL databases. Instead of using tables, rows, and columns, NoSQL databases employ various data models like key-value, document, columnar, and graph to store and retrieve data. This flexibility makes them suitable for scenarios where data structures are unpredictable or where high scalability and performance are required.\n",
    "\n",
    "Scenarios Preferred for MongoDB over SQL Databases:\n",
    "Complex Data: MongoDB is a good choice for applications that deal with complex and hierarchical data structures, such as nested arrays and embedded documents.\n",
    "\n",
    "Scalability: MongoDB is designed to be horizontally scalable, making it well-suited for applications that require high throughput and distributed databases.\n",
    "    \n",
    "Unstructured or Semi-Structured Data: If your data doesn't fit neatly into the rigid rows and columns of a traditional SQL database, MongoDB's document-based approach allows you to store unstructured or semi-structured data efficiently.\n",
    "\n",
    "Flexible Schema: When your data structure can change frequently or when you need to store different types of data within the same collection, MongoDB's document-based schema is more adaptable."
   ]
  },
  {
   "cell_type": "code",
   "execution_count": null,
   "id": "ffc53070",
   "metadata": {},
   "outputs": [],
   "source": [
    "Q2"
   ]
  },
  {
   "cell_type": "code",
   "execution_count": null,
   "id": "313b5e60",
   "metadata": {},
   "outputs": [],
   "source": [
    "\n",
    "feature of mogoDB:\n",
    "\n",
    "Document-Oriented:\n",
    "MongoDB stores data in flexible, JSON-like documents known as BSON (Binary JSON). These documents can have varying structures, allowing you to store complex and nested data, making it well-suited for applications with evolving data requirements.\n",
    "\n",
    "Flexible Schema:\n",
    "Unlike traditional relational databases with fixed schemas, MongoDB allows you to change the structure of documents without affecting other documents in the collection. This makes it easier to adapt to changing business needs.\n",
    "\n",
    "Dynamic Queries:\n",
    "MongoDB supports dynamic queries using a rich query language. It allows you to query data using fields within documents and supports a wide range of operators for filtering, sorting, and aggregating data.\n",
    "\n",
    "Secondary Indexes:\n",
    "MongoDB supports secondary indexes, which enhance query performance by allowing you to index fields other than the primary key. This enables faster data retrieval and filtering.\n",
    "\n",
    "Horizontal Scalability:\n",
    "MongoDB's architecture supports horizontal scaling by distributing data across multiple servers or nodes. This makes it suitable for applications that need to handle large amounts of data and high traffic loads.\n",
    "\n",
    "Auto-Sharding:\n",
    "MongoDB employs an auto-sharding mechanism that automatically distributes data across shards (physical servers or clusters). This ensures even data distribution, improves performance, and enables seamless scaling.\n",
    "\n",
    "\n",
    "\n"
   ]
  },
  {
   "cell_type": "code",
   "execution_count": null,
   "id": "e0e09b4b",
   "metadata": {},
   "outputs": [],
   "source": [
    "Q3"
   ]
  },
  {
   "cell_type": "code",
   "execution_count": null,
   "id": "a8a634c6",
   "metadata": {},
   "outputs": [],
   "source": [
    "import pymongo\n",
    "connection_params = {\n",
    "    \"host\": \"localhost\",      \n",
    "    \"port\": 27017            \n",
    "}\n",
    "client = pymongo.MongoClient(**connection_params)\n",
    "database_name = \"abc\"\n",
    "database = client[abc]\n",
    "collection_name = \"saii\"\n",
    "collection = database[saii]\n",
    "sample_data = [\n",
    "    {\"name\": \"sai\", \"age\": 30},\n",
    "    {\"name\": \"hari\", \"age\": 25},\n",
    "    {\"name\": \"nagur\", \"age\": 35}\n",
    "]\n",
    "collection.insert_many(sample_data)\n",
    "for document in collection.find():\n",
    "    print(document)\n",
    "client.close()\n"
   ]
  },
  {
   "cell_type": "code",
   "execution_count": null,
   "id": "fdbd760d",
   "metadata": {},
   "outputs": [],
   "source": [
    "Q4"
   ]
  },
  {
   "cell_type": "code",
   "execution_count": null,
   "id": "8146abd4",
   "metadata": {},
   "outputs": [],
   "source": [
    "import pymongo\n",
    "connection_params =  {\n",
    "    \"port\": 27017            \n",
    "}\n",
    "client = pymongo.MongoClient(**connection_params)\n",
    "database_name = \"abc\"\n",
    "collection_name = \"saii\"\n",
    "database = client[abc]\n",
    "collection = database[saii]\n",
    "single_record = {\"name\": \"David\", \"age\": 28}\n",
    "inserted_single_id = collection.insert_one(single_record).inserted_id\n",
    "multiple_records = [\n",
    "    {\"name\": \"kowshik\", \"age\": 22},\n",
    "    {\"name\": \"hari\", \"age\": 40}\n",
    "]\n",
    "inserted_multiple_ids = collection.insert_many(multiple_records).inserted_ids\n",
    "print(\"Inserted Single Record:\")\n",
    "print(collection.find_one({\"_id\": inserted_single_id}))\n",
    "print(\"Inserted Multiple Records:\")\n",
    "for document in collection.find({\"_id\": {\"$in\": inserted_multiple_ids}}):\n",
    "    print(document)\n",
    "client.close()\n"
   ]
  },
  {
   "cell_type": "code",
   "execution_count": null,
   "id": "9d85f820",
   "metadata": {},
   "outputs": [],
   "source": [
    "Q5"
   ]
  },
  {
   "cell_type": "code",
   "execution_count": null,
   "id": "c8acc169",
   "metadata": {},
   "outputs": [],
   "source": [
    "#The find() method is used to query and retrieve documents from a collection based on specified criteria. It allows you to filter documents based on various conditions and retrieve the results as a cursor, which you can then iterate through to access the matched documents.\n",
    "\n",
    "import pymongo\n",
    "connection_params = {\n",
    "    \"host\": \"localhost\",     \n",
    "    \"port\": 27017           \n",
    "}\n",
    "client = pymongo.MongoClient(**connection_params)\n",
    "database_name = \"abc\"\n",
    "collection_name = \"saii\"\n",
    "database = client[abc]\n",
    "collection = database[saii]\n",
    "query = {\"age\": {\"$gt\": 25}}\n",
    "matching_documents = collection.find(query)\n",
    "print(\"Matching Documents:\")\n",
    "for document in matching_documents:\n",
    "    print(document)\n",
    "client.close()\n"
   ]
  },
  {
   "cell_type": "code",
   "execution_count": null,
   "id": "9bec0e10",
   "metadata": {},
   "outputs": [],
   "source": [
    "Q6"
   ]
  },
  {
   "cell_type": "code",
   "execution_count": null,
   "id": "d6abb4a3",
   "metadata": {},
   "outputs": [],
   "source": [
    "The sort() method is used to specify the order in which the documents should be returned from a query result. It allows you to sort the documents based on one or more fields in either ascending (1) or descending (-1) order. The sort() method is often used in conjunction with the find() method to retrieve documents in a specific order.\n",
    "\n",
    "how sort() method works:\n",
    "\n",
    "Field to Sort By: You provide the name of the field by which you want to sort the documents. This field can be any field within the documents.\n",
    "\n",
    "Sorting Order: You specify the sorting order using the values 1 for ascending order and -1 for descending order.\n",
    "\n",
    "Multiple Fields: If needed, you can sort based on multiple fields. In this case, MongoDB will first sort based on the first field and then, if there are ties, it will sort based on the subsequent fields.\n",
    "    \n",
    "import pymongo\n",
    "connection_params = {\n",
    "    \"host\": \"localhost\",     \n",
    "    \"port\": 27017            \n",
    "}\n",
    "client = pymongo.MongoClient(**connection_params)\n",
    "database_name = \"abc\"\n",
    "collection_name = \"saii\"\n",
    "database = client[abc]\n",
    "collection = database[saii]\n",
    "query = {}\n",
    "sorting_order = [(\"score\", -1), (\"name\", 1)]\n",
    "sorted_documents = collection.find(query).sort(sorting_order)\n",
    "print(\"Sorted Documents:\")\n",
    "for document in sorted_documents:\n",
    "    print(document)\n",
    "client.close()\n"
   ]
  },
  {
   "cell_type": "code",
   "execution_count": null,
   "id": "44898f3e",
   "metadata": {},
   "outputs": [],
   "source": [
    "Q7"
   ]
  },
  {
   "cell_type": "code",
   "execution_count": null,
   "id": "1e57c774",
   "metadata": {},
   "outputs": [],
   "source": [
    "delete_one() Method:\n",
    "The delete_one() method is used to delete a single document that matches a specified query from a collection. It removes the first document that matches the query criteria.\n",
    "\n",
    "result = collection.delete_one({\"name\": \"kowshik\"})\n",
    "print(result.deleted_count)  \n",
    "\n",
    "delete_many() Method:\n",
    "The delete_many() method is used to delete multiple documents that match a specified query from a collection. It removes all documents that satisfy the query criteria.\n",
    "\n",
    "result = collection.delete_many({\"name\": \"kowshik\"})\n",
    "print(result.deleted_count) \n",
    "\n",
    "drop() Method:\n",
    "The drop() method is used to delete an entire collection from the database. It completely removes the collection and all its associated documents.\n",
    "\n",
    "collection.drop()"
   ]
  }
 ],
 "metadata": {
  "kernelspec": {
   "display_name": "Python 3 (ipykernel)",
   "language": "python",
   "name": "python3"
  },
  "language_info": {
   "codemirror_mode": {
    "name": "ipython",
    "version": 3
   },
   "file_extension": ".py",
   "mimetype": "text/x-python",
   "name": "python",
   "nbconvert_exporter": "python",
   "pygments_lexer": "ipython3",
   "version": "3.9.13"
  }
 },
 "nbformat": 4,
 "nbformat_minor": 5
}
