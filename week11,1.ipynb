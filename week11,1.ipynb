{
 "cells": [
  {
   "cell_type": "code",
   "execution_count": null,
   "id": "ba555676",
   "metadata": {},
   "outputs": [],
   "source": [
    "#1"
   ]
  },
  {
   "cell_type": "code",
   "execution_count": null,
   "id": "a35bb832",
   "metadata": {},
   "outputs": [],
   "source": [
    "A probability density function (PDF) is a fundamental concept in probability theory and statistics. It is a mathematical function that describes the probability distribution of a continuous random variable. In simpler terms, the PDF tells you the likelihood of a random variable taking on a particular value within a certain range.\n",
    "\n",
    "some key points about probability density functions:\n",
    "\n",
    "Continuous Random Variables: PDFs are primarily used for continuous random variables, which are variables that can take on any value within a certain interval. Examples of continuous random variables include height, weight, temperature, and time.\n",
    "\n",
    "Non-Negative Values: The values of a PDF are always non-negative. This means that the probability of a random variable taking on a specific value is never negative.\n",
    "\n",
    "Total Probability: The total probability under the curve of a PDF over its entire range is equal to 1. In other words, the integral (an extension of the concept of summation to continuous variables) of the PDF over its entire range is equal to 1. This ensures that the random variable must take on some value within its range.\n",
    "\n",
    "Probability Density: The PDF itself doesn't give you the probability of a random variable taking on a single, specific value. Instead, it provides a density or likelihood for various values. The probability of the random variable falling within a specific range is obtained by integrating the PDF over that range."
   ]
  },
  {
   "cell_type": "code",
   "execution_count": null,
   "id": "4c22aeb7",
   "metadata": {},
   "outputs": [],
   "source": [
    "#2"
   ]
  },
  {
   "cell_type": "code",
   "execution_count": null,
   "id": "8be02460",
   "metadata": {},
   "outputs": [],
   "source": [
    "1.normal/guassian distribution\n",
    "2.possion distribution\n",
    "3.bernoulli distribution\n",
    "4.binomial distribution\n",
    "5.uniform distribution \n",
    "6.log normal distribution(pdf)\n",
    "7.power law distribution(pdf)"
   ]
  },
  {
   "cell_type": "code",
   "execution_count": null,
   "id": "0ed01b8e",
   "metadata": {},
   "outputs": [],
   "source": [
    "#3"
   ]
  },
  {
   "cell_type": "code",
   "execution_count": 1,
   "id": "d274c34a",
   "metadata": {},
   "outputs": [
    {
     "name": "stdout",
     "output_type": "stream",
     "text": [
      "PDF at x = 7.0 is 0.12098536225957168\n"
     ]
    }
   ],
   "source": [
    "import scipy.stats as stats\n",
    "\n",
    "def calculate_normal_pdf(x, mean, std_dev):\n",
    "    pdf = stats.norm.pdf(x, loc=mean, scale=std_dev)\n",
    "    return pdf\n",
    "mean = 5.0\n",
    "std_dev = 2.0\n",
    "x = 7.0\n",
    "pdf_value = calculate_normal_pdf(x, mean, std_dev)\n",
    "print(f\"PDF at x = {x} is {pdf_value}\")\n"
   ]
  },
  {
   "cell_type": "code",
   "execution_count": null,
   "id": "25edd8da",
   "metadata": {},
   "outputs": [],
   "source": [
    "#4"
   ]
  },
  {
   "cell_type": "code",
   "execution_count": null,
   "id": "4d0fa3ec",
   "metadata": {},
   "outputs": [],
   "source": [
    "\n",
    "The Binomial distribution is a discrete probability distribution that models the number of successes in a fixed number of independent Bernoulli trials, where each trial has only two possible outcomes: success and failure. \n",
    "\n",
    "The key properties of the Binomial distribution are as follows:\n",
    "\n",
    "1.tossing a coin(head,tail).\n",
    "2.patient has disease or not."
   ]
  },
  {
   "cell_type": "code",
   "execution_count": null,
   "id": "b5747b93",
   "metadata": {},
   "outputs": [],
   "source": [
    "#5"
   ]
  },
  {
   "cell_type": "code",
   "execution_count": 4,
   "id": "007393a8",
   "metadata": {},
   "outputs": [
    {
     "data": {
      "image/png": "[encoded data removed]",
      "text/plain": [
       "<Figure size 640x480 with 1 Axes>"
      ]
     },
     "metadata": {},
     "output_type": "display_data"
    }
   ],
   "source": [
    "import numpy as np\n",
    "import matplotlib.pyplot as plt\n",
    "sample_size = 1000  \n",
    "probability_of_success = 0.4  \n",
    "random_sample = np.random.binomial(1, probability_of_success, sample_size)\n",
    "plt.hist(random_sample)\n",
    "plt.title('Binomial Distribution Histogram')\n",
    "plt.xlabel('Number of Successes (1s)')\n",
    "plt.ylabel('Frequency')\n",
    "plt.show()\n"
   ]
  },
  {
   "cell_type": "code",
   "execution_count": null,
   "id": "5ee45c86",
   "metadata": {},
   "outputs": [],
   "source": [
    "#6"
   ]
  },
  {
   "cell_type": "code",
   "execution_count": 5,
   "id": "652898e9",
   "metadata": {},
   "outputs": [
    {
     "name": "stdout",
     "output_type": "stream",
     "text": [
      "CDF at x = 2 is 0.32084719886213414\n"
     ]
    }
   ],
   "source": [
    "import scipy.stats as stats\n",
    "\n",
    "def calculate_poisson_cdf(x, mean):\n",
    "    cdf = stats.poisson.cdf(x, mu=mean)\n",
    "    return cdf\n",
    "mean = 3.5 \n",
    "x = 2      \n",
    "cdf_value = calculate_poisson_cdf(x, mean)\n",
    "print(f\"CDF at x = {x} is {cdf_value}\")\n"
   ]
  },
  {
   "cell_type": "code",
   "execution_count": null,
   "id": "5e5d0983",
   "metadata": {},
   "outputs": [],
   "source": [
    "#7"
   ]
  },
  {
   "cell_type": "code",
   "execution_count": null,
   "id": "6a7aaf20",
   "metadata": {},
   "outputs": [],
   "source": [
    "\n",
    "Characteristic      \tBinomial Distribution                                   \tPoisson Distribution\n",
    "Nature of Events    \tFixed number of independent trials                      \tCount of events in a fixed interval\n",
    "Number of Trials    \tFinite and known (n)                                    \tInfinite or very large, random\n",
    "Possible Outcomes   \tSuccess (usually 1) and failure (0)                     \tNon-negative integers\n",
    "Parameters          \tProbability of success (p)                              \tAverage rate of events (λ)\n",
    "Shape of Distribution\tCan be asymmetric, approaches normal as n increases     \tRight-skewed, approaches normal as λ increases\n",
    "Examples            \tCoin flips, defective products in a batch               \tPhone calls at a call center, accidents at an intersection"
   ]
  },
  {
   "cell_type": "code",
   "execution_count": null,
   "id": "47cc6b62",
   "metadata": {},
   "outputs": [],
   "source": [
    "#8"
   ]
  },
  {
   "cell_type": "code",
   "execution_count": 6,
   "id": "14d9cd89",
   "metadata": {},
   "outputs": [
    {
     "name": "stdout",
     "output_type": "stream",
     "text": [
      "Sample Mean: 5.013\n",
      "Sample Variance: 5.0268310000000005\n"
     ]
    }
   ],
   "source": [
    "import numpy as np\n",
    "sample_size = 1000  \n",
    "mean = 5.0\n",
    "random_sample = np.random.poisson(mean, sample_size)\n",
    "sample_mean = np.mean(random_sample)\n",
    "sample_variance = np.var(random_sample)\n",
    "\n",
    "print(f\"Sample Mean: {sample_mean}\")\n",
    "print(f\"Sample Variance: {sample_variance}\")\n"
   ]
  },
  {
   "cell_type": "code",
   "execution_count": null,
   "id": "d837a65f",
   "metadata": {},
   "outputs": [],
   "source": [
    "#9"
   ]
  },
  {
   "cell_type": "code",
   "execution_count": null,
   "id": "398ab44f",
   "metadata": {},
   "outputs": [],
   "source": [
    "Binomial Distribution:\n",
    "\n",
    "Mean (μ): The mean of a Binomial distribution with parameters n (number of trials) and p (probability of success in each trial) is given by μ = np.\n",
    "\n",
    "Variance (σ²): The variance of a Binomial distribution is given by σ² = np(1-p).\n",
    "\n",
    "In the Binomial distribution, the variance is directly related to both the number of trials (n) and the probability of success (p). As you increase either the number of trials or the probability of success, the variance tends to increase as well. The spread of the distribution becomes wider as the number of trials or the probability of success deviates from 0.5.\n",
    "\n",
    "Poisson Distribution:\n",
    "\n",
    "Mean (λ): The mean of a Poisson distribution is given by λ, which represents the average rate of events in a fixed interval.\n",
    "\n",
    "Variance (σ²): The variance of a Poisson distribution is also given by σ² = λ.\n",
    "\n",
    "In the Poisson distribution, the variance is equal to the mean (λ). This is a unique characteristic of the Poisson distribution. It means that the spread or variability of the distribution is directly tied to the average rate of events. When λ is small, the distribution is more concentrated around the mean, and as λ increases, the distribution becomes more spread out."
   ]
  },
  {
   "cell_type": "code",
   "execution_count": null,
   "id": "3f57ba7a",
   "metadata": {},
   "outputs": [],
   "source": [
    "#10"
   ]
  },
  {
   "cell_type": "code",
   "execution_count": null,
   "id": "487a4228",
   "metadata": {},
   "outputs": [],
   "source": [
    "In a normal distribution, the least frequent data points appear in the tails of the distribution, farthest away from the mean.\n",
    "\n",
    "A normal distribution, often represented as a bell-shaped curve, is symmetric around its mean. The highest frequency of data points is located at the mean, and as you move away from the mean in either direction, the frequency of data points decreases. The tails of the distribution, which are the extreme values, contain the least frequent data points.\n",
    "\n",
    "Specifically, in a standard normal distribution (with a mean of 0 and a standard deviation of 1), approximately 68% of the data falls within one standard deviation of the mean in both directions (within the \"body\" of the curve), while the remaining 32% is spread across the two tails (16% in each tail). As you move further away from the mean, the frequency of data points in the tails decreases rapidly. For example, approximately 95% of the data falls within two standard deviations of the mean, and about 99.7% falls within three standard deviations."
   ]
  }
 ],
 "metadata": {
  "kernelspec": {
   "display_name": "Python 3 (ipykernel)",
   "language": "python",
   "name": "python3"
  },
  "language_info": {
   "codemirror_mode": {
    "name": "ipython",
    "version": 3
   },
   "file_extension": ".py",
   "mimetype": "text/x-python",
   "name": "python",
   "nbconvert_exporter": "python",
   "pygments_lexer": "ipython3",
   "version": "3.9.13"
  }
 },
 "nbformat": 4,
 "nbformat_minor": 5
}
