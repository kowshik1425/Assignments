{
 "cells": [
  {
   "cell_type": "code",
   "execution_count": null,
   "id": "1779210b",
   "metadata": {},
   "outputs": [],
   "source": [
    "Q1"
   ]
  },
  {
   "cell_type": "code",
   "execution_count": null,
   "id": "ebeba367",
   "metadata": {},
   "outputs": [],
   "source": [
    "database:\n",
    "=>A database is a structured collection of data that is organized, stored, and managed in a way that allows for efficient retrieval, updating, and manipulation of that data.\n",
    "=> Databases are used to store a wide variety of information, ranging from simple lists to complex relationships and structures.\n",
    "There are two main categories of databases: \n",
    "(1)SQL\n",
    "(2)NOSQL\n",
    "SQL(structure query language): SQL databases are relational databases that use structured schemas to define the relationships and constraints between data tables. Data is stored in rows and columns, with predefined data types for each column.\n",
    "=>SQL databases use the Structured Query Language (SQL) for defining, querying, and manipulating data.\n",
    "=>SQL databases are well-suited for applications with well-defined data structures, complex relationships, and a need for data integrity, such as financial systems, e-commerce platforms, and content management systems.\n",
    "\n",
    "NOSQL(not Structured Query Language): NoSQL databases are designed to handle unstructured or semi-structured data and are not tied to a fixed schema. They can store various types of data, including key-value, document, column-family, and graph data.\n",
    "=>While some NoSQL databases have query languages, they don't strictly rely on SQL. Different NoSQL databases have different querying mechanisms optimized for their specific data models.\n",
    "=>NoSQL databases are commonly used in applications requiring massive scalability, high throughput, and flexible schema, such as real-time analytics, social media platforms, IoT applications, and content recommendation systems.\n"
   ]
  },
  {
   "cell_type": "code",
   "execution_count": null,
   "id": "376ebfb7",
   "metadata": {},
   "outputs": [],
   "source": [
    "Q2"
   ]
  },
  {
   "cell_type": "code",
   "execution_count": null,
   "id": "41a94f4c",
   "metadata": {},
   "outputs": [],
   "source": [
    "Data Definition Language(DDL):It is a subset of SQL that is used to define, modify, and manage the structure of a database. DDL statements are used to create, alter, and drop database objects such as tables, indexes, and views. These statements are used to define the schema of the database, specifying how the data is organized and how different data elements are related to each other.\n",
    "\n",
    "CREATE: The CREATE statement is used to create new database objects, such as tables, indexes, or views. It defines the structure of the object and any constraints associated with it.\n",
    "eg:\n",
    "CREATE TABLE Employees (\n",
    "    EmployeeID INT PRIMARY KEY,\n",
    "    Name  VARCHAR(50),\n",
    "    Salary DECIMAL(10, 2)\n",
    ");\n",
    "\n",
    "DROP: The DROP statement is used to delete existing database objects, such as tables, indexes, or views. This operation permanently removes the object and its data from the database.\n",
    "eg:\n",
    "\n",
    "DROP TABLE Employees;\n",
    "\n",
    "ALTER: The ALTER statement is used to modify the structure of an existing database object. It can be used to add, modify, or delete columns, as well as to change constraints or indexes.\n",
    "eg:\n",
    "\n",
    "ALTER TABLE Employees\n",
    "ADD Department VARCHAR(50);\n",
    "\n",
    "TRUNCATE: The TRUNCATE statement is used to remove all data from a table while retaining the table structure. It is faster than the DELETE statement, as it doesn't log individual row deletions.\n",
    "eg:\n",
    "\n",
    "TRUNCATE TABLE Employees;\n"
   ]
  },
  {
   "cell_type": "code",
   "execution_count": null,
   "id": "125adab1",
   "metadata": {},
   "outputs": [],
   "source": [
    "Q3"
   ]
  },
  {
   "cell_type": "code",
   "execution_count": null,
   "id": "5c2be0ce",
   "metadata": {},
   "outputs": [],
   "source": [
    "Data Manipulation Language(DML): which is a subset of SQL used to manipulate data stored in a database. DML statements are responsible for inserting, updating, and deleting data within database tables. Unlike DDL (Data Definition Language), which focuses on defining and altering the structure of the database, DML focuses on interacting with the actual data stored in the tables.\n",
    "\n",
    "INSERT: The INSERT statement is used to add new records (rows) into a table. You provide the values to be inserted into the columns of the table.\n",
    "eg:\n",
    "INSERT INTO Employees (EmployeeID, FirstName, LastName, Salary, Department)\n",
    "VALUES (1, 'John', 'Doe', 50000, 'Sales');\n",
    "\n",
    "UPDATE: The UPDATE statement is used to modify existing records in a table. You specify which rows to update and set new values for the columns.\n",
    "eg:\n",
    "\n",
    "UPDATE Employees\n",
    "SET Salary = 55000\n",
    "WHERE EmployeeID = 1;\n",
    "\n",
    "DELETE: The DELETE statement is used to remove specific records from a table based on certain conditions.\n",
    "eg:\n",
    "\n",
    "DELETE FROM Employees\n",
    "WHERE EmployeeID = 1;\n"
   ]
  },
  {
   "cell_type": "code",
   "execution_count": null,
   "id": "5097b031",
   "metadata": {},
   "outputs": [],
   "source": [
    "Q4"
   ]
  },
  {
   "cell_type": "code",
   "execution_count": 2,
   "id": "a3121e84",
   "metadata": {},
   "outputs": [],
   "source": [
    "Data Query Language(DQL):which is a subset of SQL (Structured Query Language) used to retrieve data from a database. DQL is primarily concerned with querying and fetching data from one or more tables, allowing you to specify the conditions, sorting, and formatting of the retrieved data. \n",
    "\n",
    "SELECT: The SELECT statement is used to retrieve data from one or more tables in a database. It allows you to specify the columns you want to retrieve, as well as filtering conditions, sorting, and grouping.\n",
    "eg:\n",
    "\n",
    "SELECT FirstName, LastName, Salary\n",
    "FROM Employees\n",
    "WHERE Department = 'Sales' AND Salary > 50000;\n"
   ]
  },
  {
   "cell_type": "code",
   "execution_count": null,
   "id": "22e0b341",
   "metadata": {},
   "outputs": [],
   "source": [
    "Q5"
   ]
  },
  {
   "cell_type": "code",
   "execution_count": null,
   "id": "01c316ee",
   "metadata": {},
   "outputs": [],
   "source": [
    "Primary Key:\n",
    "A primary key is a unique identifier for a record (row) in a database table. It ensures that each record within the table is distinct and can be uniquely identified. In simpler terms, it's like an ID or a fingerprint for each row in the table. The primary key is used to enforce data integrity, facilitate efficient searches, and create relationships between tables.\n",
    "\n",
    "Key characteristics of a primary key:\n",
    "=>Uniqueness: Each value in the primary key column must be unique. No two rows can have the same primary key value.\n",
    "\n",
    "=>Non-null: A primary key value cannot be null.\n",
    "\n",
    "=>Stability: Ideally, the primary key value should be stable, meaning it doesn't change over time. This is to ensure consistency in references across tables.\n",
    "\n",
    "Foreign Key:\n",
    "A foreign key establishes a relationship between two tables in a database. It links a column or set of columns in one table to the primary key column(s) of another table. This relationship is used to maintain referential integrity and to enforce data integrity rules.\n",
    "\n",
    "Key characteristics of a foreign key:\n",
    "\n",
    "=>References a Primary Key: The foreign key column(s) in one table reference the primary key column(s) in another table.\n",
    "\n",
    "=>Maintains Referential Integrity: This means that the values in the foreign key column(s) must match the values in the primary key column(s) of the referenced table, or be null.\n",
    "\n",
    "=>Allows Relationships: Foreign keys create relationships between tables, representing dependencies or associations."
   ]
  },
  {
   "cell_type": "code",
   "execution_count": null,
   "id": "d79a25f6",
   "metadata": {},
   "outputs": [],
   "source": [
    "Q6"
   ]
  },
  {
   "cell_type": "code",
   "execution_count": null,
   "id": "d2dc452b",
   "metadata": {},
   "outputs": [],
   "source": [
    "import mysql.connector\n",
    "db_config = {\n",
    "    \"host\": \"localhost\",\n",
    "    \"user\": \"abc\",\n",
    "    \"password\": \"password\",\n",
    "    \"database\": \"your_database\"\n",
    "}\n",
    "connection = mysql.connector.connect(**db_config)\n",
    "cursor = connection.cursor()\n",
    "query = \"SELECT * FROM customers\"\n",
    "cursor.execute(query)\n",
    "result = cursor.fetchall()\n",
    "for row in result:\n",
    "    print(row)\n",
    "cursor.close()\n",
    "connection.close()\n"
   ]
  },
  {
   "cell_type": "code",
   "execution_count": null,
   "id": "ec27f727",
   "metadata": {},
   "outputs": [],
   "source": [
    "Q7"
   ]
  },
  {
   "cell_type": "code",
   "execution_count": null,
   "id": "203b7f51",
   "metadata": {},
   "outputs": [],
   "source": [
    "FROM: This clause specifies the source tables from which the data will be retrieved. It identifies the tables involved in the query.\n",
    "\n",
    "JOIN: If there are any join operations, they are performed next. This combines data from multiple tables based on specified join conditions.\n",
    "\n",
    "WHERE: The WHERE clause filters rows from the source tables based on specified conditions. Only rows that satisfy the conditions are retained for further processing.\n",
    "\n",
    "GROUP BY: If a GROUP BY clause is present, the rows are grouped based on the specified columns. This is often used with aggregate functions like SUM, COUNT, etc., to perform calculations on groups of rows.\n",
    "\n",
    "HAVING: If a HAVING clause is present, it filters the grouped rows based on aggregate function results. It's similar to the WHERE clause but operates on grouped data.\n",
    "\n",
    "SELECT: The SELECT clause determines which columns will be included in the result set. It specifies the columns to be retrieved from the source tables.\n",
    "\n",
    "DISTINCT: If the DISTINCT keyword is used, duplicate rows are removed from the result set.\n",
    "\n",
    "ORDER BY: The ORDER BY clause sorts the result set based on specified columns and sorting directions."
   ]
  }
 ],
 "metadata": {
  "kernelspec": {
   "display_name": "Python 3 (ipykernel)",
   "language": "python",
   "name": "python3"
  },
  "language_info": {
   "codemirror_mode": {
    "name": "ipython",
    "version": 3
   },
   "file_extension": ".py",
   "mimetype": "text/x-python",
   "name": "python",
   "nbconvert_exporter": "python",
   "pygments_lexer": "ipython3",
   "version": "3.9.13"
  }
 },
 "nbformat": 4,
 "nbformat_minor": 5
}
