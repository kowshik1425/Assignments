{
 "cells": [
  {
   "cell_type": "markdown",
   "id": "73c567b9",
   "metadata": {},
   "source": [
    "Q1"
   ]
  },
  {
   "cell_type": "code",
   "execution_count": 2,
   "id": "59c9575a",
   "metadata": {},
   "outputs": [
    {
     "name": "stdout",
     "output_type": "stream",
     "text": [
      "this is my test id 10 \n",
      "this is my test id 1 \n",
      "this is my test id 3 \n"
     ]
    }
   ],
   "source": [
    "#Multithreading refers to the ability of a program to execute multiple threads concurrently, allowing it to perform multiple tasks at the same time. These threads share the same memory space and resources within a single process, which can lead to improved efficiency and better utilization of available CPU cores. Each thread can execute a different part of the program's code simultaneously.\n",
    "#code:\n",
    "import threading\n",
    "\n",
    "def test(id) :\n",
    "    print(\"this is my test id %d \" % id)\n",
    "thred = [threading.Thread(target=test , args = (i,)) for i in [10 , 1 ,3]]\n",
    "for t in thred:\n",
    "    t.start()\n",
    "    "
   ]
  },
  {
   "cell_type": "code",
   "execution_count": null,
   "id": "7c7f27af",
   "metadata": {},
   "outputs": [],
   "source": [
    "Q2"
   ]
  },
  {
   "cell_type": "code",
   "execution_count": 4,
   "id": "dde78cf1",
   "metadata": {},
   "outputs": [
    {
     "name": "stdout",
     "output_type": "stream",
     "text": [
      "Active threads before starting: 6\n",
      "Thread-8 starting\n",
      "Thread-9 starting\n",
      "Thread-10 starting\n",
      "Active threads after starting: 9\n",
      "Thread-10 exitingThread-9 exiting\n",
      "Thread-8 exiting\n",
      "\n",
      "Active threads after joining: 6\n",
      "Enumerating active threads:\n",
      "Thread name: MainThread\n",
      "Thread name: IOPub\n",
      "Thread name: Heartbeat\n",
      "Thread name: Control\n",
      "Thread name: IPythonHistorySavingThread\n",
      "Thread name: Thread-4\n"
     ]
    }
   ],
   "source": [
    "#. Threads are a way to achieve parallelism by running multiple tasks concurrently within a single process. This can be particularly useful for tasks that involve I/O operations or other types of operations that may block the program's execution.\n",
    "#activeCount(): This function returns the number of Thread objects currently alive. It includes both started and running threads. It's useful to keep track of how many threads are active at a given moment.\n",
    "\n",
    "#currentThread(): This function returns the current Thread object, corresponding to the caller's thread. This can be used to identify and manage the currently executing thread. It's often used to set attributes specific to the current thread or to identify the thread for debugging purposes.\n",
    "\n",
    "#enumerate(): This function returns a list of all Thread objects that are currently alive. It's essentially a list of all active threads. Each thread object in the list can be used to inspect or manage the corresponding thread. It's a convenient way to get a snapshot of all active threads at a certain point in time.\n",
    "import threading\n",
    "import time\n",
    "\n",
    "def worker():\n",
    "    print(f\"{threading.currentThread().getName()} starting\")\n",
    "    time.sleep(2)\n",
    "    print(f\"{threading.currentThread().getName()} exiting\")\n",
    "\n",
    "def main():\n",
    "    print(f\"Active threads before starting: {threading.activeCount()}\")\n",
    "    \n",
    "    thread_list = []\n",
    "    for i in range(3):\n",
    "        t = threading.Thread(target=worker)\n",
    "        thread_list.append(t)\n",
    "        t.start()\n",
    "\n",
    "    print(f\"Active threads after starting: {threading.activeCount()}\")\n",
    "    \n",
    "    for t in thread_list:\n",
    "        t.join()\n",
    "\n",
    "    print(f\"Active threads after joining: {threading.activeCount()}\")\n",
    "    \n",
    "    print(f\"Enumerating active threads:\")\n",
    "    for thread in threading.enumerate():\n",
    "        print(f\"Thread name: {thread.name}\")\n",
    "\n",
    "if __name__ == \"__main__\":\n",
    "    main()\n"
   ]
  },
  {
   "cell_type": "code",
   "execution_count": null,
   "id": "55d71d2c",
   "metadata": {},
   "outputs": [],
   "source": [
    "Q3"
   ]
  },
  {
   "cell_type": "code",
   "execution_count": null,
   "id": "9a548945",
   "metadata": {},
   "outputs": [],
   "source": [
    "run(): This method represents the code that will be executed when the thread is started. It's meant to be overridden by a subclass of the Thread class. You can create your own thread class by subclassing Thread and defining the run() method with the desired code that the thread should execute.\n",
    "\n",
    "start(): This method is used to initiate the execution of a thread. When you call start(), the thread's run() method is executed in a separate thread of control. This allows the thread to run concurrently with other threads in the program. It's important to note that run() should not be called directly; always use start() to begin thread execution.\n",
    "\n",
    "join(): The join() method is used to wait for a thread to complete its execution. When you call join() on a thread object, the calling thread  will pause its execution and wait for the target thread to finish before continuing. This is especially useful when you want to ensure that all threads have completed their tasks before the program proceeds further.\n",
    "\n",
    "isAlive(): This method is used to determine whether a thread is currently active or not. It returns a Boolean value indicating whether the thread is still running  or has completed."
   ]
  },
  {
   "cell_type": "code",
   "execution_count": null,
   "id": "52e2f05d",
   "metadata": {},
   "outputs": [],
   "source": [
    "Q4"
   ]
  },
  {
   "cell_type": "code",
   "execution_count": 12,
   "id": "37b4669e",
   "metadata": {},
   "outputs": [
    {
     "name": "stdout",
     "output_type": "stream",
     "text": [
      "Square of 1: 1\n",
      "Square of 2: 4\n",
      "Square of 3: 9\n",
      "Square of 4: 16\n",
      "Square of 5: 25\n",
      "Cube of 1: 1\n",
      "Cube of 2: 8\n",
      "Cube of 3: 27\n",
      "Cube of 4: 64\n",
      "Cube of 5: 125\n"
     ]
    }
   ],
   "source": [
    "import threading\n",
    "\n",
    "def squares(list1):\n",
    "    for i in list1:\n",
    "        print(f\"Square of {i}: {i ** 2}\")\n",
    "\n",
    "def cubes(numbers):\n",
    "    for j in numbers:\n",
    "        print(f\"Cube of {j}: {j ** 3}\")\n",
    "\n",
    "def main():\n",
    "    list1= [1, 2, 3, 4, 5]\n",
    "\n",
    "    square_thread = threading.Thread(target=squares, args=(list1,))\n",
    "    cube_thread = threading.Thread(target=cubes, args=(list1,))\n",
    "\n",
    "    square_thread.start()\n",
    "    cube_thread.start()\n",
    "\n",
    "    square_thread.join()\n",
    "    cube_thread.join()\n",
    "\n",
    "if __name__ == \"__main__\":\n",
    "    main()\n"
   ]
  },
  {
   "cell_type": "code",
   "execution_count": null,
   "id": "1cfda7f4",
   "metadata": {},
   "outputs": [],
   "source": [
    "Q5"
   ]
  },
  {
   "cell_type": "code",
   "execution_count": null,
   "id": "e8e86911",
   "metadata": {},
   "outputs": [],
   "source": [
    "Advantages of Multithreading:\n",
    "\n",
    "Parallelism and Improved Performance: Multithreading allows for better utilization of available CPU cores. By running multiple threads concurrently, a program can execute tasks in parallel, leading to improved overall performance and reduced execution times.\n",
    "\n",
    "Responsiveness: In applications with a user interface (UI), multithreading can help maintain responsiveness. UI tasks can be offloaded to separate threads, ensuring that the main thread remains responsive to user input.\n",
    "\n",
    "Resource Sharing: Threads within the same process share the same memory space, making it easier to share data and resources between threads. This can simplify communication and data exchange between different parts of an application.\n",
    "    \n",
    "Disadvantages of Multithreading:\n",
    "\n",
    "Complexity: Multithreaded programming introduces complexity due to the need for synchronization mechanisms to avoid issues like race conditions, deadlocks, and data corruption. Writing correct and reliable multithreaded code can be challenging.\n",
    "\n",
    "Synchronization Overhead: Synchronization mechanisms, such as locks and semaphores, introduce overhead. Contention for shared resources can lead to performance bottlenecks if synchronization is not managed properly.\n",
    "\n",
    "Debugging and Testing: Debugging multithreaded applications can be difficult. Issues may be non-deterministic and difficult to reproduce consistently. Race conditions and deadlocks can be elusive to identify and fix."
   ]
  },
  {
   "cell_type": "code",
   "execution_count": null,
   "id": "f28756ee",
   "metadata": {},
   "outputs": [],
   "source": [
    "Q6"
   ]
  },
  {
   "cell_type": "code",
   "execution_count": null,
   "id": "6e8f3a4a",
   "metadata": {},
   "outputs": [],
   "source": [
    "There are four condition for deadlocks to occur:\n",
    "Mutual Exclusion: At least one resource must be held in a non-sharable mode, meaning only one thread or process can access it at a time.\n",
    "\n",
    "Hold and Wait: A thread holding at least one resource is waiting to acquire additional resources that are currently held by other threads.\n",
    "\n",
    "No Preemption: Resources cannot be forcibly taken away from a thread. They can only be released voluntarily by the thread holding them.\n",
    "\n",
    "Circular Wait: There is a circular chain of two or more threads, where each thread is waiting for a resource that is held by another thread in the chain."
   ]
  }
 ],
 "metadata": {
  "kernelspec": {
   "display_name": "Python 3 (ipykernel)",
   "language": "python",
   "name": "python3"
  },
  "language_info": {
   "codemirror_mode": {
    "name": "ipython",
    "version": 3
   },
   "file_extension": ".py",
   "mimetype": "text/x-python",
   "name": "python",
   "nbconvert_exporter": "python",
   "pygments_lexer": "ipython3",
   "version": "3.9.13"
  }
 },
 "nbformat": 4,
 "nbformat_minor": 5
}
