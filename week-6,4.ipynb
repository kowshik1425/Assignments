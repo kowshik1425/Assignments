{
 "cells": [
  {
   "cell_type": "code",
   "execution_count": null,
   "id": "7c68cfe5",
   "metadata": {},
   "outputs": [],
   "source": [
    "Q1"
   ]
  },
  {
   "cell_type": "code",
   "execution_count": null,
   "id": "f02120d8",
   "metadata": {},
   "outputs": [],
   "source": [
    "Flask is a micro web framework for Python, designed to make it easy to build web applications quickly and with minimal overhead. It is classified as a \"micro\" framework because it provides the essentials needed to get a web application up and running but leaves many other decisions and components up to the developer. Flask follows the WSGI (Web Server Gateway Interface) standard and is often used with the Werkzeug WSGI toolkit and the Jinja2 templating engine.\n",
    "\n",
    "advantages of Flask:\n",
    "\n",
    "Lightweight and Minimalistic: Flask is known for its simplicity and minimalistic approach. It provides just what you need to get started and doesn't impose a specific project structure or directory layout, allowing developers flexibility in organizing their code.\n",
    "\n",
    "Easy to Learn: Flask's simplicity makes it a great choice for beginners. The framework's small and intuitive API is easy to understand and work with, making it a good choice for developers who are new to web development.\n",
    "\n",
    "Extensible: While Flask itself provides only the basic components for web development, it is highly extensible. Developers can easily add extensions and libraries to Flask to enhance functionality as needed, without bloating the core framework.\n",
    "\n",
    "Flexibility: Flask doesn't force developers into a particular way of doing things. You can choose the libraries, tools, and databases you want to work with, allowing for a high degree of flexibility and customization.\n",
    "\n",
    "Large Community and Ecosystem: Flask has a large and active community of developers, which means there is a wealth of resources, tutorials, and third-party extensions available to help with your projects. You can find a wide range of Flask extensions for tasks like authentication, database integration, and more."
   ]
  },
  {
   "cell_type": "code",
   "execution_count": null,
   "id": "7b179b54",
   "metadata": {},
   "outputs": [],
   "source": [
    "Q2"
   ]
  },
  {
   "cell_type": "code",
   "execution_count": null,
   "id": "2f795930",
   "metadata": {},
   "outputs": [],
   "source": [
    "from flask import Flask\n",
    "from flask import request\n",
    "\n",
    "app = Flask(__name__)\n",
    "\n",
    "@app.route(\"/\")\n",
    "def hello_world():\n",
    "    return \"Hello, World!\"\n",
    "\n",
    "\n",
    "if __name__==\"__main__\":\n",
    "    app.run(host=\"0.0.0.0\")"
   ]
  },
  {
   "cell_type": "code",
   "execution_count": null,
   "id": "424b42a8",
   "metadata": {},
   "outputs": [],
   "source": [
    "Q3"
   ]
  },
  {
   "cell_type": "code",
   "execution_count": null,
   "id": "0c97364c",
   "metadata": {},
   "outputs": [],
   "source": [
    "In Flask, app routing refers to the process of defining URL routes for your web application. These routes determine how the application responds to different URLs or HTTP methods. You define routes using decorators in your Flask application, and each route is associated with a specific view function that handles the logic for that URL.\n",
    "\n",
    "from flask import Flask\n",
    "\n",
    "app = Flask(__name__)\n",
    "\n",
    "@app.route('/')\n",
    "def hello_world():\n",
    "    return 'Hello, World!'\n"
   ]
  },
  {
   "cell_type": "code",
   "execution_count": null,
   "id": "9216cc27",
   "metadata": {},
   "outputs": [],
   "source": [
    "Q4"
   ]
  },
  {
   "cell_type": "code",
   "execution_count": null,
   "id": "be3aa3b9",
   "metadata": {},
   "outputs": [],
   "source": [
    "from flask import Flask\n",
    "from flask import request\n",
    "\n",
    "app = Flask(__name__)\n",
    "\n",
    "\n",
    "@app.route('/welcome')\n",
    "def welcome():\n",
    "    return 'Welcome to ABC Corporation'\n",
    "\n",
    "@app.route('/')\n",
    "def company_info():\n",
    "    return '''\n",
    "    Company Name: ABC Corporation\n",
    "    Location: India\n",
    "    Contact Detail: 999-999-9999\n",
    "    '''\n",
    "\n",
    "if __name__==\"__main__\":\n",
    "    app.run(host=\"0.0.0.0\")"
   ]
  },
  {
   "cell_type": "code",
   "execution_count": null,
   "id": "766be5f1",
   "metadata": {},
   "outputs": [],
   "source": [
    "Q5"
   ]
  },
  {
   "cell_type": "code",
   "execution_count": null,
   "id": "81ead9f2",
   "metadata": {},
   "outputs": [],
   "source": [
    "In Flask, the url_for function is used for URL building. It generates URLs for specific routes based on their endpoint names and any parameters that need to be passed to the route. This function is particularly useful for avoiding hardcoding URLs in your templates and views, which can make your code more maintainable.\n",
    "\n",
    "from flask import Flask, render_template, url_for\n",
    "\n",
    "app = Flask(__name__)\n",
    "@app.route('/')\n",
    "def home():\n",
    "    return 'Welcome to the Home Page'\n",
    "\n",
    "@app.route('/about')\n",
    "def about():\n",
    "    return 'This is the About Page'\n",
    "\n",
    "@app.route('/contact/<int:contact_id>')\n",
    "def contact(contact_id):\n",
    "    return f'Contact Page for Contact ID: {contact_id}'\n",
    "\n",
    "if __name__ == '__main__':\n",
    "    app.run(debug=True)\n"
   ]
  },
  {
   "cell_type": "code",
   "execution_count": null,
   "id": "fc4c9053",
   "metadata": {},
   "outputs": [],
   "source": []
  },
  {
   "cell_type": "code",
   "execution_count": null,
   "id": "7993108f",
   "metadata": {},
   "outputs": [],
   "source": []
  },
  {
   "cell_type": "code",
   "execution_count": null,
   "id": "74a579c7",
   "metadata": {},
   "outputs": [],
   "source": []
  }
 ],
 "metadata": {
  "kernelspec": {
   "display_name": "Python 3 (ipykernel)",
   "language": "python",
   "name": "python3"
  },
  "language_info": {
   "codemirror_mode": {
    "name": "ipython",
    "version": 3
   },
   "file_extension": ".py",
   "mimetype": "text/x-python",
   "name": "python",
   "nbconvert_exporter": "python",
   "pygments_lexer": "ipython3",
   "version": "3.9.13"
  }
 },
 "nbformat": 4,
 "nbformat_minor": 5
}
