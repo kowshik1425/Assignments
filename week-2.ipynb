{
 "cells": [
  {
   "cell_type": "code",
   "execution_count": null,
   "id": "d070a29f",
   "metadata": {},
   "outputs": [],
   "source": [
    "Q1"
   ]
  },
  {
   "cell_type": "code",
   "execution_count": null,
   "id": "b4a8a2dd",
   "metadata": {},
   "outputs": [],
   "source": [
    "There are  two types of comments in Python:\n",
    "\n",
    "Single-line comments: These comments start with a hash symbol (#) and are terminated at the end of the line.it is used to represent single line of comment\n",
    "eg:#this is my single line comment\n",
    "   \n",
    "\n",
    "Multi-line comments: These comments start with three quotation marks (\"\"\") and end with three quotation marks (\"\"\"). They can span multiple lines.it is used to represent multiple line of comments.\n",
    "eg:\"\"\"this is my first line\n",
    "      this is my second line\"\"\""
   ]
  },
  {
   "cell_type": "code",
   "execution_count": null,
   "id": "e9748f23",
   "metadata": {},
   "outputs": [],
   "source": [
    "Q2"
   ]
  },
  {
   "cell_type": "code",
   "execution_count": null,
   "id": "4f5a83ff",
   "metadata": {},
   "outputs": [],
   "source": [
    "VARIBLES:variables are containers used to store the assigned values.\n",
    "=>To declare a variable,you simply give it a name and assign it a value. The name of a variable can be any combination of letters, numbers, and underscores, but it must start with a letter.\n",
    "eg:\n",
    "    course=\"pwskills\"\n",
    "    \n",
    "    Here variable the is \"course\" and assigned value is \"pwskills\""
   ]
  },
  {
   "cell_type": "code",
   "execution_count": null,
   "id": "4953f351",
   "metadata": {},
   "outputs": [],
   "source": [
    "Q3"
   ]
  },
  {
   "cell_type": "code",
   "execution_count": 1,
   "id": "6f97984a",
   "metadata": {},
   "outputs": [
    {
     "name": "stdout",
     "output_type": "stream",
     "text": [
      "123.0\n",
      "12\n",
      "123\n",
      "123\n"
     ]
    }
   ],
   "source": [
    "#converting int to float\n",
    "a=123\n",
    "print(float(a))\n",
    "#converting float to int\n",
    "b=12.4\n",
    "print(int(b))\n",
    "#converting int to float\n",
    "c=\"123\"\n",
    "print(int(c))\n",
    "#converting int to float\n",
    "d=123\n",
    "print(str(d))\n"
   ]
  },
  {
   "cell_type": "code",
   "execution_count": null,
   "id": "b791e6d4",
   "metadata": {},
   "outputs": [],
   "source": [
    "Q4"
   ]
  },
  {
   "cell_type": "code",
   "execution_count": null,
   "id": "038629b4",
   "metadata": {},
   "outputs": [],
   "source": [
    "steps on how to write and execute a Python script from the command line:\n",
    "\n",
    "1.Create a file with a .py extension.\n",
    "2.Write your Python code in the file.\n",
    "3.Save the file.\n",
    "4.Open a terminal window.\n",
    "5.Navigate to the directory where your Python script is saved.\n",
    "Example for simple Python script that you can write and execute from the command line:\n",
    "    print(\"hello world\")"
   ]
  },
  {
   "cell_type": "code",
   "execution_count": null,
   "id": "281151b9",
   "metadata": {},
   "outputs": [],
   "source": [
    "Q5"
   ]
  },
  {
   "cell_type": "code",
   "execution_count": 3,
   "id": "0172ee45",
   "metadata": {},
   "outputs": [
    {
     "name": "stdout",
     "output_type": "stream",
     "text": [
      "[2, 3]\n"
     ]
    }
   ],
   "source": [
    "my_list=[1,2,3,4,5]\n",
    "print(my_list[1:3])"
   ]
  },
  {
   "cell_type": "code",
   "execution_count": null,
   "id": "81d7e0c1",
   "metadata": {},
   "outputs": [],
   "source": [
    "Q6"
   ]
  },
  {
   "cell_type": "code",
   "execution_count": 6,
   "id": "859caa11",
   "metadata": {},
   "outputs": [
    {
     "name": "stdout",
     "output_type": "stream",
     "text": [
      "(2+3j)\n"
     ]
    }
   ],
   "source": [
    "# COMPLEX NUMBER:a complex number is a number of the form a + bi, where a and b are real numbers, and i is an imaginary unit called iota that represents √-1. For example, 2 + 3i, is a complex number in which 2 is a real number and 3i is an imaginary number.\n",
    "# => Complex numbers can be added, subtracted, multiplied, and divided. They can also be raised to powers and roots. Complex numbers are used in many areas of mathematics, including linear algebra, differential equations, and complex analysis.\n",
    "# CODE:\n",
    "\n",
    "print(complex(2,3))"
   ]
  },
  {
   "cell_type": "code",
   "execution_count": null,
   "id": "595f83fb",
   "metadata": {},
   "outputs": [],
   "source": [
    "Q7"
   ]
  },
  {
   "cell_type": "code",
   "execution_count": 7,
   "id": "9e784860",
   "metadata": {},
   "outputs": [
    {
     "name": "stdout",
     "output_type": "stream",
     "text": [
      "25\n"
     ]
    }
   ],
   "source": [
    "age=25\n",
    "print(age)"
   ]
  },
  {
   "cell_type": "code",
   "execution_count": null,
   "id": "fd8d24e0",
   "metadata": {},
   "outputs": [],
   "source": [
    "Q8"
   ]
  },
  {
   "cell_type": "code",
   "execution_count": 8,
   "id": "d04ca4c5",
   "metadata": {},
   "outputs": [
    {
     "name": "stdout",
     "output_type": "stream",
     "text": [
      "<class 'float'>\n"
     ]
    }
   ],
   "source": [
    "price=9.99\n",
    "print(type(price))"
   ]
  },
  {
   "cell_type": "code",
   "execution_count": null,
   "id": "9fe6a220",
   "metadata": {},
   "outputs": [],
   "source": [
    "Q9"
   ]
  },
  {
   "cell_type": "code",
   "execution_count": 9,
   "id": "04d43269",
   "metadata": {},
   "outputs": [
    {
     "name": "stdout",
     "output_type": "stream",
     "text": [
      "kowshik\n",
      "my name is kowshik\n"
     ]
    }
   ],
   "source": [
    "name=\"kowshik\"\n",
    "print(name)\n",
    "#using f string\n",
    "print(f\"my name is {name}\")"
   ]
  },
  {
   "cell_type": "code",
   "execution_count": null,
   "id": "bf80aa5a",
   "metadata": {},
   "outputs": [],
   "source": [
    "Q10"
   ]
  },
  {
   "cell_type": "code",
   "execution_count": 10,
   "id": "43bb8724",
   "metadata": {},
   "outputs": [
    {
     "name": "stdout",
     "output_type": "stream",
     "text": [
      "world\n"
     ]
    }
   ],
   "source": [
    "str=\"hello world\"\n",
    "print(str[6:])"
   ]
  },
  {
   "cell_type": "code",
   "execution_count": null,
   "id": "427cbebd",
   "metadata": {},
   "outputs": [],
   "source": [
    "Q11"
   ]
  },
  {
   "cell_type": "code",
   "execution_count": 14,
   "id": "0fd4632e",
   "metadata": {},
   "outputs": [
    {
     "name": "stdout",
     "output_type": "stream",
     "text": [
      "enter yes if you are student or false if you are not student:yes\n",
      "True\n"
     ]
    }
   ],
   "source": [
    "is_student=input(\"enter yes if you are student or false if you are not student:\")\n",
    "if is_student==\"yes\":\n",
    "    print(True)\n",
    "elif is_student==\"no\":\n",
    "    print(False)\n",
    "else:\n",
    "    print(\"enter a vaild input\")"
   ]
  },
  {
   "cell_type": "code",
   "execution_count": null,
   "id": "c958d6c8",
   "metadata": {},
   "outputs": [],
   "source": []
  },
  {
   "cell_type": "code",
   "execution_count": null,
   "id": "a07d25f9",
   "metadata": {},
   "outputs": [],
   "source": []
  }
 ],
 "metadata": {
  "kernelspec": {
   "display_name": "Python 3 (ipykernel)",
   "language": "python",
   "name": "python3"
  },
  "language_info": {
   "codemirror_mode": {
    "name": "ipython",
    "version": 3
   },
   "file_extension": ".py",
   "mimetype": "text/x-python",
   "name": "python",
   "nbconvert_exporter": "python",
   "pygments_lexer": "ipython3",
   "version": "3.9.13"
  }
 },
 "nbformat": 4,
 "nbformat_minor": 5
}
