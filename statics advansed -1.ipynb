{
 "cells": [
  {
   "cell_type": "code",
   "execution_count": null,
   "id": "63a8f5d1",
   "metadata": {},
   "outputs": [],
   "source": [
    "#1\n",
    "Point Estimate:\n",
    "A point estimate is a single value or point that is used to estimate an unknown population parameter. It is typically calculated from sample data and serves as the best guess or approximation of the true parameter value.\n",
    "Point estimates are often calculated using sample statistics that are known to be unbiased estimators of the population parameter. For example, the sample mean (is commonly used as a point estimate of the population mean and the sample proportion is used as a point estimate of the population proportion\n",
    "While point estimates provide a convenient way to estimate population parameters, they do not convey any information about the uncertainty or variability associated with the estimate.\n",
    "\n",
    "Interval Estimate:\n",
    "An interval estimate, also known as a confidence interval, provides a range of values within which the true population parameter is likely to lie, along with a level of confidence associated with the interval.\n",
    "Interval estimates are constructed around point estimates and take into account the variability in the sample data. They provide a measure of uncertainty about the point estimate by specifying a range of plausible values for the population parameter.\n",
    "The width of the confidence interval depends on several factors, including the sample size, variability of the data, and chosen level of confidence (e.g., 95% confidence interval).\n",
    "Confidence intervals are often constructed using the point estimate plus or minus a margin of error, which is determined based on the standard error of the estimate and the chosen level of confidence.\n"
   ]
  },
  {
   "cell_type": "code",
   "execution_count": null,
   "id": "0f7a6388",
   "metadata": {},
   "outputs": [],
   "source": [
    "#2\n",
    "def estimate_population_mean(sample_mean, sample_std_dev, sample_size):\n",
    "    standard_error = sample_std_dev / (sample_size ** 0.5)\n",
    "    margin_of_error = critical_z_value * standard_error\n",
    "    lower_bound = sample_mean - margin_of_error\n",
    "    upper_bound = sample_mean + margin_of_error\n",
    "    return lower_bound, upper_bound\n",
    "sample_mean = 50 \n",
    "sample_std_dev = 10  \n",
    "sample_size = 100  \n",
    "lower_bound, upper_bound = estimate_population_mean(sample_mean, sample_std_dev, sample_size)\n",
    "print(\"Estimated population mean (95% confidence interval):\", lower_bound, \"-\", upper_bound)\n"
   ]
  },
  {
   "cell_type": "code",
   "execution_count": null,
   "id": "09b18a40",
   "metadata": {},
   "outputs": [],
   "source": [
    "#3\n",
    "The null hypothesis typically represents the status quo or the assumption that there is no effect or no difference in the population. The alternative hypothesis (or  represents the opposite of the null hypothesis and states that there is an effect or a difference in the population.\n",
    "\n",
    "Hypothesis testing follows a structured process that involves the following steps:\n",
    "Formulate hypotheses: Clearly state the null hypothesis and the alternative hypothesis based on the research question or problem being investigated.\n",
    "Choose a significance level : The significance level is the probability of rejecting the null hypothesis when it is actually true. Common significance levels include 0.05 (5%) and 0.01 (1%).\n",
    "Select a statistical test: Choose an appropriate statistical test based on the type of data and the research question. Common statistical tests include t-tests, chi-square tests, ANOVA, and regression analysis.\n",
    "Collect sample data: Collect data from a representative sample that is relevant to the research question.\n",
    "Conduct the test: Use the chosen statistical test to analyze the sample data and calculate a test statistic.\n",
    "Make a decision: Compare the test statistic to a critical value or calculate a p-value. If the test statistic falls in the critical region (i.e., beyond the critical value) or if the p-value is less than the significance level (, reject the null hypothesis. Otherwise, fail to reject the null hypothesis.\n",
    "Draw conclusions: Based on the decision made in step 6, draw conclusions about the population parameter and the research question."
   ]
  },
  {
   "cell_type": "code",
   "execution_count": null,
   "id": "753fae7f",
   "metadata": {},
   "outputs": [],
   "source": [
    "#4\n",
    "Absolutely! Here's a hypothesis that follows the standard format for scientific inquiry:\n",
    "\n",
    "Null hypothesis (H0): The average weight of male college students is equal to the average weight of female college students.\n",
    "Alternative hypothesis (H1): The average weight of male college students is greater than the average weight of female college students.\n",
    "This hypothesis suggests that there's no inherent difference in weight between male and female college students (null hypothesis), but we can also consider the possibility that males weigh more on average (alternative hypothesis). This allows us to design a study to test which hypothesis is more likely true pen_sparktunesharemore_vert\n"
   ]
  },
  {
   "cell_type": "code",
   "execution_count": 2,
   "id": "81847138",
   "metadata": {},
   "outputs": [
    {
     "name": "stdout",
     "output_type": "stream",
     "text": [
      "Independent Samples t-Test:\n",
      "t-statistic: 7.362863892934746\n",
      "p-value: 7.826244540872492e-07\n",
      "Reject the null hypothesis: There is a significant difference between the population means.\n"
     ]
    }
   ],
   "source": [
    "#5\n",
    "import numpy as np\n",
    "from scipy import stats\n",
    "\n",
    "def conduct_t_test(sample1, sample2, alpha=0.05):\n",
    "    t_statistic, p_value = stats.ttest_ind(sample1, sample2, equal_var=True)\n",
    "    print(\"Independent Samples t-Test:\")\n",
    "    print(\"t-statistic:\", t_statistic)\n",
    "    print(\"p-value:\", p_value)\n",
    "    if p_value < alpha:\n",
    "        print(\"Reject the null hypothesis: There is a significant difference between the population means.\")\n",
    "    else:\n",
    "        print(\"Fail to reject the null hypothesis: There is no significant difference between the population means.\")\n",
    "sample1 = np.array([65, 67, 70, 72, 68, 69, 71, 66, 68, 70])  \n",
    "sample2 = np.array([60, 62, 63, 65, 61, 64, 63, 62, 60, 62])  \n",
    "alpha = 0.05 \n",
    "\n",
    "conduct_t_test(sample1, sample2, alpha)\n"
   ]
  },
  {
   "cell_type": "code",
   "execution_count": null,
   "id": "9a2f9bec",
   "metadata": {},
   "outputs": [],
   "source": [
    "#6\n",
    "Null Hypothesis:The null hypothesis is the default assumption or the status quo. It represents the absence of an effect, difference, or relationship in the population.\n",
    "It is assumed to be true unless there is sufficient evidence to reject it.\n",
    "In hypothesis testing, the null hypothesis is often formulated as a statement of equality, such as \"there is no difference\" or \"the mean is equal to a specific value.\"\n",
    "Examples:\n",
    "The mean IQ of a population is 100.\n",
    "The new drug has no effect on blood pressure.\n",
    "There is no difference in exam scores between two teaching methods.\n",
    "Alternative Hypothesis:The alternative hypothesis is the statement that contradicts the null hypothesis. It represents the presence of an effect, difference, or relationship in the population.\n",
    "It is denoted as and is what researchers are trying to find evidence for.\n",
    "The alternative hypothesis can take different forms depending on the research question, such as \"the mean is greater than,\" \"the mean is less than,\" or \"the mean is not equal to a specific value.\"\n",
    "Examples:\n",
    "The mean IQ of a population is greater than 100.\n",
    "The new drug decreases blood pressure.\n",
    "There is a difference in exam scores between two teaching methods."
   ]
  },
  {
   "cell_type": "code",
   "execution_count": null,
   "id": "f9445b1c",
   "metadata": {},
   "outputs": [],
   "source": [
    "#7\n",
    "State the Null Hypothesis and Alternative Hypothesis :\n",
    "Clearly define the null hypothesis, which represents the default assumption or status quo.\n",
    "Formulate the alternative hypothesis, which represents the opposite or what you are trying to find evidence for.\n",
    "State the hypotheses in terms of population parameters or effects.\n",
    "Choose a Significance Level:Select a significance level, which represents the probability of rejecting the null hypothesis when it is actually true.\n",
    "Common significance levels include 0.05 (5%) and 0.01 (1%).\n",
    "Select a Statistical Test:\n",
    "Choose an appropriate statistical test based on the type of data (e.g., continuous, categorical) and the research question.\n",
    "Common statistical tests include t-tests, chi-square tests, ANOVA, and regression analysis.\n",
    "Collect Sample Data:\n",
    "Collect data from a representative sample that is relevant to the research question.\n",
    "Ensure that the sample size is sufficient to detect the effect or difference of interest.\n",
    "Calculate Test Statistic:\n",
    "Use the collected sample data to calculate a test statistic based on the chosen statistical test.\n",
    "The test statistic measures the strength of evidence against the null hypothesis.\n",
    "Determine the Critical Region:\n",
    "Determine the critical region or rejection region, which consists of the values of the test statistic that would lead to rejection of the null hypothesis.\n",
    "The critical region is determined based on the chosen significance level and the distribution of the test statistic.\n",
    "Calculate P-Value:Calculate the p-value, which represents the probability of observing the sample data or more extreme data, assuming that the null hypothesis is true.\n",
    "The p-value is compared to the significance level to make a decision about rejecting or retaining the null hypothesis.\n",
    "Make a Decision:\n",
    "If the test statistic falls within the critical region or if the p-value is less than the significance level (, reject the null hypothesis.\n",
    "If the test statistic does not fall within the critical region and the p-value is greater than or equal to the significance level, fail to reject the null hypothesis.\n",
    "Draw Conclusions:\n",
    "Based on the decision made in step 8, draw conclusions about the population parameter or effect of interest.\n",
    "Interpret the results in the context of the research question and the hypotheses being tested."
   ]
  },
  {
   "cell_type": "code",
   "execution_count": null,
   "id": "388910f7",
   "metadata": {},
   "outputs": [],
   "source": [
    "#8\n",
    "Here's how to interpret the p-value in hypothesis testing:\n",
    "\n",
    "Small p-value:\n",
    "A small p-value (typically less than the chosen significance level indicates strong evidence against the null hypothesis.\n",
    "It suggests that the observed data is unlikely to have occurred if the null hypothesis were true.\n",
    "In this case, the null hypothesis is often rejected in favor of the alternative hypothesis.\n",
    "Large p-value:\n",
    "A large p-value (greater than or equal to the chosen significance level indicates weak evidence against the null hypothesis.\n",
    "It suggests that the observed data is reasonably likely to have occurred even if the null hypothesis were true.\n",
    "In this case, there is insufficient evidence to reject the null hypothesis, and it may be retained.\n",
    "The significance of the p-value in hypothesis testing lies in its ability to inform decision-making regarding the null hypothesis. Specifically:\n",
    "\n",
    "If the p-value is smaller than the significance level, it indicates that the observed data is unlikely to have occurred by random chance alone, leading to rejection of the null hypothesis.\n",
    "If the p-value is larger than or equal to the significance level, it suggests that the observed data is consistent with the null hypothesis, and there is insufficient evidence to reject it."
   ]
  },
  {
   "cell_type": "code",
   "execution_count": 3,
   "id": "32be1db8",
   "metadata": {},
   "outputs": [
    {
     "data": {
      "image/png": "[encoded data removed]",
      "text/plain": [
       "<Figure size 800x600 with 1 Axes>"
      ]
     },
     "metadata": {},
     "output_type": "display_data"
    }
   ],
   "source": [
    "#9\n",
    "import numpy as np\n",
    "import matplotlib.pyplot as plt\n",
    "from scipy.stats import t\n",
    "x = np.linspace(-4, 4, 1000)\n",
    "df = 10\n",
    "pdf = t.pdf(x, df)\n",
    "plt.figure(figsize=(8, 6))\n",
    "plt.plot(x, pdf, label='t-distribution with df=10', color='blue')\n",
    "plt.title(\"Student's t-distribution with 10 Degrees of Freedom\")\n",
    "plt.xlabel('x')\n",
    "plt.ylabel('Probability Density')\n",
    "plt.grid(True)\n",
    "plt.legend()\n",
    "plt.show()\n"
   ]
  },
  {
   "cell_type": "code",
   "execution_count": 4,
   "id": "fcfd61e1",
   "metadata": {},
   "outputs": [
    {
     "name": "stdout",
     "output_type": "stream",
     "text": [
      "Two-Sample t-Test:\n",
      "t-statistic: -2.0897499957481003\n",
      "p-value: 0.04338623994402823\n",
      "Reject the null hypothesis: There is a significant difference between the population means.\n"
     ]
    }
   ],
   "source": [
    "#10\n",
    "import numpy as np\n",
    "from scipy.stats import ttest_ind\n",
    "def two_sample_t_test(sample1, sample2, alpha=0.05):\n",
    "    t_statistic, p_value = ttest_ind(sample1, sample2)\n",
    "    print(\"Two-Sample t-Test:\")\n",
    "    print(\"t-statistic:\", t_statistic)\n",
    "    print(\"p-value:\", p_value)\n",
    "    if p_value < alpha:\n",
    "        print(\"Reject the null hypothesis: There is a significant difference between the population means.\")\n",
    "    else:\n",
    "        print(\"Fail to reject the null hypothesis: There is no significant difference between the population means.\")\n",
    "sample_size = 20\n",
    "sample1 = np.random.normal(loc=0, scale=1, size=sample_size)  \n",
    "sample2 = np.random.normal(loc=0.5, scale=1, size=sample_size)  \n",
    "alpha = 0.05\n",
    "two_sample_t_test(sample1, sample2, alpha)\n"
   ]
  },
  {
   "cell_type": "code",
   "execution_count": null,
   "id": "a260e358",
   "metadata": {},
   "outputs": [],
   "source": [
    "#11\n",
    "Student's t-distribution, often referred to simply as the t-distribution, is a probability distribution that is symmetric and bell-shaped, similar to the normal distribution. However, it has heavier tails, which means it has more probability in the tails and less in the center compared to the normal distribution. The shape of the t-distribution depends on a parameter called the degrees of freedom (df).\n",
    "The t-distribution is used in hypothesis testing and confidence interval estimation when the population standard deviation is unknown and the sample size is small (typically less than 30). It arises from the fact that the sample standard deviation is used to estimate the population standard deviation, which introduces additional variability in the sampling distribution.\n",
    "When to use the t-distribution:\n",
    "Small sample sizes: When the sample size is small (typically less than 30), the t-distribution is used instead of the normal distribution to account for the increased variability introduced by using the sample standard deviation to estimate the population standard deviation.\n",
    "\n",
    "Unknown population standard deviation: When the population standard deviation is unknown and cannot be assumed to be equal to the sample standard deviation, the t-distribution is used to construct confidence intervals and perform hypothesis tests.\n",
    "\n",
    "When assumptions are met: The t-distribution should be used when the data follow a normal distribution or when the sample size is large enough for the central limit theorem to apply."
   ]
  },
  {
   "cell_type": "code",
   "execution_count": null,
   "id": "c8ddcbb1",
   "metadata": {},
   "outputs": [],
   "source": [
    "#12\n",
    "One-Sample t-Test:\n",
    "\n",
    "t = (x̄ - μ) / (s / √n)\n",
    "\n",
    "where:\n",
    "t: t-statistic (what you're solving for)\n",
    "x̄ (x-bar): Mean of the sample data\n",
    "μ (mu): Hypothesized population mean (the mean you're comparing the sample to)\n",
    "s: Standard deviation of the sample data\n",
    "n: Sample size (number of observations in the sample)\n",
    "T\n",
    "two-Sample t-Test (assuming equal variances):\n",
    "\n",
    "t = (x̄1 - x̄2) / (Spooled * √(1/n1 + 1/n2))\n",
    "\n",
    "where:\n",
    "t: t-statistic (what you're solving for)\n",
    "x̄1 (x-bar1): Mean of the first sample data\n",
    "x̄2 (x-bar2): Mean of the second sample data\n",
    "Spooled: Pooled standard deviation (calculated using the variances of both samples)\n",
    "n1: Sample size of the first group\n",
    "n2: Sample size of the second group"
   ]
  },
  {
   "cell_type": "code",
   "execution_count": null,
   "id": "e97f7680",
   "metadata": {},
   "outputs": [],
   "source": [
    "#13\n",
    "Sure, the coffee shop owner can estimate the population mean revenue with a 95% confidence interval of $485.79 to $514.21.\n",
    "\n",
    "Here's the breakdown of the calculation:\n",
    "\n",
    "Sample mean (x̄): $500\n",
    "Sample standard deviation (s): $50\n",
    "Sample size (n): 50\n",
    "Confidence level: 95%\n",
    "\n",
    "We can use the t-distribution to calculate the margin of error for the confidence interval. The t-value for a 95% confidence interval with 49 degrees of freedom (n-1) is 2.009.\n",
    "Margin of error: t_value * (s / √n) = 2.009 * ($50 / √50) = $14.21\n",
    "\n",
    "The margin of error is added and subtracted from the sample mean to calculate the upper and lower bounds of the confidence interval.\n",
    "Lower bound: x̄ - margin of error = $500 - $14.21 = $485.79\n",
    "Upper bound: x̄ + margin of error = $500 + $14.21 = $514.21\n",
    "Confidence Interval: ($485.79, $514.21)\n",
    "\n",
    "We can be 95% confident that the true population mean revenue falls within this range. The interpretation is that if the coffee shop owner were to take many random samples of 50 days each, 95% of the confidence intervals would capture the population mean revenue."
   ]
  },
  {
   "cell_type": "code",
   "execution_count": null,
   "id": "b8018165",
   "metadata": {},
   "outputs": [],
   "source": [
    "#14\n",
    "Null hypothesis (H0): There is no decrease in blood pressure due to the new drug (i.e., the average decrease in blood pressure is 0 mmHg).\n",
    "\n",
    "Alternative hypothesis (H1): There is a decrease in blood pressure due to the new drug (i.e., the average decrease in blood pressure is greater than 0 mmHg).\n",
    "\n",
    "We will conduct a one-sample t-test assuming a normal distribution of blood pressure decrease.\n",
    "\n",
    "Test statistic:The t-statistic is calculated to be -0.67.\n",
    "\n",
    "Degrees of freedom:The degrees of freedom for the t-test are 99 (number of samples - 1).\n",
    "\n",
    "P-value:The two-tailed p-value is calculated to be 1.99, which is greater than the significance level of 0.05.\n",
    "\n",
    "Decision:Since the p-value (1.99) is greater than the significance level (0.05), we fail to reject the null hypothesis. There is not enough evidence to conclude that the new drug statistically decreases blood pressure at the 5% significance level.\n",
    "\n",
    "Summary:\n",
    "Based on this clinical trial, we cannot confirm that the new drug effectively reduces blood pressure. It's possible that a larger sample size or a different study design might yield different results.\n",
    "Here's a table summarizing the results of the hypothesis test:\n",
    "Test Statistic (t)\tDegrees of Freedom\tP-value (two-tailed)\tDecision\n",
    "-0.67\t99\t1.99\tFail to reject null hypothesis\n",
    "drive_spreadsheet\n",
    "Export to Sheets\n"
   ]
  },
  {
   "cell_type": "code",
   "execution_count": null,
   "id": "bc773abe",
   "metadata": {},
   "outputs": [],
   "source": [
    "#15\n",
    "Null hypothesis (H0): The true mean weight of the products is equal to 5 pounds.\n",
    "\n",
    "Alternative hypothesis (H1): The true mean weight of the products is less than 5 pounds (left-tailed test).\n",
    "\n",
    "Test statistic:We'll use a one-tailed t-test assuming a normal distribution of weight. The calculated t-statistic is -2.32.\n",
    "\n",
    "Degrees of freedom:Degrees of freedom for the t-test are 24 (n-1).\n",
    "\n",
    "P-value:The p-value is 0.028, which is greater than the significance level (alpha) of 0.01.\n",
    "\n",
    "Decision:Since the p-value (0.028) is greater than alpha (0.01), we fail to reject the null hypothesis. In other words, there is not enough evidence to conclude that the true mean weight of the products is less than 5 pounds based on this sample.\n",
    "\n",
    "Summary:\n",
    "The results of the hypothesis test suggest that there is not sufficient evidence to claim that the mean weight of the products is definitively lower than 5 pounds. We might need a larger sample size or a different significance level to reach a more conclusive decision.\n",
    "Here's a table summarizing the results of the hypothesis test:\n",
    "\n",
    "Test Statistic (t)\tDegrees of Freedom\tP-value (one-tailed)\tDecision\n",
    "-2.32\t24\t0.028\tFail to reject null hypothesis"
   ]
  },
  {
   "cell_type": "code",
   "execution_count": null,
   "id": "7b22a020",
   "metadata": {},
   "outputs": [],
   "source": [
    "#16\n",
    "Null hypothesis (H0): The population means for the two groups are equal (μ1 = μ2).\n",
    "\n",
    "Alternative hypothesis (H1): The population means for the two groups are not equal (μ1 ≠ μ2).\n",
    "\n",
    "Two-Sample t-Test (Unequal Variances):\n",
    "Since the sample sizes are different (n1 ≠ n2) and the standard deviations are not mentioned to be equal, we'll use a two-sample t-test assuming unequal variances. This is also known as Welch's t-test.\n",
    "\n",
    "Steps:\n",
    "Calculate the pooled standard deviation (Sp):\n",
    "We'll need the separate variances (s1^2 and s2^2) of the two groups first. These can be obtained by squaring the respective standard deviations (10^2 and 8^2).\n",
    "\n",
    "Sp = √{ [(n1 - 1) * s1^2 + (n2 - 1) * s2^2] / (n1 + n2 - 2)}\n",
    "\n",
    "Calculate the degrees of freedom (df):\n",
    "The degrees of freedom for Welch's t-test are estimated using a formula that considers unequal variances. Software tools can calculate this, but approximations are also available.\n",
    "Calculate the t-statistic:\n",
    "t = (x̄1 - x̄2) / (Sp * √(1/n1 + 1/n2))\n",
    "\n",
    "where:\n",
    "\n",
    "x̄1: Mean score of group 1 (80)\n",
    "x̄2: Mean score of group 2 (75)\n",
    "Sp: Pooled standard deviation (calculated in step 1)\n",
    "n1: Sample size of group 1 (30)\n",
    "n2: Sample size of group 2 (40)\n",
    "Find the p-value:\n",
    "Look up the two-tailed p-value for the calculated t-statistic with the estimated degrees of freedom from step 2.\n",
    "\n",
    "Decision:\n",
    "Compare the p-value with the significance level (alpha) of 0.01.\n",
    "If p-value < alpha (0.01): Reject the null hypothesis. There's evidence that the population means are not equal.\n",
    "If p-value >= alpha (0.01): Fail to reject the null hypothesis. We don't have enough evidence to conclude a difference in population means.\n",
    "\n",
    "Important Notes:\n",
    "Software or statistical tables can be used to calculate the pooled standard deviation, degrees of freedom, and p-value for efficiency.\n",
    "This test assumes normality of the data distribution within each group."
   ]
  },
  {
   "cell_type": "code",
   "execution_count": null,
   "id": "38b517aa",
   "metadata": {},
   "outputs": [],
   "source": [
    "#17\n",
    " the marketing company can estimate the population mean with a 99% confidence interval of 3.45 to 4.55 ads watched by viewers during a TV program.\n",
    "\n",
    "Here's a breakdown of the confidence interval calculation:\n",
    "Sample mean (x̄): 4 ads\n",
    "Sample standard deviation (s): 1.5 ads\n",
    "Sample size (n): 50 viewers\n",
    "Confidence level: 99%\n",
    "Critical value (z-score): 2.576 (from the standard normal distribution table for a 99% confidence level)\n",
    "\n",
    "Margin of error: (z-score * standard deviation) / square root of sample size\n",
    "= (2.576 * 1.5 ads) / sqrt(50 viewers)\n",
    "= 0.54 ads\n",
    "\n",
    "Confidence interval:\n",
    "Lower bound: sample mean - margin of error = 4 ads - 0.54 ads = 3.45 ads\n",
    "Upper bound: sample mean + margin of error = 4 ads + 0.54 ads = 4.55 ads\n",
    "We can be 99% confident that the true population mean number of ads watched by viewers falls within the range of 3.45 to 4.55 ads based on this sample.\n",
    "\n",
    "Interpretation:The marketing company can be fairly certain that the average number of ads watched by viewers during the TV program is somewhere between 3.45 and 4.55 ads, with a 99% level of confidence. This information can be valuable for making decisions about advertising strategies and program content."
   ]
  }
 ],
 "metadata": {
  "kernelspec": {
   "display_name": "Python 3 (ipykernel)",
   "language": "python",
   "name": "python3"
  },
  "language_info": {
   "codemirror_mode": {
    "name": "ipython",
    "version": 3
   },
   "file_extension": ".py",
   "mimetype": "text/x-python",
   "name": "python",
   "nbconvert_exporter": "python",
   "pygments_lexer": "ipython3",
   "version": "3.11.5"
  }
 },
 "nbformat": 4,
 "nbformat_minor": 5
}
