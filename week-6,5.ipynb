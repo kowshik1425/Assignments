{
 "cells": [
  {
   "cell_type": "code",
   "execution_count": null,
   "id": "53d98d33",
   "metadata": {},
   "outputs": [],
   "source": [
    "Q1"
   ]
  },
  {
   "cell_type": "code",
   "execution_count": null,
   "id": "7cac6521",
   "metadata": {},
   "outputs": [],
   "source": [
    "GET Method:\n",
    "\n",
    "Purpose: The GET method is primarily used to request data from a specified resource. It is a safe and idempotent operation, which means it should not have any side effects on the server or the data being requested. In other words, using a GET request should not modify data on the server.\n",
    "\n",
    "Visibility: Since data is included in the URL, it is visible to the user and can be bookmarked or shared easily. However, this also means that sensitive data should not be sent via GET requests.\n",
    "\n",
    "Caching: GET requests can be cached by web browsers and intermediary servers, which can improve performance by reducing the need to re-fetch the same data.\n",
    "\n",
    "Idempotence: GET requests are idempotent, meaning making the same GET request multiple times should produce the same result. It should not have any side effects on the server.\n",
    "\n",
    "POST Method:\n",
    "\n",
    "Purpose: The POST method is used to submit data to be processed to a specified resource. Unlike GET, POST is not idempotent, meaning making the same POST request multiple times may have different effects on the server.\n",
    "    \n",
    "Security: POST requests are more secure for transmitting sensitive data because the data is not visible in the URL. However, it is still important to use HTTPS to encrypt the data in transit.\n",
    "\n",
    "No Caching: POST requests are typically not cached by browsers or intermediary servers because they can modify data on the server. Caching POST requests could lead to unintended side effects.\n",
    "\n",
    "Non-Idempotent: POST requests are non-idempotent, meaning making the same POST request multiple times can result in different outcomes or create multiple resources on the server."
   ]
  },
  {
   "cell_type": "code",
   "execution_count": null,
   "id": "cad14b8a",
   "metadata": {},
   "outputs": [],
   "source": [
    "Q2"
   ]
  },
  {
   "cell_type": "code",
   "execution_count": null,
   "id": "8b0c02e1",
   "metadata": {},
   "outputs": [],
   "source": [
    "The request object is used to access and manipulate incoming HTTP requests made by clients to your web application. It provides a convenient way to access various aspects of an incoming request, such as form data, query parameters, cookies, headers, and more. The request object is an integral part of handling client interactions and enables you to build dynamic and interactive web applications.\n",
    "\n",
    "key reasons why the request object is used in Flask:\n",
    "\n",
    "=>Accessing Data:The request object allows you to access data sent by the client in the form of query parameters, form data, JSON payloads, and more. \n",
    "=>Form Handling:When a user submits a form on a web page, Flask uses the request object to capture the form data, making it accessible to your application for processing and validation.\n",
    "=>Query Parameters:You can access query parameters from the URL using the request.args attribute.\n",
    "=>Cookies:The request object provides access to cookies sent by the client. You can read and write cookies using the request.cookies attribute, allowing you to implement features like user sessions and authentication.\n",
    "=>HTTP Headers: You can access the HTTP headers sent by the client using the request.headers attribute. This is valuable for extracting information such as user agent, content type, and authorization headers.\n",
    "=>File Uploads: When handling file uploads in forms, the request object is used to access the uploaded files, making it possible to save them to the server, validate file types, and perform other necessary operations.\n",
    "=>HTTP Methods: You can determine the HTTP method used in the request using request.method. This helps you route requests to the appropriate view functions based on the HTTP method.\n"
   ]
  },
  {
   "cell_type": "code",
   "execution_count": null,
   "id": "778f6f8a",
   "metadata": {},
   "outputs": [],
   "source": [
    "Q3"
   ]
  },
  {
   "cell_type": "code",
   "execution_count": null,
   "id": "c3e3aa71",
   "metadata": {},
   "outputs": [],
   "source": [
    "redirect() function is used to perform a URL redirection, which instructs the client (typically a web browser) to navigate to a different URL or route. URL redirection is a common technique in web development for various purposes, and the redirect() function provides a convenient way to implement it.\n",
    "Changing the URL: One of the primary use cases for redirect() is to change the URL displayed in the client's web browser. This can be helpful for guiding users to a different page or route based on certain conditions or after specific actions.\n",
    "Implementing Clean URLs: You can use URL redirection to create cleaner and more user-friendly URLs. For example, you can redirect from a longer or less descriptive URL to a shorter and more meaningful one.\n",
    "Changing Routes: In a Flask application, you might want to change routes programmatically based on certain conditions or user actions. redirect() allows you to do this by specifying the target route as an argument.\n",
    "\n",
    "from flask import Flask, redirect, url_for\n",
    "\n",
    "app = Flask(__name__)\n",
    "\n",
    "@app.route('/')\n",
    "def home():\n",
    "    return redirect(url_for('about'))\n",
    "\n",
    "@app.route('/about')\n",
    "def about():\n",
    "    return 'This is the About Page'\n",
    "\n",
    "if __name__ == '__main__':\n",
    "    app.run(debug=True)\n"
   ]
  },
  {
   "cell_type": "code",
   "execution_count": null,
   "id": "d5bb3450",
   "metadata": {},
   "outputs": [],
   "source": [
    "Q4"
   ]
  },
  {
   "cell_type": "code",
   "execution_count": null,
   "id": "877b108f",
   "metadata": {},
   "outputs": [],
   "source": [
    "emplates in Flask are a way to separate the presentation from the application logic in your web application. They allow you to create dynamic and data-driven web pages by embedding placeholders for data that can be filled in when the page is rendered. Flask uses the Jinja2 template engine by default, which provides a powerful and flexible way to generate HTML and other text-based content.\n",
    "\n",
    "Key features and benefits of templates in Flask:\n",
    "\n",
    "Separation of Concerns: Templates promote the separation of concerns in web development. You can keep your application logic separate from the HTML presentation, making your code more maintainable and easier to collaborate on.\n",
    "\n",
    "Dynamic Content: Templates allow you to inject dynamic content into your web pages. You can pass data from your Flask application to templates and use template variables to display that data within the HTML.\n",
    "\n",
    "Conditional Logic: Jinja2 templates support conditional statements, loops, and other control structures, making it possible to build complex and dynamic web pages.\n",
    "\n",
    "HTML Escaping: Template engines like Jinja2 automatically escape data by default, helping to prevent common security vulnerabilities like Cross-Site Scripting attacks.\n",
    "\n",
    "Internationalization (i18n): Templates can be used to create multilingual websites by providing translations for text within templates.\n",
    "    \n",
    "\n",
    "The render_template() function in Flask is used to render HTML templates and pass data from the Flask application to the template. It performs the following tasks:\n",
    "\n",
    "Loads the specified template file from the templates directory of your Flask application.\n",
    "\n",
    "Renders the template with any provided data. These context variables can be used within the template to display dynamic content.\n",
    "\n",
    "from flask import Flask, render_template\n",
    "\n",
    "app = Flask(__name__)\n",
    "\n",
    "@app.route('/')\n",
    "def home():\n",
    "    \n",
    "    data = {'name': 'John', 'age': 30}\n",
    "    return render_template('home.html', data=data)\n",
    "\n",
    "if __name__ == '__main__':\n",
    "    app.run(debug=True)\n"
   ]
  },
  {
   "cell_type": "markdown",
   "id": "101311ed",
   "metadata": {},
   "source": [
    "Q5 "
   ]
  },
  {
   "cell_type": "code",
   "execution_count": null,
   "id": "a905f7d6",
   "metadata": {},
   "outputs": [],
   "source": [
    "from flask import Flask, jsonify\n",
    "\n",
    "app = Flask(__name__)\n",
    "\n",
    "tasks = [\n",
    "    {\n",
    "        'id': 1,\n",
    "        'title': 'Task 1',\n",
    "        'done': False\n",
    "    },\n",
    "    {\n",
    "        'id': 2,\n",
    "        'title': 'Task 2',\n",
    "        'done': True\n",
    "    }\n",
    "]\n",
    "\n",
    "@app.route('/api/tasks', methods=['GET'])\n",
    "def get_tasks():\n",
    "    return jsonify({'tasks': tasks})\n",
    "\n",
    "if __name__ == '__main__':\n",
    "    app.run(debug=True)\n"
   ]
  }
 ],
 "metadata": {
  "kernelspec": {
   "display_name": "Python 3 (ipykernel)",
   "language": "python",
   "name": "python3"
  },
  "language_info": {
   "codemirror_mode": {
    "name": "ipython",
    "version": 3
   },
   "file_extension": ".py",
   "mimetype": "text/x-python",
   "name": "python",
   "nbconvert_exporter": "python",
   "pygments_lexer": "ipython3",
   "version": "3.9.13"
  }
 },
 "nbformat": 4,
 "nbformat_minor": 5
}
