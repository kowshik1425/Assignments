{
 "cells": [
  {
   "cell_type": "code",
   "execution_count": null,
   "id": "b716123c",
   "metadata": {},
   "outputs": [],
   "source": [
    "Q1"
   ]
  },
  {
   "cell_type": "code",
   "execution_count": 2,
   "id": "719f264f",
   "metadata": {},
   "outputs": [
    {
     "name": "stdout",
     "output_type": "stream",
     "text": [
      "welcome to datascience masters course\n"
     ]
    }
   ],
   "source": [
    "#CLASS:CLASS:a class is a blueprint or a template for creating objects. It defines the structure and behavior that the objects created from it will have. \n",
    "\n",
    "#OBJECT:An object is an instance of a class. It represents a specific entity with its own set of attributes and methods .\n",
    "\n",
    "#CODE:\n",
    "class course:\n",
    "    def message(self):\n",
    "        return \"welcome to datascience masters course\"\n",
    "a=course()\n",
    "print(a.message())\n",
    "\n",
    "# Here the class name is course and the object we created is \"a\".."
   ]
  },
  {
   "cell_type": "code",
   "execution_count": null,
   "id": "8335f0aa",
   "metadata": {},
   "outputs": [],
   "source": [
    "Q2"
   ]
  },
  {
   "cell_type": "code",
   "execution_count": null,
   "id": "d1e05cba",
   "metadata": {},
   "outputs": [],
   "source": [
    "Encapsulation: Encapsulation refers to the bundling of data  and methods  that operate on the data into a single unit called a class. It allows you to hide the internal details and provide a controlled interface for interacting with the data.\n",
    "\n",
    "Abstraction: Abstraction involves simplifying complex reality by modeling classes based on their essential characteristics. It provides a high-level view of an object's behavior, hiding the unnecessary implementation details and exposing only what's relevant to the user.\n",
    "\n",
    "Inheritance: Inheritance allows a class to inherit properties and behaviors from another class. It promotes code reusability and establishes a hierarchical relationship between classes.\n",
    "\n",
    "Polymorphism: Polymorphism enables objects of different classes to be treated as objects of a common superclass. It allows a single interface to be used for different data types or objects, allowing for more flexible and dynamic programming."
   ]
  },
  {
   "cell_type": "code",
   "execution_count": null,
   "id": "eb2abbfa",
   "metadata": {},
   "outputs": [],
   "source": [
    "Q3"
   ]
  },
  {
   "cell_type": "code",
   "execution_count": 4,
   "id": "1b55e206",
   "metadata": {},
   "outputs": [
    {
     "name": "stdout",
     "output_type": "stream",
     "text": [
      "Hello, my name is kowshik and I am 30 years old.\n",
      "Hello, my name is uma and I am 25 years old.\n"
     ]
    }
   ],
   "source": [
    "#__init__() : __init__()function is a special method in Python classes that is used for initializing objects of the class. It's called a constructor because it constructs or initializes the object by setting its initial state  when the object is created from the class. The __init__() method is automatically called when a new object is instantiated from the class.\n",
    "#CODE:\n",
    "class Person:\n",
    "    def __init__(self, name, age):\n",
    "        self.name = name\n",
    "        self.age = age\n",
    "\n",
    "    def call(self):\n",
    "        print(f\"Hello, my name is {self.name} and I am {self.age} years old.\")\n",
    "\n",
    "\n",
    "person1 = Person(\"kowshik\", 30)\n",
    "person2 = Person(\"uma\", 25)\n",
    "\n",
    "\n",
    "person1.call()\n",
    "person2.call()\n"
   ]
  },
  {
   "cell_type": "code",
   "execution_count": null,
   "id": "85c0429e",
   "metadata": {},
   "outputs": [],
   "source": [
    "Q4"
   ]
  },
  {
   "cell_type": "code",
   "execution_count": null,
   "id": "a6c6415b",
   "metadata": {},
   "outputs": [],
   "source": [
    "=>self parameter is used to refer to the instance of a class within the class itself.\n",
    "=>It acts as a reference to the current object that the method is working with.\n",
    "=>while you are creating function inside a class we must use self.\n",
    "=>The use of \"self\" or any other name as the first parameter is essential for the proper functioning of instance methods in classes.\n",
    "=>self is not a keyword we can use any name you want.\n",
    "=>Using the name self is considered a best practice, and it helps make your code more readable and maintainable\n"
   ]
  },
  {
   "cell_type": "code",
   "execution_count": null,
   "id": "a24a662f",
   "metadata": {},
   "outputs": [],
   "source": [
    "Q5"
   ]
  },
  {
   "cell_type": "code",
   "execution_count": 9,
   "id": "c56168ad",
   "metadata": {},
   "outputs": [
    {
     "name": "stdout",
     "output_type": "stream",
     "text": [
      "this is class1\n",
      "this is my class2\n",
      "this is class1\n",
      "this is my class2\n",
      "Gardening\n",
      "Driving a car\n",
      "Riding a bike\n"
     ]
    }
   ],
   "source": [
    "#Single Inheritance: In single inheritance, a class inherits from only one parent class. \n",
    "#code:\n",
    "class class1:\n",
    "    def test_class1(self):\n",
    "        return \"this is class1\"\n",
    "class class2(class1):\n",
    "    def test_class2(self):\n",
    "        return \"this is my class2\"\n",
    "class class3(class2):\n",
    "    def test_class3(self):\n",
    "        return \"this is my class3\"\n",
    "obj=class3()\n",
    "print(obj.test_class1())\n",
    "print(obj.test_class2())\n",
    "\n",
    "#Multiple Inheritance: In multiple inheritance, a class can inherit from more than one parent class.\n",
    "#code:\n",
    "class class1:\n",
    "    def test_class1(self):\n",
    "        return \"this is class1\"\n",
    "class class2:\n",
    "    def test_class2(self):\n",
    "        return \"this is my class2\"\n",
    "class class3(class1,class2):\n",
    "    pass\n",
    "obj=class3()\n",
    "print(obj.test_class1())\n",
    "print(obj.test_class2())\n",
    "\n",
    "\n",
    "#Multilevel Inheritance: In multilevel inheritance, a class inherits from a parent class, which in turn inherits from another parent class.\n",
    "#code:\n",
    "class Grandparent:\n",
    "    def hobby(self):\n",
    "        return \"Gardening\"\n",
    "\n",
    "class Parent(Grandparent):\n",
    "    pass\n",
    "\n",
    "class Child(Parent):\n",
    "    pass\n",
    "\n",
    "child = Child()\n",
    "print(child.hobby())\n",
    "\n",
    "#Hierarchical Inheritance: In hierarchical inheritance, multiple classes inherit from a single parent class.\n",
    "#code:\n",
    "class Vehicle:\n",
    "    def drive(self):\n",
    "        pass\n",
    "\n",
    "class Car(Vehicle):\n",
    "    def drive(self):\n",
    "        return \"Driving a car\"\n",
    "\n",
    "class Bike(Vehicle):\n",
    "    def drive(self):\n",
    "        return \"Riding a bike\"\n",
    "\n",
    "car = Car()\n",
    "bike = Bike()\n",
    "print(car.drive())  \n",
    "print(bike.drive()) \n",
    "\n",
    "#Hybrid Inheritance: Hybrid inheritance is a combination of any of the above types of inheritance.\n",
    "#code:\n",
    "class A:\n",
    "    pass\n",
    "\n",
    "class B(A):\n",
    "    pass\n",
    "\n",
    "class C(A):\n",
    "    pass\n",
    "\n",
    "class D(B, C):\n",
    "    pass\n",
    "\n",
    "\n",
    "\n"
   ]
  },
  {
   "cell_type": "code",
   "execution_count": null,
   "id": "1dfdcc9a",
   "metadata": {},
   "outputs": [],
   "source": []
  },
  {
   "cell_type": "code",
   "execution_count": null,
   "id": "d56c7c69",
   "metadata": {},
   "outputs": [],
   "source": []
  }
 ],
 "metadata": {
  "kernelspec": {
   "display_name": "Python 3 (ipykernel)",
   "language": "python",
   "name": "python3"
  },
  "language_info": {
   "codemirror_mode": {
    "name": "ipython",
    "version": 3
   },
   "file_extension": ".py",
   "mimetype": "text/x-python",
   "name": "python",
   "nbconvert_exporter": "python",
   "pygments_lexer": "ipython3",
   "version": "3.9.13"
  }
 },
 "nbformat": 4,
 "nbformat_minor": 5
}
