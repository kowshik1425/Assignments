{
 "cells": [
  {
   "cell_type": "code",
   "execution_count": null,
   "id": "46eda623",
   "metadata": {},
   "outputs": [],
   "source": [
    "#1\n",
    "The three measures of central tendency are:\n",
    "Mean: The mean is the average of a set of numbers. It's calculated by adding up all the numbers in the data set and then dividing by the total number of values.\n",
    "Median: The median is the middle value of a data set when it's arranged in ascending or descending order. If there is an even number of values, the median is the average of the two middle values.\n",
    "Mode: The mode is the value that appears most frequently in a data set. It's possible to have more than one mode in a data set, and you can have no mode if all values occur with the same frequency."
   ]
  },
  {
   "cell_type": "code",
   "execution_count": null,
   "id": "268a8e80",
   "metadata": {},
   "outputs": [],
   "source": [
    "#2\n",
    "Mean: The mean represents the average value of the data set. It is calculated by summing up all the values in the dataset and then dividing by the total number of values. The mean is sensitive to extreme values, also known as outliers, because it takes into account every value in the dataset.\n",
    "Median: The median is the middle value of a dataset when it is arranged in ascending or descending order. If there is an even number of values, the median is the average of the two middle values. The median is not influenced by extreme values and is therefore considered a robust measure of central tendency.\n",
    "Mode: The mode is the value that appears most frequently in the dataset. Unlike the mean and median, the mode can be applied to categorical as well as numerical data. A dataset can have one mode, multiple modes, or no mode if all values occur with the same frequency."
   ]
  },
  {
   "cell_type": "code",
   "execution_count": null,
   "id": "529f702b",
   "metadata": {},
   "outputs": [],
   "source": [
    "#3\n",
    "Mean=178+177+176+177+178.2+178+175+179+180+175+178.9+176.2+177+172.5+178+176.5/16\n",
    "Mean=2814.3/16\n",
    "Mean≈175.89\n",
    "\n",
    "Median= 177+177/2\n",
    "Median=177\n",
    "Mode = 178"
   ]
  },
  {
   "cell_type": "code",
   "execution_count": null,
   "id": "9d7beee0",
   "metadata": {},
   "outputs": [],
   "source": [
    "#4\n",
    "Mean=178+177+176+177+178.2+178+175+179+180+175+178.9+176.2+177+172.5+178+176.5/16\n",
    "Mean=2814.3/16\n",
    "Mean≈175.89\n",
    "Mean of squared differences= 4.360022+1.215625+0.01875+1.215625+5.295631+4.360022+0.801406+9.554022+17.065622+0.801406+9.058756+0.094032+1.215625+11.484453+4.360022+0.372656/16\n",
    "Standard deviation=root(5.660312)\n",
    "Standard deviation≈2.3785\n"
   ]
  },
  {
   "cell_type": "code",
   "execution_count": null,
   "id": "69bf9869",
   "metadata": {},
   "outputs": [],
   "source": [
    "#5\n",
    "Range: The range is the simplest measure of dispersion and represents the difference between the largest and smallest values in a dataset. It gives a rough idea of how spread out the data is, but it doesn't take into account the distribution of values within that range.\n",
    "Variance: Variance measures the average squared deviation of each data point from the mean. It provides a more comprehensive measure of dispersion than the range because it considers the deviations of all data points. However, since it's squared, the units of variance are not in the same units as the original data, making it less interpretable.\n",
    "Standard deviation: Standard deviation is the square root of the variance. It measures the average deviation of data points from the mean and is expressed in the same units as the original data. Standard deviation is widely used because it provides a measure of dispersion that is easier to interpret and compare across different datasets.\n",
    "Example:\n",
    "Consider two datasets representing the heights (in inches) of two groups of students:\n",
    "\n",
    "Group A: [65, 67, 68, 70, 71]\n",
    "Group B: [60, 65, 67, 72, 75]\n",
    "\n",
    "Range:\n",
    "For Group A: Range = 71 - 65 = 6 inches\n",
    "For Group B: Range = 75 - 60 = 15 inches\n",
    "Variance:\n",
    "For Group A: Variance = 4.8 square inches (approximately)\n",
    "For Group B: Variance = 32 square inches (approximately)\n",
    "Standard deviation:\n",
    "For Group A: Standard deviation ≈ 2.19 inches\n",
    "For Group B: Standard deviation ≈ 5.66 inches"
   ]
  },
  {
   "cell_type": "code",
   "execution_count": null,
   "id": "654d001e",
   "metadata": {},
   "outputs": [],
   "source": [
    "#6\n",
    "A Venn diagram is a graphical representation used to show the relationships between sets of elements. It consists of overlapping circles or other shapes, with each circle representing a set and the overlapping areas representing the intersections between sets.\n",
    "\n",
    "Venn diagrams are commonly used in mathematics, logic, statistics, and other fields to visually illustrate relationships between different groups or categories of data. They are particularly useful for comparing and contrasting different sets of elements and identifying similarities and differences between them.\n",
    "\n",
    "The basic components of a Venn diagram include:\n",
    "Circles (or other shapes): Each circle represents a set of elements. The elements belonging to each set are contained within the boundaries of the circle.\n",
    "Overlapping areas: These are the regions where the circles intersect. They represent the elements that belong to more than one set, showing the commonality between the sets.\n",
    "Non-overlapping areas: These are the regions within each circle that do not overlap with any other circle. They represent the elements that are unique to each set, showing the differences between the sets"
   ]
  },
  {
   "cell_type": "code",
   "execution_count": null,
   "id": "2d26f5eb",
   "metadata": {},
   "outputs": [],
   "source": [
    "#7\n",
    "To find the set operations for the given sets \n",
    "𝐴={2,3,4,5,6,7}\n",
    "B={0,2,6,8,10}:\n",
    "\n",
    "(i) 𝐴∩𝐵\n",
    "A∩B (the intersection of sets A and B):\n",
    "This represents the elements that are common to both sets A and B.\n",
    "𝐴∩𝐵={2,6}\n",
    "A∩B={2,6}\n",
    "Explanation: The elements 2 and 6 are present in both set A and set B.\n",
    "\n",
    "(ii) 𝐴∪𝐵\n",
    "A∪B (the union of sets A and B):\n",
    "This represents the combination of all unique elements from both sets A and B.\n",
    "𝐴∪𝐵={0,2,3,4,5,6,7,8,10}\n",
    "A∪B={0,2,3,4,5,6,7,8,10}"
   ]
  },
  {
   "cell_type": "code",
   "execution_count": null,
   "id": "8d69a629",
   "metadata": {},
   "outputs": [],
   "source": [
    "#8\n",
    "Skewness in data refers to the measure of asymmetry or lack of symmetry in the distribution of a dataset. In a symmetric distribution, the data is evenly distributed around the mean, with equal tails on both sides. However, in a skewed distribution, the data is not evenly distributed, and one tail is longer or \"skewed\" relative to the other.\n",
    "\n",
    "There are three types of skewness:\n",
    "Positive skewness (right-skewed): In a positively skewed distribution, the tail on the right-hand side of the distribution is longer or fatter than the left-hand side. This means that there are more extreme values on the right side of the distribution, and the majority of the data is clustered on the left side. The mean is typically greater than the median in a positively skewed distribution.\n",
    "Negative skewness (left-skewed): In a negatively skewed distribution, the tail on the left-hand side of the distribution is longer or fatter than the right-hand side. This indicates that there are more extreme values on the left side of the distribution, and the majority of the data is clustered on the right side. The mean is typically less than the median in a negatively skewed distribution.\n",
    "Zero skewness: A distribution is considered to have zero skewness when it is perfectly symmetric, with equal tails on both sides of the distribution. In such cases, the mean and median are equal."
   ]
  },
  {
   "cell_type": "code",
   "execution_count": 1,
   "id": "db126bb1",
   "metadata": {},
   "outputs": [],
   "source": [
    "#9\n",
    "In a right-skewed distribution, the tail on the right-hand side of the distribution is longer or fatter than the left-hand side. This means that there are more extreme values on the right side of the distribution, and the majority of the data is clustered on the left side. As a result:\n",
    "\n",
    "The mean is typically greater than the median in a right-skewed distribution.\n",
    "The median is positioned to the left of the mean."
   ]
  },
  {
   "cell_type": "code",
   "execution_count": null,
   "id": "b3dda131",
   "metadata": {},
   "outputs": [],
   "source": [
    "#10\n",
    "Covariance:\n",
    "Covariance measures the extent to which two variables change together. It indicates the direction of the linear relationship between the variables (positive or negative) but does not provide information about the strength or magnitude of the relationship.\n",
    "Mathematically, covariance is calculated as the average of the product of the deviations of each variable from their respective means.\n",
    "The units of covariance are the product of the units of the two variables. Therefore, the magnitude of covariance depends on the scale of the variables, making it difficult to interpret and compare across different datasets.\n",
    "Correlation:\n",
    "Correlation measures the strength and direction of the linear relationship between two variables. Unlike covariance, correlation is a standardized measure that ranges from -1 to 1, where:\n",
    "Correlation coefficient (r) = 1 indicates a perfect positive linear relationship.\n",
    "Correlation coefficient (r) = -1 indicates a perfect negative linear relationship.\n",
    "Correlation coefficient (r) = 0 indicates no linear relationship."
   ]
  },
  {
   "cell_type": "code",
   "execution_count": null,
   "id": "fd4a426b",
   "metadata": {},
   "outputs": [],
   "source": [
    "#11\n",
    "\n",
    "The formula for calculating the sample mean is: Σ xi / n\n",
    "\n",
    "where:\n",
    "Σ (capital sigma) represents the sum of all the values in the data set (sample).\n",
    "xi (lowercase x with subscript i) represents each individual value in the data set.\n",
    "n represents the total number of values in the data set (sample).\n",
    "Example Calculation:\n",
    "\n",
    "Let's say we have a dataset of exam scores for 5 students: {85, 92, 78, 95, 88}.\n",
    "Σ xi (sum of all values): 85 + 92 + 78 + 95 + 88 = 448\n",
    "n (total number of values): 5\n",
    "Calculate the sample mean:\n",
    "Sample Mean (x̄) = Σ xi / n = 448 / 5 = 89.6\n",
    "Therefore, the average exam score in this sample is 89.6."
   ]
  },
  {
   "cell_type": "code",
   "execution_count": null,
   "id": "0532d777",
   "metadata": {},
   "outputs": [],
   "source": [
    "#12\n",
    "For a normal distribution, the mean, median, and mode are all equal. This is one of the defining characteristics of a normal distribution and is often referred to as symmetry.\n",
    "\n",
    "In a normal distribution:\n",
    "\n",
    "The mean is located at the center of the distribution.\n",
    "The median is also located at the center of the distribution, since the normal distribution is symmetric.\n",
    "The mode, which represents the most frequently occurring value, is also located at the center of the distribution."
   ]
  },
  {
   "cell_type": "code",
   "execution_count": null,
   "id": "6424deb4",
   "metadata": {},
   "outputs": [],
   "source": [
    "#13\n",
    "Covariance:\n",
    "Covariance measures the extent to which two variables change together. It indicates the direction of the linear relationship between the variables (positive or negative) but does not provide information about the strength or magnitude of the relationship.\n",
    "Mathematically, covariance is calculated as the average of the product of the deviations of each variable from their respective means.\n",
    "The units of covariance are the product of the units of the two variables. Therefore, the magnitude of covariance depends on the scale of the variables, making it difficult to interpret and compare across different datasets.\n",
    "Covariance can take any value, positive or negative. A positive covariance indicates a positive relationship (both variables increase or decrease together), while a negative covariance indicates an inverse relationship (one variable increases as the other decreases).\n",
    "Correlation:\n",
    "Correlation measures the strength and direction of the linear relationship between two variables. Unlike covariance, correlation is a standardized measure that ranges from -1 to 1, where:\n",
    "Correlation coefficient (r) = 1 indicates a perfect positive linear relationship.\n",
    "Correlation coefficient (r) = -1 indicates a perfect negative linear relationship.\n",
    "Correlation coefficient (r) = 0 indicates no linear relationship.\n",
    "Correlation is calculated by dividing the covariance of the variables by the product of their standard deviations. This normalization allows for easier interpretation and comparison across different datasets, as correlation coefficients are dimensionless.\n",
    "Correlation provides information about both the direction and strength of the relationship between variables, making it a more informative measure than covariance."
   ]
  },
  {
   "cell_type": "code",
   "execution_count": null,
   "id": "8c4e10e4",
   "metadata": {},
   "outputs": [],
   "source": [
    "#14\n",
    "Measures of Central Tendency:\n",
    "Mean: Outliers can heavily influence the mean, pulling its value towards the extreme end of the distribution. This is because the mean takes into account every value in the dataset, so extreme values have a disproportionate impact.\n",
    "Median: The median is less affected by outliers compared to the mean because it is resistant to extreme values. However, if an outlier is extreme enough, it can still shift the median slightly.\n",
    "Mode: Outliers typically have no impact on the mode because it represents the most frequently occurring value(s) in the dataset. However, in certain cases where an outlier occurs very frequently, it could potentially become the mode.\n",
    "Measures of Dispersion:\n",
    "Range: Outliers can significantly affect the range, especially if they are far removed from the bulk of the data. The range is the difference between the maximum and minimum values in the dataset, so extreme values can widen the range.\n",
    "Variance and Standard Deviation: Outliers can inflate the variance and standard deviation, particularly in datasets with a small sample size. Since these measures rely on the squared differences from the mean, outliers contribute disproportionately to the overall variability.\n",
    "Interquartile Range (IQR): The IQR, which measures the spread of the middle 50% of the data, is less affected by outliers than the range. Outliers only impact the extremes of the dataset, so the IQR provides a more robust measure of dispersion in the presence of outliers."
   ]
  },
  {
   "cell_type": "code",
   "execution_count": null,
   "id": "1df74703",
   "metadata": {},
   "outputs": [],
   "source": []
  },
  {
   "cell_type": "code",
   "execution_count": null,
   "id": "bfc0fefa",
   "metadata": {},
   "outputs": [],
   "source": []
  }
 ],
 "metadata": {
  "kernelspec": {
   "display_name": "Python 3 (ipykernel)",
   "language": "python",
   "name": "python3"
  },
  "language_info": {
   "codemirror_mode": {
    "name": "ipython",
    "version": 3
   },
   "file_extension": ".py",
   "mimetype": "text/x-python",
   "name": "python",
   "nbconvert_exporter": "python",
   "pygments_lexer": "ipython3",
   "version": "3.11.5"
  }
 },
 "nbformat": 4,
 "nbformat_minor": 5
}
